{
  "nbformat": 4,
  "nbformat_minor": 0,
  "metadata": {
    "colab": {
      "provenance": []
    },
    "kernelspec": {
      "name": "python3",
      "display_name": "Python 3"
    },
    "language_info": {
      "name": "python"
    }
  },
  "cells": [
    {
      "cell_type": "markdown",
      "source": [
        "#Extraccion"
      ],
      "metadata": {
        "id": "OzA5g2xAr8Cc"
      }
    },
    {
      "cell_type": "markdown",
      "source": [
        "##1.- Cargando los datos."
      ],
      "metadata": {
        "id": "y1a3dsBUsMM1"
      }
    },
    {
      "cell_type": "code",
      "execution_count": 1,
      "metadata": {
        "id": "mefMjU4Gr7Mi"
      },
      "outputs": [],
      "source": [
        "#Importando\n",
        "import pandas as pd\n",
        "import numpy as np\n",
        "import seaborn as sns\n",
        "import matplotlib.pyplot as plt"
      ]
    },
    {
      "cell_type": "code",
      "source": [
        "df = pd.read_csv('https://raw.githubusercontent.com/alexconstanza/CHALLENGE-2-TELECOMX-P2/refs/heads/main/datos_procesados.csv')\n"
      ],
      "metadata": {
        "id": "g9SFIIaqsXOn"
      },
      "execution_count": 2,
      "outputs": []
    },
    {
      "cell_type": "markdown",
      "source": [
        "##2.- Mostrando los datos."
      ],
      "metadata": {
        "id": "dsUrx2aRscSj"
      }
    },
    {
      "cell_type": "code",
      "source": [
        "df"
      ],
      "metadata": {
        "colab": {
          "base_uri": "https://localhost:8080/",
          "height": 617
        },
        "id": "4oxD-YF3sjoM",
        "outputId": "1eff5275-7438-4bc3-df25-c4c1eec005da"
      },
      "execution_count": 3,
      "outputs": [
        {
          "output_type": "execute_result",
          "data": {
            "text/plain": [
              "              id  cancelado  genero  mayor65  tienePareja  tieneDependentes  \\\n",
              "0     0002-ORFBO          0  Female        0            1                 1   \n",
              "1     0003-MKNFE          0    Male        0            0                 0   \n",
              "2     0004-TLHLJ          1    Male        0            0                 0   \n",
              "3     0011-IGKFF          1    Male        1            1                 0   \n",
              "4     0013-EXCHZ          1  Female        1            1                 0   \n",
              "...          ...        ...     ...      ...          ...               ...   \n",
              "7027  9987-LUTYD          0  Female        0            0                 0   \n",
              "7028  9992-RRAMN          1    Male        0            1                 0   \n",
              "7029  9992-UJOEL          0    Male        0            0                 0   \n",
              "7030  9993-LHIEB          0    Male        0            1                 1   \n",
              "7031  9995-HOTOH          0    Male        0            1                 1   \n",
              "\n",
              "      mesesContrato servicioTelefonico   lineasMultiples servicioInternet  \\\n",
              "0                 9                Yes                No              DSL   \n",
              "1                 9                Yes               Yes              DSL   \n",
              "2                 4                Yes                No      Fiber optic   \n",
              "3                13                Yes                No      Fiber optic   \n",
              "4                 3                Yes                No      Fiber optic   \n",
              "...             ...                ...               ...              ...   \n",
              "7027             13                Yes                No              DSL   \n",
              "7028             22                Yes               Yes      Fiber optic   \n",
              "7029              2                Yes                No              DSL   \n",
              "7030             67                Yes                No              DSL   \n",
              "7031             63                 No  No phone service              DSL   \n",
              "\n",
              "      ... soporteTecnico servicioTv servicioPeliculas    tipoContrato  \\\n",
              "0     ...            Yes        Yes                No        One year   \n",
              "1     ...             No         No               Yes  Month-to-month   \n",
              "2     ...             No         No                No  Month-to-month   \n",
              "3     ...             No        Yes               Yes  Month-to-month   \n",
              "4     ...            Yes        Yes                No  Month-to-month   \n",
              "...   ...            ...        ...               ...             ...   \n",
              "7027  ...            Yes         No                No        One year   \n",
              "7028  ...             No         No               Yes  Month-to-month   \n",
              "7029  ...             No         No                No  Month-to-month   \n",
              "7030  ...            Yes         No               Yes        Two year   \n",
              "7031  ...             No        Yes               Yes        Two year   \n",
              "\n",
              "     facturasElectronicas        metodoPago gastosMensuales  gastosTotales  \\\n",
              "0                       1      Mailed check           65.60         593.30   \n",
              "1                       0      Mailed check           59.90         542.40   \n",
              "2                       1  Electronic check           73.90         280.85   \n",
              "3                       1  Electronic check           98.00        1237.85   \n",
              "4                       1      Mailed check           83.90         267.40   \n",
              "...                   ...               ...             ...            ...   \n",
              "7027                    0      Mailed check           55.15         742.90   \n",
              "7028                    1  Electronic check           85.10        1873.70   \n",
              "7029                    1      Mailed check           50.30          92.75   \n",
              "7030                    0      Mailed check           67.85        4627.65   \n",
              "7031                    0  Electronic check           59.00        3707.60   \n",
              "\n",
              "     gastosDiario  grupoEdad  \n",
              "0        2.186667  < 65 años  \n",
              "1        1.996667  < 65 años  \n",
              "2        2.463333  < 65 años  \n",
              "3        3.266667  ≥ 65 años  \n",
              "4        2.796667  ≥ 65 años  \n",
              "...           ...        ...  \n",
              "7027     1.838333  < 65 años  \n",
              "7028     2.836667  < 65 años  \n",
              "7029     1.676667  < 65 años  \n",
              "7030     2.261667  < 65 años  \n",
              "7031     1.966667  < 65 años  \n",
              "\n",
              "[7032 rows x 23 columns]"
            ],
            "text/html": [
              "\n",
              "  <div id=\"df-07beb202-6c8c-4e3c-b30a-8aa0571bc435\" class=\"colab-df-container\">\n",
              "    <div>\n",
              "<style scoped>\n",
              "    .dataframe tbody tr th:only-of-type {\n",
              "        vertical-align: middle;\n",
              "    }\n",
              "\n",
              "    .dataframe tbody tr th {\n",
              "        vertical-align: top;\n",
              "    }\n",
              "\n",
              "    .dataframe thead th {\n",
              "        text-align: right;\n",
              "    }\n",
              "</style>\n",
              "<table border=\"1\" class=\"dataframe\">\n",
              "  <thead>\n",
              "    <tr style=\"text-align: right;\">\n",
              "      <th></th>\n",
              "      <th>id</th>\n",
              "      <th>cancelado</th>\n",
              "      <th>genero</th>\n",
              "      <th>mayor65</th>\n",
              "      <th>tienePareja</th>\n",
              "      <th>tieneDependentes</th>\n",
              "      <th>mesesContrato</th>\n",
              "      <th>servicioTelefonico</th>\n",
              "      <th>lineasMultiples</th>\n",
              "      <th>servicioInternet</th>\n",
              "      <th>...</th>\n",
              "      <th>soporteTecnico</th>\n",
              "      <th>servicioTv</th>\n",
              "      <th>servicioPeliculas</th>\n",
              "      <th>tipoContrato</th>\n",
              "      <th>facturasElectronicas</th>\n",
              "      <th>metodoPago</th>\n",
              "      <th>gastosMensuales</th>\n",
              "      <th>gastosTotales</th>\n",
              "      <th>gastosDiario</th>\n",
              "      <th>grupoEdad</th>\n",
              "    </tr>\n",
              "  </thead>\n",
              "  <tbody>\n",
              "    <tr>\n",
              "      <th>0</th>\n",
              "      <td>0002-ORFBO</td>\n",
              "      <td>0</td>\n",
              "      <td>Female</td>\n",
              "      <td>0</td>\n",
              "      <td>1</td>\n",
              "      <td>1</td>\n",
              "      <td>9</td>\n",
              "      <td>Yes</td>\n",
              "      <td>No</td>\n",
              "      <td>DSL</td>\n",
              "      <td>...</td>\n",
              "      <td>Yes</td>\n",
              "      <td>Yes</td>\n",
              "      <td>No</td>\n",
              "      <td>One year</td>\n",
              "      <td>1</td>\n",
              "      <td>Mailed check</td>\n",
              "      <td>65.60</td>\n",
              "      <td>593.30</td>\n",
              "      <td>2.186667</td>\n",
              "      <td>&lt; 65 años</td>\n",
              "    </tr>\n",
              "    <tr>\n",
              "      <th>1</th>\n",
              "      <td>0003-MKNFE</td>\n",
              "      <td>0</td>\n",
              "      <td>Male</td>\n",
              "      <td>0</td>\n",
              "      <td>0</td>\n",
              "      <td>0</td>\n",
              "      <td>9</td>\n",
              "      <td>Yes</td>\n",
              "      <td>Yes</td>\n",
              "      <td>DSL</td>\n",
              "      <td>...</td>\n",
              "      <td>No</td>\n",
              "      <td>No</td>\n",
              "      <td>Yes</td>\n",
              "      <td>Month-to-month</td>\n",
              "      <td>0</td>\n",
              "      <td>Mailed check</td>\n",
              "      <td>59.90</td>\n",
              "      <td>542.40</td>\n",
              "      <td>1.996667</td>\n",
              "      <td>&lt; 65 años</td>\n",
              "    </tr>\n",
              "    <tr>\n",
              "      <th>2</th>\n",
              "      <td>0004-TLHLJ</td>\n",
              "      <td>1</td>\n",
              "      <td>Male</td>\n",
              "      <td>0</td>\n",
              "      <td>0</td>\n",
              "      <td>0</td>\n",
              "      <td>4</td>\n",
              "      <td>Yes</td>\n",
              "      <td>No</td>\n",
              "      <td>Fiber optic</td>\n",
              "      <td>...</td>\n",
              "      <td>No</td>\n",
              "      <td>No</td>\n",
              "      <td>No</td>\n",
              "      <td>Month-to-month</td>\n",
              "      <td>1</td>\n",
              "      <td>Electronic check</td>\n",
              "      <td>73.90</td>\n",
              "      <td>280.85</td>\n",
              "      <td>2.463333</td>\n",
              "      <td>&lt; 65 años</td>\n",
              "    </tr>\n",
              "    <tr>\n",
              "      <th>3</th>\n",
              "      <td>0011-IGKFF</td>\n",
              "      <td>1</td>\n",
              "      <td>Male</td>\n",
              "      <td>1</td>\n",
              "      <td>1</td>\n",
              "      <td>0</td>\n",
              "      <td>13</td>\n",
              "      <td>Yes</td>\n",
              "      <td>No</td>\n",
              "      <td>Fiber optic</td>\n",
              "      <td>...</td>\n",
              "      <td>No</td>\n",
              "      <td>Yes</td>\n",
              "      <td>Yes</td>\n",
              "      <td>Month-to-month</td>\n",
              "      <td>1</td>\n",
              "      <td>Electronic check</td>\n",
              "      <td>98.00</td>\n",
              "      <td>1237.85</td>\n",
              "      <td>3.266667</td>\n",
              "      <td>≥ 65 años</td>\n",
              "    </tr>\n",
              "    <tr>\n",
              "      <th>4</th>\n",
              "      <td>0013-EXCHZ</td>\n",
              "      <td>1</td>\n",
              "      <td>Female</td>\n",
              "      <td>1</td>\n",
              "      <td>1</td>\n",
              "      <td>0</td>\n",
              "      <td>3</td>\n",
              "      <td>Yes</td>\n",
              "      <td>No</td>\n",
              "      <td>Fiber optic</td>\n",
              "      <td>...</td>\n",
              "      <td>Yes</td>\n",
              "      <td>Yes</td>\n",
              "      <td>No</td>\n",
              "      <td>Month-to-month</td>\n",
              "      <td>1</td>\n",
              "      <td>Mailed check</td>\n",
              "      <td>83.90</td>\n",
              "      <td>267.40</td>\n",
              "      <td>2.796667</td>\n",
              "      <td>≥ 65 años</td>\n",
              "    </tr>\n",
              "    <tr>\n",
              "      <th>...</th>\n",
              "      <td>...</td>\n",
              "      <td>...</td>\n",
              "      <td>...</td>\n",
              "      <td>...</td>\n",
              "      <td>...</td>\n",
              "      <td>...</td>\n",
              "      <td>...</td>\n",
              "      <td>...</td>\n",
              "      <td>...</td>\n",
              "      <td>...</td>\n",
              "      <td>...</td>\n",
              "      <td>...</td>\n",
              "      <td>...</td>\n",
              "      <td>...</td>\n",
              "      <td>...</td>\n",
              "      <td>...</td>\n",
              "      <td>...</td>\n",
              "      <td>...</td>\n",
              "      <td>...</td>\n",
              "      <td>...</td>\n",
              "      <td>...</td>\n",
              "    </tr>\n",
              "    <tr>\n",
              "      <th>7027</th>\n",
              "      <td>9987-LUTYD</td>\n",
              "      <td>0</td>\n",
              "      <td>Female</td>\n",
              "      <td>0</td>\n",
              "      <td>0</td>\n",
              "      <td>0</td>\n",
              "      <td>13</td>\n",
              "      <td>Yes</td>\n",
              "      <td>No</td>\n",
              "      <td>DSL</td>\n",
              "      <td>...</td>\n",
              "      <td>Yes</td>\n",
              "      <td>No</td>\n",
              "      <td>No</td>\n",
              "      <td>One year</td>\n",
              "      <td>0</td>\n",
              "      <td>Mailed check</td>\n",
              "      <td>55.15</td>\n",
              "      <td>742.90</td>\n",
              "      <td>1.838333</td>\n",
              "      <td>&lt; 65 años</td>\n",
              "    </tr>\n",
              "    <tr>\n",
              "      <th>7028</th>\n",
              "      <td>9992-RRAMN</td>\n",
              "      <td>1</td>\n",
              "      <td>Male</td>\n",
              "      <td>0</td>\n",
              "      <td>1</td>\n",
              "      <td>0</td>\n",
              "      <td>22</td>\n",
              "      <td>Yes</td>\n",
              "      <td>Yes</td>\n",
              "      <td>Fiber optic</td>\n",
              "      <td>...</td>\n",
              "      <td>No</td>\n",
              "      <td>No</td>\n",
              "      <td>Yes</td>\n",
              "      <td>Month-to-month</td>\n",
              "      <td>1</td>\n",
              "      <td>Electronic check</td>\n",
              "      <td>85.10</td>\n",
              "      <td>1873.70</td>\n",
              "      <td>2.836667</td>\n",
              "      <td>&lt; 65 años</td>\n",
              "    </tr>\n",
              "    <tr>\n",
              "      <th>7029</th>\n",
              "      <td>9992-UJOEL</td>\n",
              "      <td>0</td>\n",
              "      <td>Male</td>\n",
              "      <td>0</td>\n",
              "      <td>0</td>\n",
              "      <td>0</td>\n",
              "      <td>2</td>\n",
              "      <td>Yes</td>\n",
              "      <td>No</td>\n",
              "      <td>DSL</td>\n",
              "      <td>...</td>\n",
              "      <td>No</td>\n",
              "      <td>No</td>\n",
              "      <td>No</td>\n",
              "      <td>Month-to-month</td>\n",
              "      <td>1</td>\n",
              "      <td>Mailed check</td>\n",
              "      <td>50.30</td>\n",
              "      <td>92.75</td>\n",
              "      <td>1.676667</td>\n",
              "      <td>&lt; 65 años</td>\n",
              "    </tr>\n",
              "    <tr>\n",
              "      <th>7030</th>\n",
              "      <td>9993-LHIEB</td>\n",
              "      <td>0</td>\n",
              "      <td>Male</td>\n",
              "      <td>0</td>\n",
              "      <td>1</td>\n",
              "      <td>1</td>\n",
              "      <td>67</td>\n",
              "      <td>Yes</td>\n",
              "      <td>No</td>\n",
              "      <td>DSL</td>\n",
              "      <td>...</td>\n",
              "      <td>Yes</td>\n",
              "      <td>No</td>\n",
              "      <td>Yes</td>\n",
              "      <td>Two year</td>\n",
              "      <td>0</td>\n",
              "      <td>Mailed check</td>\n",
              "      <td>67.85</td>\n",
              "      <td>4627.65</td>\n",
              "      <td>2.261667</td>\n",
              "      <td>&lt; 65 años</td>\n",
              "    </tr>\n",
              "    <tr>\n",
              "      <th>7031</th>\n",
              "      <td>9995-HOTOH</td>\n",
              "      <td>0</td>\n",
              "      <td>Male</td>\n",
              "      <td>0</td>\n",
              "      <td>1</td>\n",
              "      <td>1</td>\n",
              "      <td>63</td>\n",
              "      <td>No</td>\n",
              "      <td>No phone service</td>\n",
              "      <td>DSL</td>\n",
              "      <td>...</td>\n",
              "      <td>No</td>\n",
              "      <td>Yes</td>\n",
              "      <td>Yes</td>\n",
              "      <td>Two year</td>\n",
              "      <td>0</td>\n",
              "      <td>Electronic check</td>\n",
              "      <td>59.00</td>\n",
              "      <td>3707.60</td>\n",
              "      <td>1.966667</td>\n",
              "      <td>&lt; 65 años</td>\n",
              "    </tr>\n",
              "  </tbody>\n",
              "</table>\n",
              "<p>7032 rows × 23 columns</p>\n",
              "</div>\n",
              "    <div class=\"colab-df-buttons\">\n",
              "\n",
              "  <div class=\"colab-df-container\">\n",
              "    <button class=\"colab-df-convert\" onclick=\"convertToInteractive('df-07beb202-6c8c-4e3c-b30a-8aa0571bc435')\"\n",
              "            title=\"Convert this dataframe to an interactive table.\"\n",
              "            style=\"display:none;\">\n",
              "\n",
              "  <svg xmlns=\"http://www.w3.org/2000/svg\" height=\"24px\" viewBox=\"0 -960 960 960\">\n",
              "    <path d=\"M120-120v-720h720v720H120Zm60-500h600v-160H180v160Zm220 220h160v-160H400v160Zm0 220h160v-160H400v160ZM180-400h160v-160H180v160Zm440 0h160v-160H620v160ZM180-180h160v-160H180v160Zm440 0h160v-160H620v160Z\"/>\n",
              "  </svg>\n",
              "    </button>\n",
              "\n",
              "  <style>\n",
              "    .colab-df-container {\n",
              "      display:flex;\n",
              "      gap: 12px;\n",
              "    }\n",
              "\n",
              "    .colab-df-convert {\n",
              "      background-color: #E8F0FE;\n",
              "      border: none;\n",
              "      border-radius: 50%;\n",
              "      cursor: pointer;\n",
              "      display: none;\n",
              "      fill: #1967D2;\n",
              "      height: 32px;\n",
              "      padding: 0 0 0 0;\n",
              "      width: 32px;\n",
              "    }\n",
              "\n",
              "    .colab-df-convert:hover {\n",
              "      background-color: #E2EBFA;\n",
              "      box-shadow: 0px 1px 2px rgba(60, 64, 67, 0.3), 0px 1px 3px 1px rgba(60, 64, 67, 0.15);\n",
              "      fill: #174EA6;\n",
              "    }\n",
              "\n",
              "    .colab-df-buttons div {\n",
              "      margin-bottom: 4px;\n",
              "    }\n",
              "\n",
              "    [theme=dark] .colab-df-convert {\n",
              "      background-color: #3B4455;\n",
              "      fill: #D2E3FC;\n",
              "    }\n",
              "\n",
              "    [theme=dark] .colab-df-convert:hover {\n",
              "      background-color: #434B5C;\n",
              "      box-shadow: 0px 1px 3px 1px rgba(0, 0, 0, 0.15);\n",
              "      filter: drop-shadow(0px 1px 2px rgba(0, 0, 0, 0.3));\n",
              "      fill: #FFFFFF;\n",
              "    }\n",
              "  </style>\n",
              "\n",
              "    <script>\n",
              "      const buttonEl =\n",
              "        document.querySelector('#df-07beb202-6c8c-4e3c-b30a-8aa0571bc435 button.colab-df-convert');\n",
              "      buttonEl.style.display =\n",
              "        google.colab.kernel.accessAllowed ? 'block' : 'none';\n",
              "\n",
              "      async function convertToInteractive(key) {\n",
              "        const element = document.querySelector('#df-07beb202-6c8c-4e3c-b30a-8aa0571bc435');\n",
              "        const dataTable =\n",
              "          await google.colab.kernel.invokeFunction('convertToInteractive',\n",
              "                                                    [key], {});\n",
              "        if (!dataTable) return;\n",
              "\n",
              "        const docLinkHtml = 'Like what you see? Visit the ' +\n",
              "          '<a target=\"_blank\" href=https://colab.research.google.com/notebooks/data_table.ipynb>data table notebook</a>'\n",
              "          + ' to learn more about interactive tables.';\n",
              "        element.innerHTML = '';\n",
              "        dataTable['output_type'] = 'display_data';\n",
              "        await google.colab.output.renderOutput(dataTable, element);\n",
              "        const docLink = document.createElement('div');\n",
              "        docLink.innerHTML = docLinkHtml;\n",
              "        element.appendChild(docLink);\n",
              "      }\n",
              "    </script>\n",
              "  </div>\n",
              "\n",
              "\n",
              "    <div id=\"df-ffa2f298-5afb-49c6-a485-cdb3cfc4174b\">\n",
              "      <button class=\"colab-df-quickchart\" onclick=\"quickchart('df-ffa2f298-5afb-49c6-a485-cdb3cfc4174b')\"\n",
              "                title=\"Suggest charts\"\n",
              "                style=\"display:none;\">\n",
              "\n",
              "<svg xmlns=\"http://www.w3.org/2000/svg\" height=\"24px\"viewBox=\"0 0 24 24\"\n",
              "     width=\"24px\">\n",
              "    <g>\n",
              "        <path d=\"M19 3H5c-1.1 0-2 .9-2 2v14c0 1.1.9 2 2 2h14c1.1 0 2-.9 2-2V5c0-1.1-.9-2-2-2zM9 17H7v-7h2v7zm4 0h-2V7h2v10zm4 0h-2v-4h2v4z\"/>\n",
              "    </g>\n",
              "</svg>\n",
              "      </button>\n",
              "\n",
              "<style>\n",
              "  .colab-df-quickchart {\n",
              "      --bg-color: #E8F0FE;\n",
              "      --fill-color: #1967D2;\n",
              "      --hover-bg-color: #E2EBFA;\n",
              "      --hover-fill-color: #174EA6;\n",
              "      --disabled-fill-color: #AAA;\n",
              "      --disabled-bg-color: #DDD;\n",
              "  }\n",
              "\n",
              "  [theme=dark] .colab-df-quickchart {\n",
              "      --bg-color: #3B4455;\n",
              "      --fill-color: #D2E3FC;\n",
              "      --hover-bg-color: #434B5C;\n",
              "      --hover-fill-color: #FFFFFF;\n",
              "      --disabled-bg-color: #3B4455;\n",
              "      --disabled-fill-color: #666;\n",
              "  }\n",
              "\n",
              "  .colab-df-quickchart {\n",
              "    background-color: var(--bg-color);\n",
              "    border: none;\n",
              "    border-radius: 50%;\n",
              "    cursor: pointer;\n",
              "    display: none;\n",
              "    fill: var(--fill-color);\n",
              "    height: 32px;\n",
              "    padding: 0;\n",
              "    width: 32px;\n",
              "  }\n",
              "\n",
              "  .colab-df-quickchart:hover {\n",
              "    background-color: var(--hover-bg-color);\n",
              "    box-shadow: 0 1px 2px rgba(60, 64, 67, 0.3), 0 1px 3px 1px rgba(60, 64, 67, 0.15);\n",
              "    fill: var(--button-hover-fill-color);\n",
              "  }\n",
              "\n",
              "  .colab-df-quickchart-complete:disabled,\n",
              "  .colab-df-quickchart-complete:disabled:hover {\n",
              "    background-color: var(--disabled-bg-color);\n",
              "    fill: var(--disabled-fill-color);\n",
              "    box-shadow: none;\n",
              "  }\n",
              "\n",
              "  .colab-df-spinner {\n",
              "    border: 2px solid var(--fill-color);\n",
              "    border-color: transparent;\n",
              "    border-bottom-color: var(--fill-color);\n",
              "    animation:\n",
              "      spin 1s steps(1) infinite;\n",
              "  }\n",
              "\n",
              "  @keyframes spin {\n",
              "    0% {\n",
              "      border-color: transparent;\n",
              "      border-bottom-color: var(--fill-color);\n",
              "      border-left-color: var(--fill-color);\n",
              "    }\n",
              "    20% {\n",
              "      border-color: transparent;\n",
              "      border-left-color: var(--fill-color);\n",
              "      border-top-color: var(--fill-color);\n",
              "    }\n",
              "    30% {\n",
              "      border-color: transparent;\n",
              "      border-left-color: var(--fill-color);\n",
              "      border-top-color: var(--fill-color);\n",
              "      border-right-color: var(--fill-color);\n",
              "    }\n",
              "    40% {\n",
              "      border-color: transparent;\n",
              "      border-right-color: var(--fill-color);\n",
              "      border-top-color: var(--fill-color);\n",
              "    }\n",
              "    60% {\n",
              "      border-color: transparent;\n",
              "      border-right-color: var(--fill-color);\n",
              "    }\n",
              "    80% {\n",
              "      border-color: transparent;\n",
              "      border-right-color: var(--fill-color);\n",
              "      border-bottom-color: var(--fill-color);\n",
              "    }\n",
              "    90% {\n",
              "      border-color: transparent;\n",
              "      border-bottom-color: var(--fill-color);\n",
              "    }\n",
              "  }\n",
              "</style>\n",
              "\n",
              "      <script>\n",
              "        async function quickchart(key) {\n",
              "          const quickchartButtonEl =\n",
              "            document.querySelector('#' + key + ' button');\n",
              "          quickchartButtonEl.disabled = true;  // To prevent multiple clicks.\n",
              "          quickchartButtonEl.classList.add('colab-df-spinner');\n",
              "          try {\n",
              "            const charts = await google.colab.kernel.invokeFunction(\n",
              "                'suggestCharts', [key], {});\n",
              "          } catch (error) {\n",
              "            console.error('Error during call to suggestCharts:', error);\n",
              "          }\n",
              "          quickchartButtonEl.classList.remove('colab-df-spinner');\n",
              "          quickchartButtonEl.classList.add('colab-df-quickchart-complete');\n",
              "        }\n",
              "        (() => {\n",
              "          let quickchartButtonEl =\n",
              "            document.querySelector('#df-ffa2f298-5afb-49c6-a485-cdb3cfc4174b button');\n",
              "          quickchartButtonEl.style.display =\n",
              "            google.colab.kernel.accessAllowed ? 'block' : 'none';\n",
              "        })();\n",
              "      </script>\n",
              "    </div>\n",
              "\n",
              "  <div id=\"id_8e78d67c-e920-4c65-82c9-a4468d0de388\">\n",
              "    <style>\n",
              "      .colab-df-generate {\n",
              "        background-color: #E8F0FE;\n",
              "        border: none;\n",
              "        border-radius: 50%;\n",
              "        cursor: pointer;\n",
              "        display: none;\n",
              "        fill: #1967D2;\n",
              "        height: 32px;\n",
              "        padding: 0 0 0 0;\n",
              "        width: 32px;\n",
              "      }\n",
              "\n",
              "      .colab-df-generate:hover {\n",
              "        background-color: #E2EBFA;\n",
              "        box-shadow: 0px 1px 2px rgba(60, 64, 67, 0.3), 0px 1px 3px 1px rgba(60, 64, 67, 0.15);\n",
              "        fill: #174EA6;\n",
              "      }\n",
              "\n",
              "      [theme=dark] .colab-df-generate {\n",
              "        background-color: #3B4455;\n",
              "        fill: #D2E3FC;\n",
              "      }\n",
              "\n",
              "      [theme=dark] .colab-df-generate:hover {\n",
              "        background-color: #434B5C;\n",
              "        box-shadow: 0px 1px 3px 1px rgba(0, 0, 0, 0.15);\n",
              "        filter: drop-shadow(0px 1px 2px rgba(0, 0, 0, 0.3));\n",
              "        fill: #FFFFFF;\n",
              "      }\n",
              "    </style>\n",
              "    <button class=\"colab-df-generate\" onclick=\"generateWithVariable('df')\"\n",
              "            title=\"Generate code using this dataframe.\"\n",
              "            style=\"display:none;\">\n",
              "\n",
              "  <svg xmlns=\"http://www.w3.org/2000/svg\" height=\"24px\"viewBox=\"0 0 24 24\"\n",
              "       width=\"24px\">\n",
              "    <path d=\"M7,19H8.4L18.45,9,17,7.55,7,17.6ZM5,21V16.75L18.45,3.32a2,2,0,0,1,2.83,0l1.4,1.43a1.91,1.91,0,0,1,.58,1.4,1.91,1.91,0,0,1-.58,1.4L9.25,21ZM18.45,9,17,7.55Zm-12,3A5.31,5.31,0,0,0,4.9,8.1,5.31,5.31,0,0,0,1,6.5,5.31,5.31,0,0,0,4.9,4.9,5.31,5.31,0,0,0,6.5,1,5.31,5.31,0,0,0,8.1,4.9,5.31,5.31,0,0,0,12,6.5,5.46,5.46,0,0,0,6.5,12Z\"/>\n",
              "  </svg>\n",
              "    </button>\n",
              "    <script>\n",
              "      (() => {\n",
              "      const buttonEl =\n",
              "        document.querySelector('#id_8e78d67c-e920-4c65-82c9-a4468d0de388 button.colab-df-generate');\n",
              "      buttonEl.style.display =\n",
              "        google.colab.kernel.accessAllowed ? 'block' : 'none';\n",
              "\n",
              "      buttonEl.onclick = () => {\n",
              "        google.colab.notebook.generateWithVariable('df');\n",
              "      }\n",
              "      })();\n",
              "    </script>\n",
              "  </div>\n",
              "\n",
              "    </div>\n",
              "  </div>\n"
            ],
            "application/vnd.google.colaboratory.intrinsic+json": {
              "type": "dataframe",
              "variable_name": "df"
            }
          },
          "metadata": {},
          "execution_count": 3
        }
      ]
    },
    {
      "cell_type": "markdown",
      "source": [
        "##3.- Eliminacion de columnas irrelevantes:"
      ],
      "metadata": {
        "id": "qCIH_Kn8s6or"
      }
    },
    {
      "cell_type": "code",
      "source": [
        "df = df.drop(columns = ['id'])"
      ],
      "metadata": {
        "id": "Pe-kn3wEslqd"
      },
      "execution_count": 4,
      "outputs": []
    },
    {
      "cell_type": "code",
      "source": [
        "df.info()"
      ],
      "metadata": {
        "colab": {
          "base_uri": "https://localhost:8080/"
        },
        "id": "pJPoHcNDtfvk",
        "outputId": "2c118685-1c06-490d-d0e7-fced9826819e"
      },
      "execution_count": 5,
      "outputs": [
        {
          "output_type": "stream",
          "name": "stdout",
          "text": [
            "<class 'pandas.core.frame.DataFrame'>\n",
            "RangeIndex: 7032 entries, 0 to 7031\n",
            "Data columns (total 22 columns):\n",
            " #   Column                  Non-Null Count  Dtype  \n",
            "---  ------                  --------------  -----  \n",
            " 0   cancelado               7032 non-null   int64  \n",
            " 1   genero                  7032 non-null   object \n",
            " 2   mayor65                 7032 non-null   int64  \n",
            " 3   tienePareja             7032 non-null   int64  \n",
            " 4   tieneDependentes        7032 non-null   int64  \n",
            " 5   mesesContrato           7032 non-null   int64  \n",
            " 6   servicioTelefonico      7032 non-null   object \n",
            " 7   lineasMultiples         7032 non-null   object \n",
            " 8   servicioInternet        7032 non-null   object \n",
            " 9   seguridadLinea          7032 non-null   object \n",
            " 10  SoporteLinea            7032 non-null   object \n",
            " 11  proteccionDispositivos  7032 non-null   object \n",
            " 12  soporteTecnico          7032 non-null   object \n",
            " 13  servicioTv              7032 non-null   object \n",
            " 14  servicioPeliculas       7032 non-null   object \n",
            " 15  tipoContrato            7032 non-null   object \n",
            " 16  facturasElectronicas    7032 non-null   int64  \n",
            " 17  metodoPago              7032 non-null   object \n",
            " 18  gastosMensuales         7032 non-null   float64\n",
            " 19  gastosTotales           7032 non-null   float64\n",
            " 20  gastosDiario            7032 non-null   float64\n",
            " 21  grupoEdad               7032 non-null   object \n",
            "dtypes: float64(3), int64(6), object(13)\n",
            "memory usage: 1.2+ MB\n"
          ]
        }
      ]
    },
    {
      "cell_type": "code",
      "source": [
        "columns_to_drop = ['seguridadLinea', 'SoporteLinea', 'proteccionDispositivos', 'soporteTecnico', 'servicioTv', 'servicioPeliculas', 'gastosDiario', 'facturasElectronicas', 'genero', 'tienePareja', 'lineasMultiples', 'servicioTelefonico', 'servicioInternet', 'grupoEdad']\n",
        "df = df.drop(columns=columns_to_drop, errors='ignore')"
      ],
      "metadata": {
        "id": "eoZDiIN_tjmz"
      },
      "execution_count": 6,
      "outputs": []
    },
    {
      "cell_type": "code",
      "source": [
        "df.head()"
      ],
      "metadata": {
        "colab": {
          "base_uri": "https://localhost:8080/",
          "height": 206
        },
        "id": "Ven29uS_vpNZ",
        "outputId": "c61fb296-a52c-44fd-fa66-4eeee38aef01"
      },
      "execution_count": 7,
      "outputs": [
        {
          "output_type": "execute_result",
          "data": {
            "text/plain": [
              "   cancelado  mayor65  tieneDependentes  mesesContrato    tipoContrato  \\\n",
              "0          0        0                 1              9        One year   \n",
              "1          0        0                 0              9  Month-to-month   \n",
              "2          1        0                 0              4  Month-to-month   \n",
              "3          1        1                 0             13  Month-to-month   \n",
              "4          1        1                 0              3  Month-to-month   \n",
              "\n",
              "         metodoPago  gastosMensuales  gastosTotales  \n",
              "0      Mailed check             65.6         593.30  \n",
              "1      Mailed check             59.9         542.40  \n",
              "2  Electronic check             73.9         280.85  \n",
              "3  Electronic check             98.0        1237.85  \n",
              "4      Mailed check             83.9         267.40  "
            ],
            "text/html": [
              "\n",
              "  <div id=\"df-7a8f9638-30af-4247-9a71-a36d97658489\" class=\"colab-df-container\">\n",
              "    <div>\n",
              "<style scoped>\n",
              "    .dataframe tbody tr th:only-of-type {\n",
              "        vertical-align: middle;\n",
              "    }\n",
              "\n",
              "    .dataframe tbody tr th {\n",
              "        vertical-align: top;\n",
              "    }\n",
              "\n",
              "    .dataframe thead th {\n",
              "        text-align: right;\n",
              "    }\n",
              "</style>\n",
              "<table border=\"1\" class=\"dataframe\">\n",
              "  <thead>\n",
              "    <tr style=\"text-align: right;\">\n",
              "      <th></th>\n",
              "      <th>cancelado</th>\n",
              "      <th>mayor65</th>\n",
              "      <th>tieneDependentes</th>\n",
              "      <th>mesesContrato</th>\n",
              "      <th>tipoContrato</th>\n",
              "      <th>metodoPago</th>\n",
              "      <th>gastosMensuales</th>\n",
              "      <th>gastosTotales</th>\n",
              "    </tr>\n",
              "  </thead>\n",
              "  <tbody>\n",
              "    <tr>\n",
              "      <th>0</th>\n",
              "      <td>0</td>\n",
              "      <td>0</td>\n",
              "      <td>1</td>\n",
              "      <td>9</td>\n",
              "      <td>One year</td>\n",
              "      <td>Mailed check</td>\n",
              "      <td>65.6</td>\n",
              "      <td>593.30</td>\n",
              "    </tr>\n",
              "    <tr>\n",
              "      <th>1</th>\n",
              "      <td>0</td>\n",
              "      <td>0</td>\n",
              "      <td>0</td>\n",
              "      <td>9</td>\n",
              "      <td>Month-to-month</td>\n",
              "      <td>Mailed check</td>\n",
              "      <td>59.9</td>\n",
              "      <td>542.40</td>\n",
              "    </tr>\n",
              "    <tr>\n",
              "      <th>2</th>\n",
              "      <td>1</td>\n",
              "      <td>0</td>\n",
              "      <td>0</td>\n",
              "      <td>4</td>\n",
              "      <td>Month-to-month</td>\n",
              "      <td>Electronic check</td>\n",
              "      <td>73.9</td>\n",
              "      <td>280.85</td>\n",
              "    </tr>\n",
              "    <tr>\n",
              "      <th>3</th>\n",
              "      <td>1</td>\n",
              "      <td>1</td>\n",
              "      <td>0</td>\n",
              "      <td>13</td>\n",
              "      <td>Month-to-month</td>\n",
              "      <td>Electronic check</td>\n",
              "      <td>98.0</td>\n",
              "      <td>1237.85</td>\n",
              "    </tr>\n",
              "    <tr>\n",
              "      <th>4</th>\n",
              "      <td>1</td>\n",
              "      <td>1</td>\n",
              "      <td>0</td>\n",
              "      <td>3</td>\n",
              "      <td>Month-to-month</td>\n",
              "      <td>Mailed check</td>\n",
              "      <td>83.9</td>\n",
              "      <td>267.40</td>\n",
              "    </tr>\n",
              "  </tbody>\n",
              "</table>\n",
              "</div>\n",
              "    <div class=\"colab-df-buttons\">\n",
              "\n",
              "  <div class=\"colab-df-container\">\n",
              "    <button class=\"colab-df-convert\" onclick=\"convertToInteractive('df-7a8f9638-30af-4247-9a71-a36d97658489')\"\n",
              "            title=\"Convert this dataframe to an interactive table.\"\n",
              "            style=\"display:none;\">\n",
              "\n",
              "  <svg xmlns=\"http://www.w3.org/2000/svg\" height=\"24px\" viewBox=\"0 -960 960 960\">\n",
              "    <path d=\"M120-120v-720h720v720H120Zm60-500h600v-160H180v160Zm220 220h160v-160H400v160Zm0 220h160v-160H400v160ZM180-400h160v-160H180v160Zm440 0h160v-160H620v160ZM180-180h160v-160H180v160Zm440 0h160v-160H620v160Z\"/>\n",
              "  </svg>\n",
              "    </button>\n",
              "\n",
              "  <style>\n",
              "    .colab-df-container {\n",
              "      display:flex;\n",
              "      gap: 12px;\n",
              "    }\n",
              "\n",
              "    .colab-df-convert {\n",
              "      background-color: #E8F0FE;\n",
              "      border: none;\n",
              "      border-radius: 50%;\n",
              "      cursor: pointer;\n",
              "      display: none;\n",
              "      fill: #1967D2;\n",
              "      height: 32px;\n",
              "      padding: 0 0 0 0;\n",
              "      width: 32px;\n",
              "    }\n",
              "\n",
              "    .colab-df-convert:hover {\n",
              "      background-color: #E2EBFA;\n",
              "      box-shadow: 0px 1px 2px rgba(60, 64, 67, 0.3), 0px 1px 3px 1px rgba(60, 64, 67, 0.15);\n",
              "      fill: #174EA6;\n",
              "    }\n",
              "\n",
              "    .colab-df-buttons div {\n",
              "      margin-bottom: 4px;\n",
              "    }\n",
              "\n",
              "    [theme=dark] .colab-df-convert {\n",
              "      background-color: #3B4455;\n",
              "      fill: #D2E3FC;\n",
              "    }\n",
              "\n",
              "    [theme=dark] .colab-df-convert:hover {\n",
              "      background-color: #434B5C;\n",
              "      box-shadow: 0px 1px 3px 1px rgba(0, 0, 0, 0.15);\n",
              "      filter: drop-shadow(0px 1px 2px rgba(0, 0, 0, 0.3));\n",
              "      fill: #FFFFFF;\n",
              "    }\n",
              "  </style>\n",
              "\n",
              "    <script>\n",
              "      const buttonEl =\n",
              "        document.querySelector('#df-7a8f9638-30af-4247-9a71-a36d97658489 button.colab-df-convert');\n",
              "      buttonEl.style.display =\n",
              "        google.colab.kernel.accessAllowed ? 'block' : 'none';\n",
              "\n",
              "      async function convertToInteractive(key) {\n",
              "        const element = document.querySelector('#df-7a8f9638-30af-4247-9a71-a36d97658489');\n",
              "        const dataTable =\n",
              "          await google.colab.kernel.invokeFunction('convertToInteractive',\n",
              "                                                    [key], {});\n",
              "        if (!dataTable) return;\n",
              "\n",
              "        const docLinkHtml = 'Like what you see? Visit the ' +\n",
              "          '<a target=\"_blank\" href=https://colab.research.google.com/notebooks/data_table.ipynb>data table notebook</a>'\n",
              "          + ' to learn more about interactive tables.';\n",
              "        element.innerHTML = '';\n",
              "        dataTable['output_type'] = 'display_data';\n",
              "        await google.colab.output.renderOutput(dataTable, element);\n",
              "        const docLink = document.createElement('div');\n",
              "        docLink.innerHTML = docLinkHtml;\n",
              "        element.appendChild(docLink);\n",
              "      }\n",
              "    </script>\n",
              "  </div>\n",
              "\n",
              "\n",
              "    <div id=\"df-c203efa0-8683-4c11-b7f2-5d850c7c5084\">\n",
              "      <button class=\"colab-df-quickchart\" onclick=\"quickchart('df-c203efa0-8683-4c11-b7f2-5d850c7c5084')\"\n",
              "                title=\"Suggest charts\"\n",
              "                style=\"display:none;\">\n",
              "\n",
              "<svg xmlns=\"http://www.w3.org/2000/svg\" height=\"24px\"viewBox=\"0 0 24 24\"\n",
              "     width=\"24px\">\n",
              "    <g>\n",
              "        <path d=\"M19 3H5c-1.1 0-2 .9-2 2v14c0 1.1.9 2 2 2h14c1.1 0 2-.9 2-2V5c0-1.1-.9-2-2-2zM9 17H7v-7h2v7zm4 0h-2V7h2v10zm4 0h-2v-4h2v4z\"/>\n",
              "    </g>\n",
              "</svg>\n",
              "      </button>\n",
              "\n",
              "<style>\n",
              "  .colab-df-quickchart {\n",
              "      --bg-color: #E8F0FE;\n",
              "      --fill-color: #1967D2;\n",
              "      --hover-bg-color: #E2EBFA;\n",
              "      --hover-fill-color: #174EA6;\n",
              "      --disabled-fill-color: #AAA;\n",
              "      --disabled-bg-color: #DDD;\n",
              "  }\n",
              "\n",
              "  [theme=dark] .colab-df-quickchart {\n",
              "      --bg-color: #3B4455;\n",
              "      --fill-color: #D2E3FC;\n",
              "      --hover-bg-color: #434B5C;\n",
              "      --hover-fill-color: #FFFFFF;\n",
              "      --disabled-bg-color: #3B4455;\n",
              "      --disabled-fill-color: #666;\n",
              "  }\n",
              "\n",
              "  .colab-df-quickchart {\n",
              "    background-color: var(--bg-color);\n",
              "    border: none;\n",
              "    border-radius: 50%;\n",
              "    cursor: pointer;\n",
              "    display: none;\n",
              "    fill: var(--fill-color);\n",
              "    height: 32px;\n",
              "    padding: 0;\n",
              "    width: 32px;\n",
              "  }\n",
              "\n",
              "  .colab-df-quickchart:hover {\n",
              "    background-color: var(--hover-bg-color);\n",
              "    box-shadow: 0 1px 2px rgba(60, 64, 67, 0.3), 0 1px 3px 1px rgba(60, 64, 67, 0.15);\n",
              "    fill: var(--button-hover-fill-color);\n",
              "  }\n",
              "\n",
              "  .colab-df-quickchart-complete:disabled,\n",
              "  .colab-df-quickchart-complete:disabled:hover {\n",
              "    background-color: var(--disabled-bg-color);\n",
              "    fill: var(--disabled-fill-color);\n",
              "    box-shadow: none;\n",
              "  }\n",
              "\n",
              "  .colab-df-spinner {\n",
              "    border: 2px solid var(--fill-color);\n",
              "    border-color: transparent;\n",
              "    border-bottom-color: var(--fill-color);\n",
              "    animation:\n",
              "      spin 1s steps(1) infinite;\n",
              "  }\n",
              "\n",
              "  @keyframes spin {\n",
              "    0% {\n",
              "      border-color: transparent;\n",
              "      border-bottom-color: var(--fill-color);\n",
              "      border-left-color: var(--fill-color);\n",
              "    }\n",
              "    20% {\n",
              "      border-color: transparent;\n",
              "      border-left-color: var(--fill-color);\n",
              "      border-top-color: var(--fill-color);\n",
              "    }\n",
              "    30% {\n",
              "      border-color: transparent;\n",
              "      border-left-color: var(--fill-color);\n",
              "      border-top-color: var(--fill-color);\n",
              "      border-right-color: var(--fill-color);\n",
              "    }\n",
              "    40% {\n",
              "      border-color: transparent;\n",
              "      border-right-color: var(--fill-color);\n",
              "      border-top-color: var(--fill-color);\n",
              "    }\n",
              "    60% {\n",
              "      border-color: transparent;\n",
              "      border-right-color: var(--fill-color);\n",
              "    }\n",
              "    80% {\n",
              "      border-color: transparent;\n",
              "      border-right-color: var(--fill-color);\n",
              "      border-bottom-color: var(--fill-color);\n",
              "    }\n",
              "    90% {\n",
              "      border-color: transparent;\n",
              "      border-bottom-color: var(--fill-color);\n",
              "    }\n",
              "  }\n",
              "</style>\n",
              "\n",
              "      <script>\n",
              "        async function quickchart(key) {\n",
              "          const quickchartButtonEl =\n",
              "            document.querySelector('#' + key + ' button');\n",
              "          quickchartButtonEl.disabled = true;  // To prevent multiple clicks.\n",
              "          quickchartButtonEl.classList.add('colab-df-spinner');\n",
              "          try {\n",
              "            const charts = await google.colab.kernel.invokeFunction(\n",
              "                'suggestCharts', [key], {});\n",
              "          } catch (error) {\n",
              "            console.error('Error during call to suggestCharts:', error);\n",
              "          }\n",
              "          quickchartButtonEl.classList.remove('colab-df-spinner');\n",
              "          quickchartButtonEl.classList.add('colab-df-quickchart-complete');\n",
              "        }\n",
              "        (() => {\n",
              "          let quickchartButtonEl =\n",
              "            document.querySelector('#df-c203efa0-8683-4c11-b7f2-5d850c7c5084 button');\n",
              "          quickchartButtonEl.style.display =\n",
              "            google.colab.kernel.accessAllowed ? 'block' : 'none';\n",
              "        })();\n",
              "      </script>\n",
              "    </div>\n",
              "\n",
              "    </div>\n",
              "  </div>\n"
            ],
            "application/vnd.google.colaboratory.intrinsic+json": {
              "type": "dataframe",
              "variable_name": "df",
              "summary": "{\n  \"name\": \"df\",\n  \"rows\": 7032,\n  \"fields\": [\n    {\n      \"column\": \"cancelado\",\n      \"properties\": {\n        \"dtype\": \"number\",\n        \"std\": 0,\n        \"min\": 0,\n        \"max\": 1,\n        \"num_unique_values\": 2,\n        \"samples\": [\n          1,\n          0\n        ],\n        \"semantic_type\": \"\",\n        \"description\": \"\"\n      }\n    },\n    {\n      \"column\": \"mayor65\",\n      \"properties\": {\n        \"dtype\": \"number\",\n        \"std\": 0,\n        \"min\": 0,\n        \"max\": 1,\n        \"num_unique_values\": 2,\n        \"samples\": [\n          1,\n          0\n        ],\n        \"semantic_type\": \"\",\n        \"description\": \"\"\n      }\n    },\n    {\n      \"column\": \"tieneDependentes\",\n      \"properties\": {\n        \"dtype\": \"number\",\n        \"std\": 0,\n        \"min\": 0,\n        \"max\": 1,\n        \"num_unique_values\": 2,\n        \"samples\": [\n          0,\n          1\n        ],\n        \"semantic_type\": \"\",\n        \"description\": \"\"\n      }\n    },\n    {\n      \"column\": \"mesesContrato\",\n      \"properties\": {\n        \"dtype\": \"number\",\n        \"std\": 24,\n        \"min\": 1,\n        \"max\": 72,\n        \"num_unique_values\": 72,\n        \"samples\": [\n          71,\n          41\n        ],\n        \"semantic_type\": \"\",\n        \"description\": \"\"\n      }\n    },\n    {\n      \"column\": \"tipoContrato\",\n      \"properties\": {\n        \"dtype\": \"category\",\n        \"num_unique_values\": 3,\n        \"samples\": [\n          \"One year\",\n          \"Month-to-month\"\n        ],\n        \"semantic_type\": \"\",\n        \"description\": \"\"\n      }\n    },\n    {\n      \"column\": \"metodoPago\",\n      \"properties\": {\n        \"dtype\": \"category\",\n        \"num_unique_values\": 4,\n        \"samples\": [\n          \"Electronic check\",\n          \"Bank transfer (automatic)\"\n        ],\n        \"semantic_type\": \"\",\n        \"description\": \"\"\n      }\n    },\n    {\n      \"column\": \"gastosMensuales\",\n      \"properties\": {\n        \"dtype\": \"number\",\n        \"std\": 30.085973884049906,\n        \"min\": 18.25,\n        \"max\": 118.75,\n        \"num_unique_values\": 1584,\n        \"samples\": [\n          104.15,\n          47.85\n        ],\n        \"semantic_type\": \"\",\n        \"description\": \"\"\n      }\n    },\n    {\n      \"column\": \"gastosTotales\",\n      \"properties\": {\n        \"dtype\": \"number\",\n        \"std\": 2266.771361883145,\n        \"min\": 18.8,\n        \"max\": 8684.8,\n        \"num_unique_values\": 6530,\n        \"samples\": [\n          2341.55,\n          5329.55\n        ],\n        \"semantic_type\": \"\",\n        \"description\": \"\"\n      }\n    }\n  ]\n}"
            }
          },
          "metadata": {},
          "execution_count": 7
        }
      ]
    },
    {
      "cell_type": "code",
      "source": [
        "df.info()"
      ],
      "metadata": {
        "colab": {
          "base_uri": "https://localhost:8080/"
        },
        "id": "Y2INouLrvqiq",
        "outputId": "25c20f41-7f35-48ec-ef28-900d29af85a9"
      },
      "execution_count": 8,
      "outputs": [
        {
          "output_type": "stream",
          "name": "stdout",
          "text": [
            "<class 'pandas.core.frame.DataFrame'>\n",
            "RangeIndex: 7032 entries, 0 to 7031\n",
            "Data columns (total 8 columns):\n",
            " #   Column            Non-Null Count  Dtype  \n",
            "---  ------            --------------  -----  \n",
            " 0   cancelado         7032 non-null   int64  \n",
            " 1   mayor65           7032 non-null   int64  \n",
            " 2   tieneDependentes  7032 non-null   int64  \n",
            " 3   mesesContrato     7032 non-null   int64  \n",
            " 4   tipoContrato      7032 non-null   object \n",
            " 5   metodoPago        7032 non-null   object \n",
            " 6   gastosMensuales   7032 non-null   float64\n",
            " 7   gastosTotales     7032 non-null   float64\n",
            "dtypes: float64(2), int64(4), object(2)\n",
            "memory usage: 439.6+ KB\n"
          ]
        }
      ]
    },
    {
      "cell_type": "markdown",
      "source": [
        "##4.- Separacion de las variable expliativa de mi variable respuesta"
      ],
      "metadata": {
        "id": "Q3W4UD0TwN65"
      }
    },
    {
      "cell_type": "code",
      "source": [
        "X = df.drop('cancelado', axis=1)"
      ],
      "metadata": {
        "id": "nqQd3gtywJUu"
      },
      "execution_count": 9,
      "outputs": []
    },
    {
      "cell_type": "code",
      "source": [
        "y = df['cancelado']"
      ],
      "metadata": {
        "id": "pB5wi0HpwaAV"
      },
      "execution_count": 10,
      "outputs": []
    },
    {
      "cell_type": "markdown",
      "source": [
        "Transformacion de las variables"
      ],
      "metadata": {
        "id": "g9ydabbB5Oqn"
      }
    },
    {
      "cell_type": "code",
      "source": [
        "from sklearn.compose import make_column_transformer\n",
        "from sklearn.preprocessing import OneHotEncoder"
      ],
      "metadata": {
        "id": "MmML4TAO5WSy"
      },
      "execution_count": 11,
      "outputs": []
    },
    {
      "cell_type": "code",
      "source": [
        "columnas = X.columns\n",
        "one_hot = make_column_transformer((OneHotEncoder(drop='if_binary'),['tieneDependentes','mayor65','tipoContrato','metodoPago']), remainder='passthrough',sparse_threshold=0,force_int_remainder_cols=False)\n"
      ],
      "metadata": {
        "id": "reM5JPxPHaj6"
      },
      "execution_count": 12,
      "outputs": []
    },
    {
      "cell_type": "code",
      "source": [
        "\n",
        "X = one_hot.fit_transform(X)"
      ],
      "metadata": {
        "id": "pLC3QvMnHwIB"
      },
      "execution_count": 13,
      "outputs": []
    },
    {
      "cell_type": "code",
      "source": [
        "one_hot.get_feature_names_out(columnas)"
      ],
      "metadata": {
        "colab": {
          "base_uri": "https://localhost:8080/"
        },
        "id": "J5kvUopaHyxp",
        "outputId": "187bd748-5798-4039-b54c-4b46743c298f"
      },
      "execution_count": 14,
      "outputs": [
        {
          "output_type": "execute_result",
          "data": {
            "text/plain": [
              "array(['onehotencoder__tieneDependentes_1', 'onehotencoder__mayor65_1',\n",
              "       'onehotencoder__tipoContrato_Month-to-month',\n",
              "       'onehotencoder__tipoContrato_One year',\n",
              "       'onehotencoder__tipoContrato_Two year',\n",
              "       'onehotencoder__metodoPago_Bank transfer (automatic)',\n",
              "       'onehotencoder__metodoPago_Credit card (automatic)',\n",
              "       'onehotencoder__metodoPago_Electronic check',\n",
              "       'onehotencoder__metodoPago_Mailed check',\n",
              "       'remainder__mesesContrato', 'remainder__gastosMensuales',\n",
              "       'remainder__gastosTotales'], dtype=object)"
            ]
          },
          "metadata": {},
          "execution_count": 14
        }
      ]
    },
    {
      "cell_type": "code",
      "source": [
        "pd.DataFrame(X, columns=one_hot.get_feature_names_out(columnas)).head(5)"
      ],
      "metadata": {
        "colab": {
          "base_uri": "https://localhost:8080/",
          "height": 244
        },
        "id": "GGCmOehHH2KJ",
        "outputId": "15ce6aa7-c5bb-4ffe-c4d8-8300af0ddcd6"
      },
      "execution_count": 15,
      "outputs": [
        {
          "output_type": "execute_result",
          "data": {
            "text/plain": [
              "   onehotencoder__tieneDependentes_1  onehotencoder__mayor65_1  \\\n",
              "0                                1.0                       0.0   \n",
              "1                                0.0                       0.0   \n",
              "2                                0.0                       0.0   \n",
              "3                                0.0                       1.0   \n",
              "4                                0.0                       1.0   \n",
              "\n",
              "   onehotencoder__tipoContrato_Month-to-month  \\\n",
              "0                                         0.0   \n",
              "1                                         1.0   \n",
              "2                                         1.0   \n",
              "3                                         1.0   \n",
              "4                                         1.0   \n",
              "\n",
              "   onehotencoder__tipoContrato_One year  onehotencoder__tipoContrato_Two year  \\\n",
              "0                                   1.0                                   0.0   \n",
              "1                                   0.0                                   0.0   \n",
              "2                                   0.0                                   0.0   \n",
              "3                                   0.0                                   0.0   \n",
              "4                                   0.0                                   0.0   \n",
              "\n",
              "   onehotencoder__metodoPago_Bank transfer (automatic)  \\\n",
              "0                                                0.0     \n",
              "1                                                0.0     \n",
              "2                                                0.0     \n",
              "3                                                0.0     \n",
              "4                                                0.0     \n",
              "\n",
              "   onehotencoder__metodoPago_Credit card (automatic)  \\\n",
              "0                                                0.0   \n",
              "1                                                0.0   \n",
              "2                                                0.0   \n",
              "3                                                0.0   \n",
              "4                                                0.0   \n",
              "\n",
              "   onehotencoder__metodoPago_Electronic check  \\\n",
              "0                                         0.0   \n",
              "1                                         0.0   \n",
              "2                                         1.0   \n",
              "3                                         1.0   \n",
              "4                                         0.0   \n",
              "\n",
              "   onehotencoder__metodoPago_Mailed check  remainder__mesesContrato  \\\n",
              "0                                     1.0                       9.0   \n",
              "1                                     1.0                       9.0   \n",
              "2                                     0.0                       4.0   \n",
              "3                                     0.0                      13.0   \n",
              "4                                     1.0                       3.0   \n",
              "\n",
              "   remainder__gastosMensuales  remainder__gastosTotales  \n",
              "0                        65.6                    593.30  \n",
              "1                        59.9                    542.40  \n",
              "2                        73.9                    280.85  \n",
              "3                        98.0                   1237.85  \n",
              "4                        83.9                    267.40  "
            ],
            "text/html": [
              "\n",
              "  <div id=\"df-f0646ab2-1387-4088-b1e4-28ca051dd2d1\" class=\"colab-df-container\">\n",
              "    <div>\n",
              "<style scoped>\n",
              "    .dataframe tbody tr th:only-of-type {\n",
              "        vertical-align: middle;\n",
              "    }\n",
              "\n",
              "    .dataframe tbody tr th {\n",
              "        vertical-align: top;\n",
              "    }\n",
              "\n",
              "    .dataframe thead th {\n",
              "        text-align: right;\n",
              "    }\n",
              "</style>\n",
              "<table border=\"1\" class=\"dataframe\">\n",
              "  <thead>\n",
              "    <tr style=\"text-align: right;\">\n",
              "      <th></th>\n",
              "      <th>onehotencoder__tieneDependentes_1</th>\n",
              "      <th>onehotencoder__mayor65_1</th>\n",
              "      <th>onehotencoder__tipoContrato_Month-to-month</th>\n",
              "      <th>onehotencoder__tipoContrato_One year</th>\n",
              "      <th>onehotencoder__tipoContrato_Two year</th>\n",
              "      <th>onehotencoder__metodoPago_Bank transfer (automatic)</th>\n",
              "      <th>onehotencoder__metodoPago_Credit card (automatic)</th>\n",
              "      <th>onehotencoder__metodoPago_Electronic check</th>\n",
              "      <th>onehotencoder__metodoPago_Mailed check</th>\n",
              "      <th>remainder__mesesContrato</th>\n",
              "      <th>remainder__gastosMensuales</th>\n",
              "      <th>remainder__gastosTotales</th>\n",
              "    </tr>\n",
              "  </thead>\n",
              "  <tbody>\n",
              "    <tr>\n",
              "      <th>0</th>\n",
              "      <td>1.0</td>\n",
              "      <td>0.0</td>\n",
              "      <td>0.0</td>\n",
              "      <td>1.0</td>\n",
              "      <td>0.0</td>\n",
              "      <td>0.0</td>\n",
              "      <td>0.0</td>\n",
              "      <td>0.0</td>\n",
              "      <td>1.0</td>\n",
              "      <td>9.0</td>\n",
              "      <td>65.6</td>\n",
              "      <td>593.30</td>\n",
              "    </tr>\n",
              "    <tr>\n",
              "      <th>1</th>\n",
              "      <td>0.0</td>\n",
              "      <td>0.0</td>\n",
              "      <td>1.0</td>\n",
              "      <td>0.0</td>\n",
              "      <td>0.0</td>\n",
              "      <td>0.0</td>\n",
              "      <td>0.0</td>\n",
              "      <td>0.0</td>\n",
              "      <td>1.0</td>\n",
              "      <td>9.0</td>\n",
              "      <td>59.9</td>\n",
              "      <td>542.40</td>\n",
              "    </tr>\n",
              "    <tr>\n",
              "      <th>2</th>\n",
              "      <td>0.0</td>\n",
              "      <td>0.0</td>\n",
              "      <td>1.0</td>\n",
              "      <td>0.0</td>\n",
              "      <td>0.0</td>\n",
              "      <td>0.0</td>\n",
              "      <td>0.0</td>\n",
              "      <td>1.0</td>\n",
              "      <td>0.0</td>\n",
              "      <td>4.0</td>\n",
              "      <td>73.9</td>\n",
              "      <td>280.85</td>\n",
              "    </tr>\n",
              "    <tr>\n",
              "      <th>3</th>\n",
              "      <td>0.0</td>\n",
              "      <td>1.0</td>\n",
              "      <td>1.0</td>\n",
              "      <td>0.0</td>\n",
              "      <td>0.0</td>\n",
              "      <td>0.0</td>\n",
              "      <td>0.0</td>\n",
              "      <td>1.0</td>\n",
              "      <td>0.0</td>\n",
              "      <td>13.0</td>\n",
              "      <td>98.0</td>\n",
              "      <td>1237.85</td>\n",
              "    </tr>\n",
              "    <tr>\n",
              "      <th>4</th>\n",
              "      <td>0.0</td>\n",
              "      <td>1.0</td>\n",
              "      <td>1.0</td>\n",
              "      <td>0.0</td>\n",
              "      <td>0.0</td>\n",
              "      <td>0.0</td>\n",
              "      <td>0.0</td>\n",
              "      <td>0.0</td>\n",
              "      <td>1.0</td>\n",
              "      <td>3.0</td>\n",
              "      <td>83.9</td>\n",
              "      <td>267.40</td>\n",
              "    </tr>\n",
              "  </tbody>\n",
              "</table>\n",
              "</div>\n",
              "    <div class=\"colab-df-buttons\">\n",
              "\n",
              "  <div class=\"colab-df-container\">\n",
              "    <button class=\"colab-df-convert\" onclick=\"convertToInteractive('df-f0646ab2-1387-4088-b1e4-28ca051dd2d1')\"\n",
              "            title=\"Convert this dataframe to an interactive table.\"\n",
              "            style=\"display:none;\">\n",
              "\n",
              "  <svg xmlns=\"http://www.w3.org/2000/svg\" height=\"24px\" viewBox=\"0 -960 960 960\">\n",
              "    <path d=\"M120-120v-720h720v720H120Zm60-500h600v-160H180v160Zm220 220h160v-160H400v160Zm0 220h160v-160H400v160ZM180-400h160v-160H180v160Zm440 0h160v-160H620v160ZM180-180h160v-160H180v160Zm440 0h160v-160H620v160Z\"/>\n",
              "  </svg>\n",
              "    </button>\n",
              "\n",
              "  <style>\n",
              "    .colab-df-container {\n",
              "      display:flex;\n",
              "      gap: 12px;\n",
              "    }\n",
              "\n",
              "    .colab-df-convert {\n",
              "      background-color: #E8F0FE;\n",
              "      border: none;\n",
              "      border-radius: 50%;\n",
              "      cursor: pointer;\n",
              "      display: none;\n",
              "      fill: #1967D2;\n",
              "      height: 32px;\n",
              "      padding: 0 0 0 0;\n",
              "      width: 32px;\n",
              "    }\n",
              "\n",
              "    .colab-df-convert:hover {\n",
              "      background-color: #E2EBFA;\n",
              "      box-shadow: 0px 1px 2px rgba(60, 64, 67, 0.3), 0px 1px 3px 1px rgba(60, 64, 67, 0.15);\n",
              "      fill: #174EA6;\n",
              "    }\n",
              "\n",
              "    .colab-df-buttons div {\n",
              "      margin-bottom: 4px;\n",
              "    }\n",
              "\n",
              "    [theme=dark] .colab-df-convert {\n",
              "      background-color: #3B4455;\n",
              "      fill: #D2E3FC;\n",
              "    }\n",
              "\n",
              "    [theme=dark] .colab-df-convert:hover {\n",
              "      background-color: #434B5C;\n",
              "      box-shadow: 0px 1px 3px 1px rgba(0, 0, 0, 0.15);\n",
              "      filter: drop-shadow(0px 1px 2px rgba(0, 0, 0, 0.3));\n",
              "      fill: #FFFFFF;\n",
              "    }\n",
              "  </style>\n",
              "\n",
              "    <script>\n",
              "      const buttonEl =\n",
              "        document.querySelector('#df-f0646ab2-1387-4088-b1e4-28ca051dd2d1 button.colab-df-convert');\n",
              "      buttonEl.style.display =\n",
              "        google.colab.kernel.accessAllowed ? 'block' : 'none';\n",
              "\n",
              "      async function convertToInteractive(key) {\n",
              "        const element = document.querySelector('#df-f0646ab2-1387-4088-b1e4-28ca051dd2d1');\n",
              "        const dataTable =\n",
              "          await google.colab.kernel.invokeFunction('convertToInteractive',\n",
              "                                                    [key], {});\n",
              "        if (!dataTable) return;\n",
              "\n",
              "        const docLinkHtml = 'Like what you see? Visit the ' +\n",
              "          '<a target=\"_blank\" href=https://colab.research.google.com/notebooks/data_table.ipynb>data table notebook</a>'\n",
              "          + ' to learn more about interactive tables.';\n",
              "        element.innerHTML = '';\n",
              "        dataTable['output_type'] = 'display_data';\n",
              "        await google.colab.output.renderOutput(dataTable, element);\n",
              "        const docLink = document.createElement('div');\n",
              "        docLink.innerHTML = docLinkHtml;\n",
              "        element.appendChild(docLink);\n",
              "      }\n",
              "    </script>\n",
              "  </div>\n",
              "\n",
              "\n",
              "    <div id=\"df-e9eee16c-4c19-4690-a1e8-16c82e867736\">\n",
              "      <button class=\"colab-df-quickchart\" onclick=\"quickchart('df-e9eee16c-4c19-4690-a1e8-16c82e867736')\"\n",
              "                title=\"Suggest charts\"\n",
              "                style=\"display:none;\">\n",
              "\n",
              "<svg xmlns=\"http://www.w3.org/2000/svg\" height=\"24px\"viewBox=\"0 0 24 24\"\n",
              "     width=\"24px\">\n",
              "    <g>\n",
              "        <path d=\"M19 3H5c-1.1 0-2 .9-2 2v14c0 1.1.9 2 2 2h14c1.1 0 2-.9 2-2V5c0-1.1-.9-2-2-2zM9 17H7v-7h2v7zm4 0h-2V7h2v10zm4 0h-2v-4h2v4z\"/>\n",
              "    </g>\n",
              "</svg>\n",
              "      </button>\n",
              "\n",
              "<style>\n",
              "  .colab-df-quickchart {\n",
              "      --bg-color: #E8F0FE;\n",
              "      --fill-color: #1967D2;\n",
              "      --hover-bg-color: #E2EBFA;\n",
              "      --hover-fill-color: #174EA6;\n",
              "      --disabled-fill-color: #AAA;\n",
              "      --disabled-bg-color: #DDD;\n",
              "  }\n",
              "\n",
              "  [theme=dark] .colab-df-quickchart {\n",
              "      --bg-color: #3B4455;\n",
              "      --fill-color: #D2E3FC;\n",
              "      --hover-bg-color: #434B5C;\n",
              "      --hover-fill-color: #FFFFFF;\n",
              "      --disabled-bg-color: #3B4455;\n",
              "      --disabled-fill-color: #666;\n",
              "  }\n",
              "\n",
              "  .colab-df-quickchart {\n",
              "    background-color: var(--bg-color);\n",
              "    border: none;\n",
              "    border-radius: 50%;\n",
              "    cursor: pointer;\n",
              "    display: none;\n",
              "    fill: var(--fill-color);\n",
              "    height: 32px;\n",
              "    padding: 0;\n",
              "    width: 32px;\n",
              "  }\n",
              "\n",
              "  .colab-df-quickchart:hover {\n",
              "    background-color: var(--hover-bg-color);\n",
              "    box-shadow: 0 1px 2px rgba(60, 64, 67, 0.3), 0 1px 3px 1px rgba(60, 64, 67, 0.15);\n",
              "    fill: var(--button-hover-fill-color);\n",
              "  }\n",
              "\n",
              "  .colab-df-quickchart-complete:disabled,\n",
              "  .colab-df-quickchart-complete:disabled:hover {\n",
              "    background-color: var(--disabled-bg-color);\n",
              "    fill: var(--disabled-fill-color);\n",
              "    box-shadow: none;\n",
              "  }\n",
              "\n",
              "  .colab-df-spinner {\n",
              "    border: 2px solid var(--fill-color);\n",
              "    border-color: transparent;\n",
              "    border-bottom-color: var(--fill-color);\n",
              "    animation:\n",
              "      spin 1s steps(1) infinite;\n",
              "  }\n",
              "\n",
              "  @keyframes spin {\n",
              "    0% {\n",
              "      border-color: transparent;\n",
              "      border-bottom-color: var(--fill-color);\n",
              "      border-left-color: var(--fill-color);\n",
              "    }\n",
              "    20% {\n",
              "      border-color: transparent;\n",
              "      border-left-color: var(--fill-color);\n",
              "      border-top-color: var(--fill-color);\n",
              "    }\n",
              "    30% {\n",
              "      border-color: transparent;\n",
              "      border-left-color: var(--fill-color);\n",
              "      border-top-color: var(--fill-color);\n",
              "      border-right-color: var(--fill-color);\n",
              "    }\n",
              "    40% {\n",
              "      border-color: transparent;\n",
              "      border-right-color: var(--fill-color);\n",
              "      border-top-color: var(--fill-color);\n",
              "    }\n",
              "    60% {\n",
              "      border-color: transparent;\n",
              "      border-right-color: var(--fill-color);\n",
              "    }\n",
              "    80% {\n",
              "      border-color: transparent;\n",
              "      border-right-color: var(--fill-color);\n",
              "      border-bottom-color: var(--fill-color);\n",
              "    }\n",
              "    90% {\n",
              "      border-color: transparent;\n",
              "      border-bottom-color: var(--fill-color);\n",
              "    }\n",
              "  }\n",
              "</style>\n",
              "\n",
              "      <script>\n",
              "        async function quickchart(key) {\n",
              "          const quickchartButtonEl =\n",
              "            document.querySelector('#' + key + ' button');\n",
              "          quickchartButtonEl.disabled = true;  // To prevent multiple clicks.\n",
              "          quickchartButtonEl.classList.add('colab-df-spinner');\n",
              "          try {\n",
              "            const charts = await google.colab.kernel.invokeFunction(\n",
              "                'suggestCharts', [key], {});\n",
              "          } catch (error) {\n",
              "            console.error('Error during call to suggestCharts:', error);\n",
              "          }\n",
              "          quickchartButtonEl.classList.remove('colab-df-spinner');\n",
              "          quickchartButtonEl.classList.add('colab-df-quickchart-complete');\n",
              "        }\n",
              "        (() => {\n",
              "          let quickchartButtonEl =\n",
              "            document.querySelector('#df-e9eee16c-4c19-4690-a1e8-16c82e867736 button');\n",
              "          quickchartButtonEl.style.display =\n",
              "            google.colab.kernel.accessAllowed ? 'block' : 'none';\n",
              "        })();\n",
              "      </script>\n",
              "    </div>\n",
              "\n",
              "    </div>\n",
              "  </div>\n"
            ],
            "application/vnd.google.colaboratory.intrinsic+json": {
              "type": "dataframe",
              "summary": "{\n  \"name\": \"pd\",\n  \"rows\": 5,\n  \"fields\": [\n    {\n      \"column\": \"onehotencoder__tieneDependentes_1\",\n      \"properties\": {\n        \"dtype\": \"number\",\n        \"std\": 0.44721359549995804,\n        \"min\": 0.0,\n        \"max\": 1.0,\n        \"num_unique_values\": 2,\n        \"samples\": [\n          0.0,\n          1.0\n        ],\n        \"semantic_type\": \"\",\n        \"description\": \"\"\n      }\n    },\n    {\n      \"column\": \"onehotencoder__mayor65_1\",\n      \"properties\": {\n        \"dtype\": \"number\",\n        \"std\": 0.5477225575051662,\n        \"min\": 0.0,\n        \"max\": 1.0,\n        \"num_unique_values\": 2,\n        \"samples\": [\n          1.0,\n          0.0\n        ],\n        \"semantic_type\": \"\",\n        \"description\": \"\"\n      }\n    },\n    {\n      \"column\": \"onehotencoder__tipoContrato_Month-to-month\",\n      \"properties\": {\n        \"dtype\": \"number\",\n        \"std\": 0.44721359549995804,\n        \"min\": 0.0,\n        \"max\": 1.0,\n        \"num_unique_values\": 2,\n        \"samples\": [\n          1.0,\n          0.0\n        ],\n        \"semantic_type\": \"\",\n        \"description\": \"\"\n      }\n    },\n    {\n      \"column\": \"onehotencoder__tipoContrato_One year\",\n      \"properties\": {\n        \"dtype\": \"number\",\n        \"std\": 0.44721359549995804,\n        \"min\": 0.0,\n        \"max\": 1.0,\n        \"num_unique_values\": 2,\n        \"samples\": [\n          0.0,\n          1.0\n        ],\n        \"semantic_type\": \"\",\n        \"description\": \"\"\n      }\n    },\n    {\n      \"column\": \"onehotencoder__tipoContrato_Two year\",\n      \"properties\": {\n        \"dtype\": \"number\",\n        \"std\": 0.0,\n        \"min\": 0.0,\n        \"max\": 0.0,\n        \"num_unique_values\": 1,\n        \"samples\": [\n          0.0\n        ],\n        \"semantic_type\": \"\",\n        \"description\": \"\"\n      }\n    },\n    {\n      \"column\": \"onehotencoder__metodoPago_Bank transfer (automatic)\",\n      \"properties\": {\n        \"dtype\": \"number\",\n        \"std\": 0.0,\n        \"min\": 0.0,\n        \"max\": 0.0,\n        \"num_unique_values\": 1,\n        \"samples\": [\n          0.0\n        ],\n        \"semantic_type\": \"\",\n        \"description\": \"\"\n      }\n    },\n    {\n      \"column\": \"onehotencoder__metodoPago_Credit card (automatic)\",\n      \"properties\": {\n        \"dtype\": \"number\",\n        \"std\": 0.0,\n        \"min\": 0.0,\n        \"max\": 0.0,\n        \"num_unique_values\": 1,\n        \"samples\": [\n          0.0\n        ],\n        \"semantic_type\": \"\",\n        \"description\": \"\"\n      }\n    },\n    {\n      \"column\": \"onehotencoder__metodoPago_Electronic check\",\n      \"properties\": {\n        \"dtype\": \"number\",\n        \"std\": 0.5477225575051662,\n        \"min\": 0.0,\n        \"max\": 1.0,\n        \"num_unique_values\": 2,\n        \"samples\": [\n          1.0\n        ],\n        \"semantic_type\": \"\",\n        \"description\": \"\"\n      }\n    },\n    {\n      \"column\": \"onehotencoder__metodoPago_Mailed check\",\n      \"properties\": {\n        \"dtype\": \"number\",\n        \"std\": 0.5477225575051662,\n        \"min\": 0.0,\n        \"max\": 1.0,\n        \"num_unique_values\": 2,\n        \"samples\": [\n          0.0\n        ],\n        \"semantic_type\": \"\",\n        \"description\": \"\"\n      }\n    },\n    {\n      \"column\": \"remainder__mesesContrato\",\n      \"properties\": {\n        \"dtype\": \"number\",\n        \"std\": 4.09878030638384,\n        \"min\": 3.0,\n        \"max\": 13.0,\n        \"num_unique_values\": 4,\n        \"samples\": [\n          4.0\n        ],\n        \"semantic_type\": \"\",\n        \"description\": \"\"\n      }\n    },\n    {\n      \"column\": \"remainder__gastosMensuales\",\n      \"properties\": {\n        \"dtype\": \"number\",\n        \"std\": 15.148036176349727,\n        \"min\": 59.9,\n        \"max\": 98.0,\n        \"num_unique_values\": 5,\n        \"samples\": [\n          59.9\n        ],\n        \"semantic_type\": \"\",\n        \"description\": \"\"\n      }\n    },\n    {\n      \"column\": \"remainder__gastosTotales\",\n      \"properties\": {\n        \"dtype\": \"number\",\n        \"std\": 394.1673841783462,\n        \"min\": 267.4,\n        \"max\": 1237.85,\n        \"num_unique_values\": 5,\n        \"samples\": [\n          542.4\n        ],\n        \"semantic_type\": \"\",\n        \"description\": \"\"\n      }\n    }\n  ]\n}"
            }
          },
          "metadata": {},
          "execution_count": 15
        }
      ]
    },
    {
      "cell_type": "code",
      "source": [
        "pd.DataFrame(X, columns=one_hot.get_feature_names_out(columnas)).info()"
      ],
      "metadata": {
        "colab": {
          "base_uri": "https://localhost:8080/"
        },
        "id": "N16jYN7MH8Uh",
        "outputId": "372fad1b-1ae4-4b15-efb7-49f135c5ce6f"
      },
      "execution_count": 16,
      "outputs": [
        {
          "output_type": "stream",
          "name": "stdout",
          "text": [
            "<class 'pandas.core.frame.DataFrame'>\n",
            "RangeIndex: 7032 entries, 0 to 7031\n",
            "Data columns (total 12 columns):\n",
            " #   Column                                               Non-Null Count  Dtype  \n",
            "---  ------                                               --------------  -----  \n",
            " 0   onehotencoder__tieneDependentes_1                    7032 non-null   float64\n",
            " 1   onehotencoder__mayor65_1                             7032 non-null   float64\n",
            " 2   onehotencoder__tipoContrato_Month-to-month           7032 non-null   float64\n",
            " 3   onehotencoder__tipoContrato_One year                 7032 non-null   float64\n",
            " 4   onehotencoder__tipoContrato_Two year                 7032 non-null   float64\n",
            " 5   onehotencoder__metodoPago_Bank transfer (automatic)  7032 non-null   float64\n",
            " 6   onehotencoder__metodoPago_Credit card (automatic)    7032 non-null   float64\n",
            " 7   onehotencoder__metodoPago_Electronic check           7032 non-null   float64\n",
            " 8   onehotencoder__metodoPago_Mailed check               7032 non-null   float64\n",
            " 9   remainder__mesesContrato                             7032 non-null   float64\n",
            " 10  remainder__gastosMensuales                           7032 non-null   float64\n",
            " 11  remainder__gastosTotales                             7032 non-null   float64\n",
            "dtypes: float64(12)\n",
            "memory usage: 659.4 KB\n"
          ]
        }
      ]
    },
    {
      "cell_type": "code",
      "source": [
        "from sklearn.preprocessing import LabelEncoder"
      ],
      "metadata": {
        "id": "l5w8IDoFIMJS"
      },
      "execution_count": 17,
      "outputs": []
    },
    {
      "cell_type": "code",
      "source": [
        "label_encoder = LabelEncoder()"
      ],
      "metadata": {
        "id": "CYlkEbQ7IPEx"
      },
      "execution_count": 18,
      "outputs": []
    },
    {
      "cell_type": "code",
      "source": [
        "y = label_encoder.fit_transform(y)"
      ],
      "metadata": {
        "id": "grYuMjCEIQSZ"
      },
      "execution_count": 19,
      "outputs": []
    },
    {
      "cell_type": "code",
      "source": [
        "y"
      ],
      "metadata": {
        "colab": {
          "base_uri": "https://localhost:8080/"
        },
        "id": "_QMAve4lIUNa",
        "outputId": "17f40d7c-809f-4adf-b035-5ca9e8b07711"
      },
      "execution_count": 20,
      "outputs": [
        {
          "output_type": "execute_result",
          "data": {
            "text/plain": [
              "array([0, 0, 1, ..., 0, 0, 0])"
            ]
          },
          "metadata": {},
          "execution_count": 20
        }
      ]
    },
    {
      "cell_type": "code",
      "source": [
        "type(y)"
      ],
      "metadata": {
        "colab": {
          "base_uri": "https://localhost:8080/"
        },
        "id": "brQcpo9QIXUx",
        "outputId": "9f2370f4-ecaf-4a4e-a25f-ac26fb95731c"
      },
      "execution_count": 21,
      "outputs": [
        {
          "output_type": "execute_result",
          "data": {
            "text/plain": [
              "numpy.ndarray"
            ]
          },
          "metadata": {},
          "execution_count": 21
        }
      ]
    },
    {
      "cell_type": "markdown",
      "source": [
        "4° Paso: Verificación de la Proporción de Cancelación (Churn)"
      ],
      "metadata": {
        "id": "Dct2nU0wIaX9"
      }
    },
    {
      "cell_type": "markdown",
      "source": [
        "Proporciones de cancelacion sin tratar"
      ],
      "metadata": {
        "id": "2a4ZJf2pI9uA"
      }
    },
    {
      "cell_type": "code",
      "source": [
        "import plotly.express as px\n",
        "px.histogram(df, x='cancelado', title='Distribución de Cancelacion',text_auto=True, color=\"cancelado\")\n"
      ],
      "metadata": {
        "colab": {
          "base_uri": "https://localhost:8080/",
          "height": 542
        },
        "id": "N7K6l3kcI3fo",
        "outputId": "8d58cec0-cfc5-4e29-aeeb-d2166f5facff"
      },
      "execution_count": 67,
      "outputs": [
        {
          "output_type": "display_data",
          "data": {
            "text/html": [
              "<html>\n",
              "<head><meta charset=\"utf-8\" /></head>\n",
              "<body>\n",
              "    <div>            <script src=\"https://cdnjs.cloudflare.com/ajax/libs/mathjax/2.7.5/MathJax.js?config=TeX-AMS-MML_SVG\"></script><script type=\"text/javascript\">if (window.MathJax && window.MathJax.Hub && window.MathJax.Hub.Config) {window.MathJax.Hub.Config({SVG: {font: \"STIX-Web\"}});}</script>                <script type=\"text/javascript\">window.PlotlyConfig = {MathJaxConfig: 'local'};</script>\n",
              "        <script charset=\"utf-8\" src=\"https://cdn.plot.ly/plotly-2.35.2.min.js\"></script>                <div id=\"038479c2-5b4c-4e54-aca0-2bf35446b0d0\" class=\"plotly-graph-div\" style=\"height:525px; width:100%;\"></div>            <script type=\"text/javascript\">                                    window.PLOTLYENV=window.PLOTLYENV || {};                                    if (document.getElementById(\"038479c2-5b4c-4e54-aca0-2bf35446b0d0\")) {                    Plotly.newPlot(                        \"038479c2-5b4c-4e54-aca0-2bf35446b0d0\",                        [{\"alignmentgroup\":\"True\",\"bingroup\":\"x\",\"hovertemplate\":\"cancelado=%{x}\\u003cbr\\u003ecount=%{y}\\u003cextra\\u003e\\u003c\\u002fextra\\u003e\",\"legendgroup\":\"0\",\"marker\":{\"color\":\"#636efa\",\"pattern\":{\"shape\":\"\"}},\"name\":\"0\",\"offsetgroup\":\"0\",\"orientation\":\"v\",\"showlegend\":true,\"texttemplate\":\"%{value}\",\"x\":[0,0,0,0,0,0,0,0,0,0,0,0,0,0,0,0,0,0,0,0,0,0,0,0,0,0,0,0,0,0,0,0,0,0,0,0,0,0,0,0,0,0,0,0,0,0,0,0,0,0,0,0,0,0,0,0,0,0,0,0,0,0,0,0,0,0,0,0,0,0,0,0,0,0,0,0,0,0,0,0,0,0,0,0,0,0,0,0,0,0,0,0,0,0,0,0,0,0,0,0,0,0,0,0,0,0,0,0,0,0,0,0,0,0,0,0,0,0,0,0,0,0,0,0,0,0,0,0,0,0,0,0,0,0,0,0,0,0,0,0,0,0,0,0,0,0,0,0,0,0,0,0,0,0,0,0,0,0,0,0,0,0,0,0,0,0,0,0,0,0,0,0,0,0,0,0,0,0,0,0,0,0,0,0,0,0,0,0,0,0,0,0,0,0,0,0,0,0,0,0,0,0,0,0,0,0,0,0,0,0,0,0,0,0,0,0,0,0,0,0,0,0,0,0,0,0,0,0,0,0,0,0,0,0,0,0,0,0,0,0,0,0,0,0,0,0,0,0,0,0,0,0,0,0,0,0,0,0,0,0,0,0,0,0,0,0,0,0,0,0,0,0,0,0,0,0,0,0,0,0,0,0,0,0,0,0,0,0,0,0,0,0,0,0,0,0,0,0,0,0,0,0,0,0,0,0,0,0,0,0,0,0,0,0,0,0,0,0,0,0,0,0,0,0,0,0,0,0,0,0,0,0,0,0,0,0,0,0,0,0,0,0,0,0,0,0,0,0,0,0,0,0,0,0,0,0,0,0,0,0,0,0,0,0,0,0,0,0,0,0,0,0,0,0,0,0,0,0,0,0,0,0,0,0,0,0,0,0,0,0,0,0,0,0,0,0,0,0,0,0,0,0,0,0,0,0,0,0,0,0,0,0,0,0,0,0,0,0,0,0,0,0,0,0,0,0,0,0,0,0,0,0,0,0,0,0,0,0,0,0,0,0,0,0,0,0,0,0,0,0,0,0,0,0,0,0,0,0,0,0,0,0,0,0,0,0,0,0,0,0,0,0,0,0,0,0,0,0,0,0,0,0,0,0,0,0,0,0,0,0,0,0,0,0,0,0,0,0,0,0,0,0,0,0,0,0,0,0,0,0,0,0,0,0,0,0,0,0,0,0,0,0,0,0,0,0,0,0,0,0,0,0,0,0,0,0,0,0,0,0,0,0,0,0,0,0,0,0,0,0,0,0,0,0,0,0,0,0,0,0,0,0,0,0,0,0,0,0,0,0,0,0,0,0,0,0,0,0,0,0,0,0,0,0,0,0,0,0,0,0,0,0,0,0,0,0,0,0,0,0,0,0,0,0,0,0,0,0,0,0,0,0,0,0,0,0,0,0,0,0,0,0,0,0,0,0,0,0,0,0,0,0,0,0,0,0,0,0,0,0,0,0,0,0,0,0,0,0,0,0,0,0,0,0,0,0,0,0,0,0,0,0,0,0,0,0,0,0,0,0,0,0,0,0,0,0,0,0,0,0,0,0,0,0,0,0,0,0,0,0,0,0,0,0,0,0,0,0,0,0,0,0,0,0,0,0,0,0,0,0,0,0,0,0,0,0,0,0,0,0,0,0,0,0,0,0,0,0,0,0,0,0,0,0,0,0,0,0,0,0,0,0,0,0,0,0,0,0,0,0,0,0,0,0,0,0,0,0,0,0,0,0,0,0,0,0,0,0,0,0,0,0,0,0,0,0,0,0,0,0,0,0,0,0,0,0,0,0,0,0,0,0,0,0,0,0,0,0,0,0,0,0,0,0,0,0,0,0,0,0,0,0,0,0,0,0,0,0,0,0,0,0,0,0,0,0,0,0,0,0,0,0,0,0,0,0,0,0,0,0,0,0,0,0,0,0,0,0,0,0,0,0,0,0,0,0,0,0,0,0,0,0,0,0,0,0,0,0,0,0,0,0,0,0,0,0,0,0,0,0,0,0,0,0,0,0,0,0,0,0,0,0,0,0,0,0,0,0,0,0,0,0,0,0,0,0,0,0,0,0,0,0,0,0,0,0,0,0,0,0,0,0,0,0,0,0,0,0,0,0,0,0,0,0,0,0,0,0,0,0,0,0,0,0,0,0,0,0,0,0,0,0,0,0,0,0,0,0,0,0,0,0,0,0,0,0,0,0,0,0,0,0,0,0,0,0,0,0,0,0,0,0,0,0,0,0,0,0,0,0,0,0,0,0,0,0,0,0,0,0,0,0,0,0,0,0,0,0,0,0,0,0,0,0,0,0,0,0,0,0,0,0,0,0,0,0,0,0,0,0,0,0,0,0,0,0,0,0,0,0,0,0,0,0,0,0,0,0,0,0,0,0,0,0,0,0,0,0,0,0,0,0,0,0,0,0,0,0,0,0,0,0,0,0,0,0,0,0,0,0,0,0,0,0,0,0,0,0,0,0,0,0,0,0,0,0,0,0,0,0,0,0,0,0,0,0,0,0,0,0,0,0,0,0,0,0,0,0,0,0,0,0,0,0,0,0,0,0,0,0,0,0,0,0,0,0,0,0,0,0,0,0,0,0,0,0,0,0,0,0,0,0,0,0,0,0,0,0,0,0,0,0,0,0,0,0,0,0,0,0,0,0,0,0,0,0,0,0,0,0,0,0,0,0,0,0,0,0,0,0,0,0,0,0,0,0,0,0,0,0,0,0,0,0,0,0,0,0,0,0,0,0,0,0,0,0,0,0,0,0,0,0,0,0,0,0,0,0,0,0,0,0,0,0,0,0,0,0,0,0,0,0,0,0,0,0,0,0,0,0,0,0,0,0,0,0,0,0,0,0,0,0,0,0,0,0,0,0,0,0,0,0,0,0,0,0,0,0,0,0,0,0,0,0,0,0,0,0,0,0,0,0,0,0,0,0,0,0,0,0,0,0,0,0,0,0,0,0,0,0,0,0,0,0,0,0,0,0,0,0,0,0,0,0,0,0,0,0,0,0,0,0,0,0,0,0,0,0,0,0,0,0,0,0,0,0,0,0,0,0,0,0,0,0,0,0,0,0,0,0,0,0,0,0,0,0,0,0,0,0,0,0,0,0,0,0,0,0,0,0,0,0,0,0,0,0,0,0,0,0,0,0,0,0,0,0,0,0,0,0,0,0,0,0,0,0,0,0,0,0,0,0,0,0,0,0,0,0,0,0,0,0,0,0,0,0,0,0,0,0,0,0,0,0,0,0,0,0,0,0,0,0,0,0,0,0,0,0,0,0,0,0,0,0,0,0,0,0,0,0,0,0,0,0,0,0,0,0,0,0,0,0,0,0,0,0,0,0,0,0,0,0,0,0,0,0,0,0,0,0,0,0,0,0,0,0,0,0,0,0,0,0,0,0,0,0,0,0,0,0,0,0,0,0,0,0,0,0,0,0,0,0,0,0,0,0,0,0,0,0,0,0,0,0,0,0,0,0,0,0,0,0,0,0,0,0,0,0,0,0,0,0,0,0,0,0,0,0,0,0,0,0,0,0,0,0,0,0,0,0,0,0,0,0,0,0,0,0,0,0,0,0,0,0,0,0,0,0,0,0,0,0,0,0,0,0,0,0,0,0,0,0,0,0,0,0,0,0,0,0,0,0,0,0,0,0,0,0,0,0,0,0,0,0,0,0,0,0,0,0,0,0,0,0,0,0,0,0,0,0,0,0,0,0,0,0,0,0,0,0,0,0,0,0,0,0,0,0,0,0,0,0,0,0,0,0,0,0,0,0,0,0,0,0,0,0,0,0,0,0,0,0,0,0,0,0,0,0,0,0,0,0,0,0,0,0,0,0,0,0,0,0,0,0,0,0,0,0,0,0,0,0,0,0,0,0,0,0,0,0,0,0,0,0,0,0,0,0,0,0,0,0,0,0,0,0,0,0,0,0,0,0,0,0,0,0,0,0,0,0,0,0,0,0,0,0,0,0,0,0,0,0,0,0,0,0,0,0,0,0,0,0,0,0,0,0,0,0,0,0,0,0,0,0,0,0,0,0,0,0,0,0,0,0,0,0,0,0,0,0,0,0,0,0,0,0,0,0,0,0,0,0,0,0,0,0,0,0,0,0,0,0,0,0,0,0,0,0,0,0,0,0,0,0,0,0,0,0,0,0,0,0,0,0,0,0,0,0,0,0,0,0,0,0,0,0,0,0,0,0,0,0,0,0,0,0,0,0,0,0,0,0,0,0,0,0,0,0,0,0,0,0,0,0,0,0,0,0,0,0,0,0,0,0,0,0,0,0,0,0,0,0,0,0,0,0,0,0,0,0,0,0,0,0,0,0,0,0,0,0,0,0,0,0,0,0,0,0,0,0,0,0,0,0,0,0,0,0,0,0,0,0,0,0,0,0,0,0,0,0,0,0,0,0,0,0,0,0,0,0,0,0,0,0,0,0,0,0,0,0,0,0,0,0,0,0,0,0,0,0,0,0,0,0,0,0,0,0,0,0,0,0,0,0,0,0,0,0,0,0,0,0,0,0,0,0,0,0,0,0,0,0,0,0,0,0,0,0,0,0,0,0,0,0,0,0,0,0,0,0,0,0,0,0,0,0,0,0,0,0,0,0,0,0,0,0,0,0,0,0,0,0,0,0,0,0,0,0,0,0,0,0,0,0,0,0,0,0,0,0,0,0,0,0,0,0,0,0,0,0,0,0,0,0,0,0,0,0,0,0,0,0,0,0,0,0,0,0,0,0,0,0,0,0,0,0,0,0,0,0,0,0,0,0,0,0,0,0,0,0,0,0,0,0,0,0,0,0,0,0,0,0,0,0,0,0,0,0,0,0,0,0,0,0,0,0,0,0,0,0,0,0,0,0,0,0,0,0,0,0,0,0,0,0,0,0,0,0,0,0,0,0,0,0,0,0,0,0,0,0,0,0,0,0,0,0,0,0,0,0,0,0,0,0,0,0,0,0,0,0,0,0,0,0,0,0,0,0,0,0,0,0,0,0,0,0,0,0,0,0,0,0,0,0,0,0,0,0,0,0,0,0,0,0,0,0,0,0,0,0,0,0,0,0,0,0,0,0,0,0,0,0,0,0,0,0,0,0,0,0,0,0,0,0,0,0,0,0,0,0,0,0,0,0,0,0,0,0,0,0,0,0,0,0,0,0,0,0,0,0,0,0,0,0,0,0,0,0,0,0,0,0,0,0,0,0,0,0,0,0,0,0,0,0,0,0,0,0,0,0,0,0,0,0,0,0,0,0,0,0,0,0,0,0,0,0,0,0,0,0,0,0,0,0,0,0,0,0,0,0,0,0,0,0,0,0,0,0,0,0,0,0,0,0,0,0,0,0,0,0,0,0,0,0,0,0,0,0,0,0,0,0,0,0,0,0,0,0,0,0,0,0,0,0,0,0,0,0,0,0,0,0,0,0,0,0,0,0,0,0,0,0,0,0,0,0,0,0,0,0,0,0,0,0,0,0,0,0,0,0,0,0,0,0,0,0,0,0,0,0,0,0,0,0,0,0,0,0,0,0,0,0,0,0,0,0,0,0,0,0,0,0,0,0,0,0,0,0,0,0,0,0,0,0,0,0,0,0,0,0,0,0,0,0,0,0,0,0,0,0,0,0,0,0,0,0,0,0,0,0,0,0,0,0,0,0,0,0,0,0,0,0,0,0,0,0,0,0,0,0,0,0,0,0,0,0,0,0,0,0,0,0,0,0,0,0,0,0,0,0,0,0,0,0,0,0,0,0,0,0,0,0,0,0,0,0,0,0,0,0,0,0,0,0,0,0,0,0,0,0,0,0,0,0,0,0,0,0,0,0,0,0,0,0,0,0,0,0,0,0,0,0,0,0,0,0,0,0,0,0,0,0,0,0,0,0,0,0,0,0,0,0,0,0,0,0,0,0,0,0,0,0,0,0,0,0,0,0,0,0,0,0,0,0,0,0,0,0,0,0,0,0,0,0,0,0,0,0,0,0,0,0,0,0,0,0,0,0,0,0,0,0,0,0,0,0,0,0,0,0,0,0,0,0,0,0,0,0,0,0,0,0,0,0,0,0,0,0,0,0,0,0,0,0,0,0,0,0,0,0,0,0,0,0,0,0,0,0,0,0,0,0,0,0,0,0,0,0,0,0,0,0,0,0,0,0,0,0,0,0,0,0,0,0,0,0,0,0,0,0,0,0,0,0,0,0,0,0,0,0,0,0,0,0,0,0,0,0,0,0,0,0,0,0,0,0,0,0,0,0,0,0,0,0,0,0,0,0,0,0,0,0,0,0,0,0,0,0,0,0,0,0,0,0,0,0,0,0,0,0,0,0,0,0,0,0,0,0,0,0,0,0,0,0,0,0,0,0,0,0,0,0,0,0,0,0,0,0,0,0,0,0,0,0,0,0,0,0,0,0,0,0,0,0,0,0,0,0,0,0,0,0,0,0,0,0,0,0,0,0,0,0,0,0,0,0,0,0,0,0,0,0,0,0,0,0,0,0,0,0,0,0,0,0,0,0,0,0,0,0,0,0,0,0,0,0,0,0,0,0,0,0,0,0,0,0,0,0,0,0,0,0,0,0,0,0,0,0,0,0,0,0,0,0,0,0,0,0,0,0,0,0,0,0,0,0,0,0,0,0,0,0,0,0,0,0,0,0,0,0,0,0,0,0,0,0,0,0,0,0,0,0,0,0,0,0,0,0,0,0,0,0,0,0,0,0,0,0,0,0,0,0,0,0,0,0,0,0,0,0,0,0,0,0,0,0,0,0,0,0,0,0,0,0,0,0,0,0,0,0,0,0,0,0,0,0,0,0,0,0,0,0,0,0,0,0,0,0,0,0,0,0,0,0,0,0,0,0,0,0,0,0,0,0,0,0,0,0,0,0,0,0,0,0,0,0,0,0,0,0,0,0,0,0,0,0,0,0,0,0,0,0,0,0,0,0,0,0,0,0,0,0,0,0,0,0,0,0,0,0,0,0,0,0,0,0,0,0,0,0,0,0,0,0,0,0,0,0,0,0,0,0,0,0,0,0,0,0,0,0,0,0,0,0,0,0,0,0,0,0,0,0,0,0,0,0,0,0,0,0,0,0,0,0,0,0,0,0,0,0,0,0,0,0,0,0,0,0,0,0,0,0,0,0,0,0,0,0,0,0,0,0,0,0,0,0,0,0,0,0,0,0,0,0,0,0,0,0,0,0,0,0,0,0,0,0,0,0,0,0,0,0,0,0,0,0,0,0,0,0,0,0,0,0,0,0,0,0,0,0,0,0,0,0,0,0,0,0,0,0,0,0,0,0,0,0,0,0,0,0,0,0,0,0,0,0,0,0,0,0,0,0,0,0,0,0,0,0,0,0,0,0,0,0,0,0,0,0,0,0,0,0,0,0,0,0,0,0,0,0,0,0,0,0,0,0,0,0,0,0,0,0,0,0,0,0,0,0,0,0,0,0,0,0,0,0,0,0,0,0,0,0,0,0,0,0,0,0,0,0,0,0,0,0,0,0,0,0,0,0,0,0,0,0,0,0,0,0,0,0,0,0,0,0,0,0,0,0,0,0,0,0,0,0,0,0,0,0,0,0,0,0,0,0,0,0,0,0,0,0,0,0,0,0,0,0,0,0,0,0,0,0,0,0,0,0,0,0,0,0,0,0,0,0,0,0,0,0,0,0,0,0,0,0,0,0,0,0,0,0,0,0,0,0,0,0,0,0,0,0,0,0,0,0,0,0,0,0,0,0,0,0,0,0,0,0,0,0,0,0,0,0,0,0,0,0,0,0,0,0,0,0,0,0,0,0,0,0,0,0,0,0,0,0,0,0,0,0,0,0,0,0,0,0,0,0,0,0,0,0,0,0,0,0,0,0,0,0,0,0,0,0,0,0,0,0,0,0,0,0,0,0,0,0,0,0,0,0,0,0,0,0,0,0,0,0,0,0,0,0,0,0,0,0,0,0,0,0,0,0,0,0,0,0,0,0,0,0,0,0,0,0,0,0,0,0,0,0,0,0,0,0,0,0,0,0,0,0,0,0,0,0,0,0,0,0,0,0,0,0,0,0,0,0,0,0,0,0,0,0,0,0,0,0,0,0,0,0,0,0,0,0,0,0,0,0,0,0,0,0,0,0,0,0,0,0,0,0,0,0,0,0,0,0,0,0,0,0,0,0,0,0,0,0,0,0,0,0,0,0,0,0,0,0,0,0,0,0,0,0,0,0,0,0,0,0,0,0,0,0,0,0,0,0,0,0,0,0,0,0,0,0,0,0,0,0,0,0,0,0,0,0,0,0,0,0,0,0,0,0,0,0,0,0,0,0,0,0,0,0,0,0,0,0,0,0,0,0,0,0,0,0,0,0,0,0,0,0,0,0,0,0,0,0,0,0,0,0,0,0,0,0,0,0,0,0,0,0,0,0,0,0,0,0,0,0,0,0,0,0,0,0,0,0,0,0,0,0,0,0,0,0,0,0,0,0,0,0,0,0,0,0,0,0,0,0,0,0,0,0,0,0,0,0,0,0,0,0,0,0,0,0,0,0,0,0,0,0,0,0,0,0,0,0,0,0,0,0,0,0,0,0,0,0,0,0,0,0,0,0,0,0,0,0,0,0,0,0,0,0,0,0,0,0,0,0,0,0,0,0,0,0,0,0,0,0,0,0,0,0,0,0,0,0,0,0,0,0,0,0,0,0,0,0,0,0,0,0,0,0,0,0,0,0,0,0,0,0,0,0,0,0,0,0,0,0,0,0,0,0,0,0,0,0,0,0,0,0,0,0,0,0,0,0,0,0,0,0,0,0,0,0,0,0,0,0,0,0,0,0,0,0,0,0,0,0,0,0,0,0,0,0,0,0,0,0,0,0,0,0,0,0,0,0,0,0,0,0,0,0,0,0,0,0,0,0,0,0,0,0,0,0,0,0,0,0,0,0,0,0,0,0,0,0,0,0,0,0,0,0,0,0,0,0,0,0,0,0,0,0,0,0,0,0,0,0,0,0,0,0,0,0,0,0,0,0,0,0,0,0,0,0,0,0,0,0,0,0,0,0,0,0,0,0,0,0,0,0,0,0,0,0,0,0,0,0,0,0,0,0,0,0,0,0,0,0,0,0,0,0,0,0,0,0,0,0,0,0,0,0,0,0,0,0,0,0,0,0,0,0,0,0,0,0,0,0,0,0,0,0,0,0,0,0,0,0,0,0,0,0,0,0,0,0,0,0,0,0,0,0,0,0,0,0,0,0,0,0,0,0,0,0,0,0,0,0,0,0,0,0,0,0,0,0,0,0,0,0,0,0,0,0,0,0,0,0,0,0,0,0,0,0,0,0,0,0,0,0,0,0,0,0,0,0,0,0,0,0,0,0,0,0,0,0,0,0,0,0,0,0,0,0,0,0,0,0,0,0,0,0,0,0,0,0,0,0,0,0,0,0,0,0,0,0,0,0,0,0,0,0,0,0,0,0,0,0,0,0,0,0,0,0,0,0,0,0,0,0,0,0,0,0,0,0,0,0,0,0,0,0,0,0,0,0,0,0,0,0,0,0,0,0,0,0,0,0,0,0,0,0,0,0,0,0,0,0,0,0,0,0,0,0,0,0,0,0,0,0,0,0,0,0,0,0,0,0,0,0,0,0,0,0,0,0,0,0,0,0,0,0,0,0,0,0,0,0,0,0,0,0,0,0,0,0,0,0,0,0,0,0,0,0,0,0,0,0,0,0,0,0,0,0,0,0,0,0,0,0,0,0,0,0,0,0,0,0,0,0,0,0,0,0,0,0,0,0,0,0,0,0,0,0,0,0,0,0,0,0,0,0,0,0,0,0,0,0,0,0,0,0,0,0,0,0,0,0,0,0,0,0,0,0,0,0,0,0,0,0,0,0,0,0,0,0,0,0,0,0,0,0,0,0,0,0,0,0,0,0,0,0,0,0,0,0,0,0,0,0,0,0,0,0,0,0,0,0,0,0,0,0,0,0,0,0,0,0,0,0,0,0,0,0,0,0,0,0,0,0,0,0,0,0,0,0,0,0,0,0,0,0,0,0,0,0,0,0,0,0,0,0,0,0,0,0,0,0,0,0,0,0,0,0,0,0,0,0,0,0,0,0,0,0,0,0,0,0,0,0,0,0,0,0,0,0,0,0,0,0,0,0,0,0,0,0,0,0,0,0,0,0,0,0,0,0,0,0,0,0,0,0,0,0,0,0,0,0,0,0,0,0,0,0,0,0,0,0,0,0,0,0,0,0,0,0,0,0,0,0,0,0,0,0,0,0,0,0,0,0,0,0,0,0,0,0,0,0,0,0,0,0,0,0,0,0,0,0,0,0,0,0,0,0,0,0,0,0,0,0,0,0,0,0,0,0,0,0,0,0,0,0,0,0,0,0,0,0,0,0,0,0,0,0,0,0,0,0,0,0,0,0,0,0,0,0,0,0,0,0,0,0,0,0,0,0,0,0,0,0,0,0,0,0,0,0,0,0,0,0,0,0,0,0,0,0,0,0,0,0,0,0,0,0,0,0,0,0,0,0,0,0,0,0,0,0,0,0,0,0,0,0,0,0,0,0,0,0,0,0,0,0,0,0,0,0,0,0,0,0,0,0,0,0,0,0,0,0,0,0,0,0,0,0,0,0,0,0,0,0,0,0,0,0,0,0,0,0,0,0,0,0,0,0,0,0,0,0,0,0,0,0,0,0,0,0,0,0,0,0,0,0,0,0,0,0,0,0,0,0,0,0,0,0,0,0,0,0,0,0,0,0,0,0,0,0,0,0,0,0,0,0,0,0,0,0,0,0,0,0,0,0,0,0,0,0,0,0,0,0,0,0,0,0,0,0,0,0,0,0,0,0,0,0,0,0,0,0,0,0,0,0,0,0,0,0,0,0,0,0,0,0,0,0,0,0,0,0,0,0,0,0,0,0,0,0,0,0,0,0,0,0,0,0,0,0,0,0,0,0,0,0,0,0,0,0,0,0,0,0,0,0,0,0,0,0,0,0,0,0,0,0,0,0,0,0,0,0,0,0,0,0,0,0,0,0,0,0,0,0,0,0,0,0,0,0,0,0,0,0,0,0,0,0,0,0,0,0,0,0,0,0,0,0,0,0,0,0,0,0,0,0,0,0,0,0,0,0,0,0,0,0,0,0,0,0,0,0,0,0,0,0,0,0,0,0,0,0,0,0,0,0,0,0,0,0,0,0,0,0,0,0,0,0,0,0,0,0,0,0,0,0,0,0,0,0,0,0,0,0,0,0,0,0,0,0,0,0,0,0,0,0,0,0,0,0,0,0,0,0,0,0,0,0,0,0,0,0,0,0,0,0,0,0,0,0,0,0,0,0,0,0,0,0,0,0,0,0,0,0,0,0,0,0,0,0,0,0,0,0,0,0,0,0,0,0,0,0,0,0,0,0,0,0,0,0,0,0,0,0,0,0,0,0,0,0,0,0,0,0,0,0,0,0,0,0,0,0,0,0,0,0,0,0,0,0,0,0,0,0,0,0,0,0,0,0,0,0,0,0,0,0,0,0,0,0,0,0,0,0,0,0,0,0,0,0,0,0,0,0,0,0,0,0,0,0,0,0,0,0,0,0,0,0,0,0,0,0,0,0,0,0,0,0,0,0,0,0,0,0,0,0,0,0,0],\"xaxis\":\"x\",\"yaxis\":\"y\",\"type\":\"histogram\"},{\"alignmentgroup\":\"True\",\"bingroup\":\"x\",\"hovertemplate\":\"cancelado=%{x}\\u003cbr\\u003ecount=%{y}\\u003cextra\\u003e\\u003c\\u002fextra\\u003e\",\"legendgroup\":\"1\",\"marker\":{\"color\":\"#EF553B\",\"pattern\":{\"shape\":\"\"}},\"name\":\"1\",\"offsetgroup\":\"1\",\"orientation\":\"v\",\"showlegend\":true,\"texttemplate\":\"%{value}\",\"x\":[1,1,1,1,1,1,1,1,1,1,1,1,1,1,1,1,1,1,1,1,1,1,1,1,1,1,1,1,1,1,1,1,1,1,1,1,1,1,1,1,1,1,1,1,1,1,1,1,1,1,1,1,1,1,1,1,1,1,1,1,1,1,1,1,1,1,1,1,1,1,1,1,1,1,1,1,1,1,1,1,1,1,1,1,1,1,1,1,1,1,1,1,1,1,1,1,1,1,1,1,1,1,1,1,1,1,1,1,1,1,1,1,1,1,1,1,1,1,1,1,1,1,1,1,1,1,1,1,1,1,1,1,1,1,1,1,1,1,1,1,1,1,1,1,1,1,1,1,1,1,1,1,1,1,1,1,1,1,1,1,1,1,1,1,1,1,1,1,1,1,1,1,1,1,1,1,1,1,1,1,1,1,1,1,1,1,1,1,1,1,1,1,1,1,1,1,1,1,1,1,1,1,1,1,1,1,1,1,1,1,1,1,1,1,1,1,1,1,1,1,1,1,1,1,1,1,1,1,1,1,1,1,1,1,1,1,1,1,1,1,1,1,1,1,1,1,1,1,1,1,1,1,1,1,1,1,1,1,1,1,1,1,1,1,1,1,1,1,1,1,1,1,1,1,1,1,1,1,1,1,1,1,1,1,1,1,1,1,1,1,1,1,1,1,1,1,1,1,1,1,1,1,1,1,1,1,1,1,1,1,1,1,1,1,1,1,1,1,1,1,1,1,1,1,1,1,1,1,1,1,1,1,1,1,1,1,1,1,1,1,1,1,1,1,1,1,1,1,1,1,1,1,1,1,1,1,1,1,1,1,1,1,1,1,1,1,1,1,1,1,1,1,1,1,1,1,1,1,1,1,1,1,1,1,1,1,1,1,1,1,1,1,1,1,1,1,1,1,1,1,1,1,1,1,1,1,1,1,1,1,1,1,1,1,1,1,1,1,1,1,1,1,1,1,1,1,1,1,1,1,1,1,1,1,1,1,1,1,1,1,1,1,1,1,1,1,1,1,1,1,1,1,1,1,1,1,1,1,1,1,1,1,1,1,1,1,1,1,1,1,1,1,1,1,1,1,1,1,1,1,1,1,1,1,1,1,1,1,1,1,1,1,1,1,1,1,1,1,1,1,1,1,1,1,1,1,1,1,1,1,1,1,1,1,1,1,1,1,1,1,1,1,1,1,1,1,1,1,1,1,1,1,1,1,1,1,1,1,1,1,1,1,1,1,1,1,1,1,1,1,1,1,1,1,1,1,1,1,1,1,1,1,1,1,1,1,1,1,1,1,1,1,1,1,1,1,1,1,1,1,1,1,1,1,1,1,1,1,1,1,1,1,1,1,1,1,1,1,1,1,1,1,1,1,1,1,1,1,1,1,1,1,1,1,1,1,1,1,1,1,1,1,1,1,1,1,1,1,1,1,1,1,1,1,1,1,1,1,1,1,1,1,1,1,1,1,1,1,1,1,1,1,1,1,1,1,1,1,1,1,1,1,1,1,1,1,1,1,1,1,1,1,1,1,1,1,1,1,1,1,1,1,1,1,1,1,1,1,1,1,1,1,1,1,1,1,1,1,1,1,1,1,1,1,1,1,1,1,1,1,1,1,1,1,1,1,1,1,1,1,1,1,1,1,1,1,1,1,1,1,1,1,1,1,1,1,1,1,1,1,1,1,1,1,1,1,1,1,1,1,1,1,1,1,1,1,1,1,1,1,1,1,1,1,1,1,1,1,1,1,1,1,1,1,1,1,1,1,1,1,1,1,1,1,1,1,1,1,1,1,1,1,1,1,1,1,1,1,1,1,1,1,1,1,1,1,1,1,1,1,1,1,1,1,1,1,1,1,1,1,1,1,1,1,1,1,1,1,1,1,1,1,1,1,1,1,1,1,1,1,1,1,1,1,1,1,1,1,1,1,1,1,1,1,1,1,1,1,1,1,1,1,1,1,1,1,1,1,1,1,1,1,1,1,1,1,1,1,1,1,1,1,1,1,1,1,1,1,1,1,1,1,1,1,1,1,1,1,1,1,1,1,1,1,1,1,1,1,1,1,1,1,1,1,1,1,1,1,1,1,1,1,1,1,1,1,1,1,1,1,1,1,1,1,1,1,1,1,1,1,1,1,1,1,1,1,1,1,1,1,1,1,1,1,1,1,1,1,1,1,1,1,1,1,1,1,1,1,1,1,1,1,1,1,1,1,1,1,1,1,1,1,1,1,1,1,1,1,1,1,1,1,1,1,1,1,1,1,1,1,1,1,1,1,1,1,1,1,1,1,1,1,1,1,1,1,1,1,1,1,1,1,1,1,1,1,1,1,1,1,1,1,1,1,1,1,1,1,1,1,1,1,1,1,1,1,1,1,1,1,1,1,1,1,1,1,1,1,1,1,1,1,1,1,1,1,1,1,1,1,1,1,1,1,1,1,1,1,1,1,1,1,1,1,1,1,1,1,1,1,1,1,1,1,1,1,1,1,1,1,1,1,1,1,1,1,1,1,1,1,1,1,1,1,1,1,1,1,1,1,1,1,1,1,1,1,1,1,1,1,1,1,1,1,1,1,1,1,1,1,1,1,1,1,1,1,1,1,1,1,1,1,1,1,1,1,1,1,1,1,1,1,1,1,1,1,1,1,1,1,1,1,1,1,1,1,1,1,1,1,1,1,1,1,1,1,1,1,1,1,1,1,1,1,1,1,1,1,1,1,1,1,1,1,1,1,1,1,1,1,1,1,1,1,1,1,1,1,1,1,1,1,1,1,1,1,1,1,1,1,1,1,1,1,1,1,1,1,1,1,1,1,1,1,1,1,1,1,1,1,1,1,1,1,1,1,1,1,1,1,1,1,1,1,1,1,1,1,1,1,1,1,1,1,1,1,1,1,1,1,1,1,1,1,1,1,1,1,1,1,1,1,1,1,1,1,1,1,1,1,1,1,1,1,1,1,1,1,1,1,1,1,1,1,1,1,1,1,1,1,1,1,1,1,1,1,1,1,1,1,1,1,1,1,1,1,1,1,1,1,1,1,1,1,1,1,1,1,1,1,1,1,1,1,1,1,1,1,1,1,1,1,1,1,1,1,1,1,1,1,1,1,1,1,1,1,1,1,1,1,1,1,1,1,1,1,1,1,1,1,1,1,1,1,1,1,1,1,1,1,1,1,1,1,1,1,1,1,1,1,1,1,1,1,1,1,1,1,1,1,1,1,1,1,1,1,1,1,1,1,1,1,1,1,1,1,1,1,1,1,1,1,1,1,1,1,1,1,1,1,1,1,1,1,1,1,1,1,1,1,1,1,1,1,1,1,1,1,1,1,1,1,1,1,1,1,1,1,1,1,1,1,1,1,1,1,1,1,1,1,1,1,1,1,1,1,1,1,1,1,1,1,1,1,1,1,1,1,1,1,1,1,1,1,1,1,1,1,1,1,1,1,1,1,1,1,1,1,1,1,1,1,1,1,1,1,1,1,1,1,1,1,1,1,1,1,1,1,1,1,1,1,1,1,1,1,1,1,1,1,1,1,1,1,1,1,1,1,1,1,1,1,1,1,1,1,1,1,1,1,1,1,1,1,1,1,1,1,1,1,1,1,1,1,1,1,1,1,1,1,1,1,1,1,1,1,1,1,1,1,1,1,1,1,1,1,1,1,1,1,1,1,1,1,1,1,1,1,1,1,1,1,1,1,1,1,1,1,1,1,1,1,1,1,1,1,1,1,1,1,1,1,1,1,1,1,1,1,1,1,1,1,1,1,1,1,1,1,1,1,1,1,1,1,1,1,1,1,1,1,1,1,1,1,1,1,1,1,1,1,1,1,1,1,1,1,1,1,1,1,1,1,1,1,1,1,1,1,1,1,1,1,1,1,1,1,1,1,1,1,1,1,1,1,1,1,1,1,1,1,1,1,1,1,1,1,1,1,1,1,1,1,1,1,1,1,1,1,1,1,1,1,1,1,1,1,1,1,1,1,1,1,1,1,1,1,1,1,1,1,1,1,1,1,1,1,1,1,1,1,1,1,1,1,1,1,1,1,1,1,1,1,1,1,1,1,1,1,1,1,1,1,1,1,1,1,1,1,1,1,1,1,1,1,1,1,1,1,1,1,1,1,1,1,1,1,1,1,1,1,1,1,1,1,1,1,1,1,1,1,1,1,1,1,1,1,1,1,1,1,1,1,1,1,1,1,1,1,1,1,1,1,1,1,1,1,1,1,1],\"xaxis\":\"x\",\"yaxis\":\"y\",\"type\":\"histogram\"}],                        {\"template\":{\"data\":{\"histogram2dcontour\":[{\"type\":\"histogram2dcontour\",\"colorbar\":{\"outlinewidth\":0,\"ticks\":\"\"},\"colorscale\":[[0.0,\"#0d0887\"],[0.1111111111111111,\"#46039f\"],[0.2222222222222222,\"#7201a8\"],[0.3333333333333333,\"#9c179e\"],[0.4444444444444444,\"#bd3786\"],[0.5555555555555556,\"#d8576b\"],[0.6666666666666666,\"#ed7953\"],[0.7777777777777778,\"#fb9f3a\"],[0.8888888888888888,\"#fdca26\"],[1.0,\"#f0f921\"]]}],\"choropleth\":[{\"type\":\"choropleth\",\"colorbar\":{\"outlinewidth\":0,\"ticks\":\"\"}}],\"histogram2d\":[{\"type\":\"histogram2d\",\"colorbar\":{\"outlinewidth\":0,\"ticks\":\"\"},\"colorscale\":[[0.0,\"#0d0887\"],[0.1111111111111111,\"#46039f\"],[0.2222222222222222,\"#7201a8\"],[0.3333333333333333,\"#9c179e\"],[0.4444444444444444,\"#bd3786\"],[0.5555555555555556,\"#d8576b\"],[0.6666666666666666,\"#ed7953\"],[0.7777777777777778,\"#fb9f3a\"],[0.8888888888888888,\"#fdca26\"],[1.0,\"#f0f921\"]]}],\"heatmap\":[{\"type\":\"heatmap\",\"colorbar\":{\"outlinewidth\":0,\"ticks\":\"\"},\"colorscale\":[[0.0,\"#0d0887\"],[0.1111111111111111,\"#46039f\"],[0.2222222222222222,\"#7201a8\"],[0.3333333333333333,\"#9c179e\"],[0.4444444444444444,\"#bd3786\"],[0.5555555555555556,\"#d8576b\"],[0.6666666666666666,\"#ed7953\"],[0.7777777777777778,\"#fb9f3a\"],[0.8888888888888888,\"#fdca26\"],[1.0,\"#f0f921\"]]}],\"heatmapgl\":[{\"type\":\"heatmapgl\",\"colorbar\":{\"outlinewidth\":0,\"ticks\":\"\"},\"colorscale\":[[0.0,\"#0d0887\"],[0.1111111111111111,\"#46039f\"],[0.2222222222222222,\"#7201a8\"],[0.3333333333333333,\"#9c179e\"],[0.4444444444444444,\"#bd3786\"],[0.5555555555555556,\"#d8576b\"],[0.6666666666666666,\"#ed7953\"],[0.7777777777777778,\"#fb9f3a\"],[0.8888888888888888,\"#fdca26\"],[1.0,\"#f0f921\"]]}],\"contourcarpet\":[{\"type\":\"contourcarpet\",\"colorbar\":{\"outlinewidth\":0,\"ticks\":\"\"}}],\"contour\":[{\"type\":\"contour\",\"colorbar\":{\"outlinewidth\":0,\"ticks\":\"\"},\"colorscale\":[[0.0,\"#0d0887\"],[0.1111111111111111,\"#46039f\"],[0.2222222222222222,\"#7201a8\"],[0.3333333333333333,\"#9c179e\"],[0.4444444444444444,\"#bd3786\"],[0.5555555555555556,\"#d8576b\"],[0.6666666666666666,\"#ed7953\"],[0.7777777777777778,\"#fb9f3a\"],[0.8888888888888888,\"#fdca26\"],[1.0,\"#f0f921\"]]}],\"surface\":[{\"type\":\"surface\",\"colorbar\":{\"outlinewidth\":0,\"ticks\":\"\"},\"colorscale\":[[0.0,\"#0d0887\"],[0.1111111111111111,\"#46039f\"],[0.2222222222222222,\"#7201a8\"],[0.3333333333333333,\"#9c179e\"],[0.4444444444444444,\"#bd3786\"],[0.5555555555555556,\"#d8576b\"],[0.6666666666666666,\"#ed7953\"],[0.7777777777777778,\"#fb9f3a\"],[0.8888888888888888,\"#fdca26\"],[1.0,\"#f0f921\"]]}],\"mesh3d\":[{\"type\":\"mesh3d\",\"colorbar\":{\"outlinewidth\":0,\"ticks\":\"\"}}],\"scatter\":[{\"fillpattern\":{\"fillmode\":\"overlay\",\"size\":10,\"solidity\":0.2},\"type\":\"scatter\"}],\"parcoords\":[{\"type\":\"parcoords\",\"line\":{\"colorbar\":{\"outlinewidth\":0,\"ticks\":\"\"}}}],\"scatterpolargl\":[{\"type\":\"scatterpolargl\",\"marker\":{\"colorbar\":{\"outlinewidth\":0,\"ticks\":\"\"}}}],\"bar\":[{\"error_x\":{\"color\":\"#2a3f5f\"},\"error_y\":{\"color\":\"#2a3f5f\"},\"marker\":{\"line\":{\"color\":\"#E5ECF6\",\"width\":0.5},\"pattern\":{\"fillmode\":\"overlay\",\"size\":10,\"solidity\":0.2}},\"type\":\"bar\"}],\"scattergeo\":[{\"type\":\"scattergeo\",\"marker\":{\"colorbar\":{\"outlinewidth\":0,\"ticks\":\"\"}}}],\"scatterpolar\":[{\"type\":\"scatterpolar\",\"marker\":{\"colorbar\":{\"outlinewidth\":0,\"ticks\":\"\"}}}],\"histogram\":[{\"marker\":{\"pattern\":{\"fillmode\":\"overlay\",\"size\":10,\"solidity\":0.2}},\"type\":\"histogram\"}],\"scattergl\":[{\"type\":\"scattergl\",\"marker\":{\"colorbar\":{\"outlinewidth\":0,\"ticks\":\"\"}}}],\"scatter3d\":[{\"type\":\"scatter3d\",\"line\":{\"colorbar\":{\"outlinewidth\":0,\"ticks\":\"\"}},\"marker\":{\"colorbar\":{\"outlinewidth\":0,\"ticks\":\"\"}}}],\"scattermapbox\":[{\"type\":\"scattermapbox\",\"marker\":{\"colorbar\":{\"outlinewidth\":0,\"ticks\":\"\"}}}],\"scatterternary\":[{\"type\":\"scatterternary\",\"marker\":{\"colorbar\":{\"outlinewidth\":0,\"ticks\":\"\"}}}],\"scattercarpet\":[{\"type\":\"scattercarpet\",\"marker\":{\"colorbar\":{\"outlinewidth\":0,\"ticks\":\"\"}}}],\"carpet\":[{\"aaxis\":{\"endlinecolor\":\"#2a3f5f\",\"gridcolor\":\"white\",\"linecolor\":\"white\",\"minorgridcolor\":\"white\",\"startlinecolor\":\"#2a3f5f\"},\"baxis\":{\"endlinecolor\":\"#2a3f5f\",\"gridcolor\":\"white\",\"linecolor\":\"white\",\"minorgridcolor\":\"white\",\"startlinecolor\":\"#2a3f5f\"},\"type\":\"carpet\"}],\"table\":[{\"cells\":{\"fill\":{\"color\":\"#EBF0F8\"},\"line\":{\"color\":\"white\"}},\"header\":{\"fill\":{\"color\":\"#C8D4E3\"},\"line\":{\"color\":\"white\"}},\"type\":\"table\"}],\"barpolar\":[{\"marker\":{\"line\":{\"color\":\"#E5ECF6\",\"width\":0.5},\"pattern\":{\"fillmode\":\"overlay\",\"size\":10,\"solidity\":0.2}},\"type\":\"barpolar\"}],\"pie\":[{\"automargin\":true,\"type\":\"pie\"}]},\"layout\":{\"autotypenumbers\":\"strict\",\"colorway\":[\"#636efa\",\"#EF553B\",\"#00cc96\",\"#ab63fa\",\"#FFA15A\",\"#19d3f3\",\"#FF6692\",\"#B6E880\",\"#FF97FF\",\"#FECB52\"],\"font\":{\"color\":\"#2a3f5f\"},\"hovermode\":\"closest\",\"hoverlabel\":{\"align\":\"left\"},\"paper_bgcolor\":\"white\",\"plot_bgcolor\":\"#E5ECF6\",\"polar\":{\"bgcolor\":\"#E5ECF6\",\"angularaxis\":{\"gridcolor\":\"white\",\"linecolor\":\"white\",\"ticks\":\"\"},\"radialaxis\":{\"gridcolor\":\"white\",\"linecolor\":\"white\",\"ticks\":\"\"}},\"ternary\":{\"bgcolor\":\"#E5ECF6\",\"aaxis\":{\"gridcolor\":\"white\",\"linecolor\":\"white\",\"ticks\":\"\"},\"baxis\":{\"gridcolor\":\"white\",\"linecolor\":\"white\",\"ticks\":\"\"},\"caxis\":{\"gridcolor\":\"white\",\"linecolor\":\"white\",\"ticks\":\"\"}},\"coloraxis\":{\"colorbar\":{\"outlinewidth\":0,\"ticks\":\"\"}},\"colorscale\":{\"sequential\":[[0.0,\"#0d0887\"],[0.1111111111111111,\"#46039f\"],[0.2222222222222222,\"#7201a8\"],[0.3333333333333333,\"#9c179e\"],[0.4444444444444444,\"#bd3786\"],[0.5555555555555556,\"#d8576b\"],[0.6666666666666666,\"#ed7953\"],[0.7777777777777778,\"#fb9f3a\"],[0.8888888888888888,\"#fdca26\"],[1.0,\"#f0f921\"]],\"sequentialminus\":[[0.0,\"#0d0887\"],[0.1111111111111111,\"#46039f\"],[0.2222222222222222,\"#7201a8\"],[0.3333333333333333,\"#9c179e\"],[0.4444444444444444,\"#bd3786\"],[0.5555555555555556,\"#d8576b\"],[0.6666666666666666,\"#ed7953\"],[0.7777777777777778,\"#fb9f3a\"],[0.8888888888888888,\"#fdca26\"],[1.0,\"#f0f921\"]],\"diverging\":[[0,\"#8e0152\"],[0.1,\"#c51b7d\"],[0.2,\"#de77ae\"],[0.3,\"#f1b6da\"],[0.4,\"#fde0ef\"],[0.5,\"#f7f7f7\"],[0.6,\"#e6f5d0\"],[0.7,\"#b8e186\"],[0.8,\"#7fbc41\"],[0.9,\"#4d9221\"],[1,\"#276419\"]]},\"xaxis\":{\"gridcolor\":\"white\",\"linecolor\":\"white\",\"ticks\":\"\",\"title\":{\"standoff\":15},\"zerolinecolor\":\"white\",\"automargin\":true,\"zerolinewidth\":2},\"yaxis\":{\"gridcolor\":\"white\",\"linecolor\":\"white\",\"ticks\":\"\",\"title\":{\"standoff\":15},\"zerolinecolor\":\"white\",\"automargin\":true,\"zerolinewidth\":2},\"scene\":{\"xaxis\":{\"backgroundcolor\":\"#E5ECF6\",\"gridcolor\":\"white\",\"linecolor\":\"white\",\"showbackground\":true,\"ticks\":\"\",\"zerolinecolor\":\"white\",\"gridwidth\":2},\"yaxis\":{\"backgroundcolor\":\"#E5ECF6\",\"gridcolor\":\"white\",\"linecolor\":\"white\",\"showbackground\":true,\"ticks\":\"\",\"zerolinecolor\":\"white\",\"gridwidth\":2},\"zaxis\":{\"backgroundcolor\":\"#E5ECF6\",\"gridcolor\":\"white\",\"linecolor\":\"white\",\"showbackground\":true,\"ticks\":\"\",\"zerolinecolor\":\"white\",\"gridwidth\":2}},\"shapedefaults\":{\"line\":{\"color\":\"#2a3f5f\"}},\"annotationdefaults\":{\"arrowcolor\":\"#2a3f5f\",\"arrowhead\":0,\"arrowwidth\":1},\"geo\":{\"bgcolor\":\"white\",\"landcolor\":\"#E5ECF6\",\"subunitcolor\":\"white\",\"showland\":true,\"showlakes\":true,\"lakecolor\":\"white\"},\"title\":{\"x\":0.05},\"mapbox\":{\"style\":\"light\"}}},\"xaxis\":{\"anchor\":\"y\",\"domain\":[0.0,1.0],\"title\":{\"text\":\"cancelado\"},\"categoryorder\":\"array\",\"categoryarray\":[0,1]},\"yaxis\":{\"anchor\":\"x\",\"domain\":[0.0,1.0],\"title\":{\"text\":\"count\"}},\"legend\":{\"title\":{\"text\":\"cancelado\"},\"tracegroupgap\":0},\"title\":{\"text\":\"Distribución de Cancelacion\"},\"barmode\":\"relative\"},                        {\"responsive\": true}                    ).then(function(){\n",
              "                            \n",
              "var gd = document.getElementById('038479c2-5b4c-4e54-aca0-2bf35446b0d0');\n",
              "var x = new MutationObserver(function (mutations, observer) {{\n",
              "        var display = window.getComputedStyle(gd).display;\n",
              "        if (!display || display === 'none') {{\n",
              "            console.log([gd, 'removed!']);\n",
              "            Plotly.purge(gd);\n",
              "            observer.disconnect();\n",
              "        }}\n",
              "}});\n",
              "\n",
              "// Listen for the removal of the full notebook cells\n",
              "var notebookContainer = gd.closest('#notebook-container');\n",
              "if (notebookContainer) {{\n",
              "    x.observe(notebookContainer, {childList: true});\n",
              "}}\n",
              "\n",
              "// Listen for the clearing of the current output cell\n",
              "var outputEl = gd.closest('.output');\n",
              "if (outputEl) {{\n",
              "    x.observe(outputEl, {childList: true});\n",
              "}}\n",
              "\n",
              "                        })                };                            </script>        </div>\n",
              "</body>\n",
              "</html>"
            ]
          },
          "metadata": {}
        }
      ]
    },
    {
      "cell_type": "markdown",
      "source": [
        "Para ver la relacion en porcentajes"
      ],
      "metadata": {
        "id": "g6sR8gAvJTgg"
      }
    },
    {
      "cell_type": "code",
      "source": [
        "(df['cancelado'].value_counts(normalize=True) * 100).round(2)"
      ],
      "metadata": {
        "colab": {
          "base_uri": "https://localhost:8080/",
          "height": 178
        },
        "id": "HlttzQLKJV1x",
        "outputId": "122ed5f7-1033-4418-d0b9-dd1beef6de21"
      },
      "execution_count": 23,
      "outputs": [
        {
          "output_type": "execute_result",
          "data": {
            "text/plain": [
              "cancelado\n",
              "0    73.42\n",
              "1    26.58\n",
              "Name: proportion, dtype: float64"
            ],
            "text/html": [
              "<div>\n",
              "<style scoped>\n",
              "    .dataframe tbody tr th:only-of-type {\n",
              "        vertical-align: middle;\n",
              "    }\n",
              "\n",
              "    .dataframe tbody tr th {\n",
              "        vertical-align: top;\n",
              "    }\n",
              "\n",
              "    .dataframe thead th {\n",
              "        text-align: right;\n",
              "    }\n",
              "</style>\n",
              "<table border=\"1\" class=\"dataframe\">\n",
              "  <thead>\n",
              "    <tr style=\"text-align: right;\">\n",
              "      <th></th>\n",
              "      <th>proportion</th>\n",
              "    </tr>\n",
              "    <tr>\n",
              "      <th>cancelado</th>\n",
              "      <th></th>\n",
              "    </tr>\n",
              "  </thead>\n",
              "  <tbody>\n",
              "    <tr>\n",
              "      <th>0</th>\n",
              "      <td>73.42</td>\n",
              "    </tr>\n",
              "    <tr>\n",
              "      <th>1</th>\n",
              "      <td>26.58</td>\n",
              "    </tr>\n",
              "  </tbody>\n",
              "</table>\n",
              "</div><br><label><b>dtype:</b> float64</label>"
            ]
          },
          "metadata": {},
          "execution_count": 23
        }
      ]
    },
    {
      "cell_type": "code",
      "source": [
        "df['cancelado'].value_counts()"
      ],
      "metadata": {
        "colab": {
          "base_uri": "https://localhost:8080/",
          "height": 178
        },
        "id": "805smCeQJZ2U",
        "outputId": "93d8a077-4c99-42e3-d8ff-78f336a1655e"
      },
      "execution_count": 24,
      "outputs": [
        {
          "output_type": "execute_result",
          "data": {
            "text/plain": [
              "cancelado\n",
              "0    5163\n",
              "1    1869\n",
              "Name: count, dtype: int64"
            ],
            "text/html": [
              "<div>\n",
              "<style scoped>\n",
              "    .dataframe tbody tr th:only-of-type {\n",
              "        vertical-align: middle;\n",
              "    }\n",
              "\n",
              "    .dataframe tbody tr th {\n",
              "        vertical-align: top;\n",
              "    }\n",
              "\n",
              "    .dataframe thead th {\n",
              "        text-align: right;\n",
              "    }\n",
              "</style>\n",
              "<table border=\"1\" class=\"dataframe\">\n",
              "  <thead>\n",
              "    <tr style=\"text-align: right;\">\n",
              "      <th></th>\n",
              "      <th>count</th>\n",
              "    </tr>\n",
              "    <tr>\n",
              "      <th>cancelado</th>\n",
              "      <th></th>\n",
              "    </tr>\n",
              "  </thead>\n",
              "  <tbody>\n",
              "    <tr>\n",
              "      <th>0</th>\n",
              "      <td>5163</td>\n",
              "    </tr>\n",
              "    <tr>\n",
              "      <th>1</th>\n",
              "      <td>1869</td>\n",
              "    </tr>\n",
              "  </tbody>\n",
              "</table>\n",
              "</div><br><label><b>dtype:</b> int64</label>"
            ]
          },
          "metadata": {},
          "execution_count": 24
        }
      ]
    },
    {
      "cell_type": "code",
      "source": [
        "df.columns"
      ],
      "metadata": {
        "colab": {
          "base_uri": "https://localhost:8080/"
        },
        "id": "jQgZZ5eRKHqQ",
        "outputId": "8e9d474d-6524-4ff1-b5f7-5d4aa15793ba"
      },
      "execution_count": 25,
      "outputs": [
        {
          "output_type": "execute_result",
          "data": {
            "text/plain": [
              "Index(['cancelado', 'mayor65', 'tieneDependentes', 'mesesContrato',\n",
              "       'tipoContrato', 'metodoPago', 'gastosMensuales', 'gastosTotales'],\n",
              "      dtype='object')"
            ]
          },
          "metadata": {},
          "execution_count": 25
        }
      ]
    },
    {
      "cell_type": "code",
      "source": [
        "from sklearn.preprocessing import LabelEncoder\n",
        "from sklearn.compose import make_column_transformer\n",
        "from sklearn.preprocessing import OneHotEncoder\n",
        "X = df.drop('cancelado', axis=1)\n",
        "y = df['cancelado']\n",
        "columnas = X.columns\n",
        "one_hot = make_column_transformer((OneHotEncoder(drop='if_binary'),['tieneDependentes','mayor65','tipoContrato','metodoPago']), remainder='passthrough',sparse_threshold=0,force_int_remainder_cols=False)\n",
        "X = one_hot.fit_transform(X)\n",
        "one_hot.get_feature_names_out(columnas)\n",
        "label_encoder = LabelEncoder()\n",
        "y = label_encoder.fit_transform(y)"
      ],
      "metadata": {
        "id": "GLZAiNweJ-YQ"
      },
      "execution_count": 26,
      "outputs": []
    },
    {
      "cell_type": "code",
      "source": [
        "from sklearn.tree import DecisionTreeClassifier\n",
        "from sklearn.model_selection import train_test_split\n",
        "X,X_test,y, y_test = train_test_split(X, y, test_size=0.15, stratify=y, random_state= 5)\n",
        "X_train,X_val,y_train, y_val   = train_test_split(X, y, test_size=0.15, stratify=y, random_state= 5)\n",
        "Baseline = DecisionTreeClassifier(max_depth=10)\n",
        "Baseline.fit(X_train, y_train)\n",
        "Baseline.score(X_val, y_val)"
      ],
      "metadata": {
        "colab": {
          "base_uri": "https://localhost:8080/"
        },
        "id": "jYbnnXhIQIAL",
        "outputId": "b16312cf-e0ac-44cb-8f20-d0cd2de85dd0"
      },
      "execution_count": 27,
      "outputs": [
        {
          "output_type": "execute_result",
          "data": {
            "text/plain": [
              "0.7569676700111483"
            ]
          },
          "metadata": {},
          "execution_count": 27
        }
      ]
    },
    {
      "cell_type": "code",
      "source": [
        "from sklearn.metrics import classification_report\n",
        "y_pred = Baseline.predict(X_val)\n",
        "print(classification_report(y_val, y_pred))"
      ],
      "metadata": {
        "colab": {
          "base_uri": "https://localhost:8080/"
        },
        "id": "B8DcWFz1QOvf",
        "outputId": "4d6f0f30-bf8e-47f5-dd4d-5b7237c775f0"
      },
      "execution_count": 28,
      "outputs": [
        {
          "output_type": "stream",
          "name": "stdout",
          "text": [
            "              precision    recall  f1-score   support\n",
            "\n",
            "           0       0.82      0.85      0.84       659\n",
            "           1       0.55      0.49      0.52       238\n",
            "\n",
            "    accuracy                           0.76       897\n",
            "   macro avg       0.68      0.67      0.68       897\n",
            "weighted avg       0.75      0.76      0.75       897\n",
            "\n"
          ]
        }
      ]
    },
    {
      "cell_type": "markdown",
      "source": [
        "\n",
        "## Cabe notar:\n",
        "*   Clase 0 son clientes que permanecen.\n",
        "*   Clase 1 son clientes que cancelaron (Los que queremos poder predecir)\n",
        "Accurary tamaño de la muestra (897 muestras en total).\n",
        "*   De los 897 de la muestra total, 659 se mantuvieron en la empresa y 238 se fueron.\n",
        "*   Ahora hay que hacer un fuerte desbalanceo a favor de los que ya estan en la empresa.\n",
        "\n",
        "\n",
        "\n",
        "\n",
        "\n",
        "\n",
        "\n",
        "\n"
      ],
      "metadata": {
        "id": "iZk85aAUQdIM"
      }
    },
    {
      "cell_type": "code",
      "source": [
        "from sklearn.model_selection import KFold,cross_validate\n",
        "kf = KFold(n_splits = 5, shuffle = True, random_state=5)\n",
        "cv_resultados = cross_validate (Baseline,X,y,cv=kf)\n",
        "promedio = cv_resultados['test_score'].mean()\n",
        "desvio_std = cv_resultados['test_score'].std()\n",
        "print(f'El promedio es: {promedio}')\n",
        "print(f'El desvio estandar es: {desvio_std}')\n",
        "print(f'El intervalo de confianza es: [{promedio - 2*desvio_std}, {min(promedio +2*desvio_std,1)}')"
      ],
      "metadata": {
        "colab": {
          "base_uri": "https://localhost:8080/"
        },
        "id": "JrimPELNQeWF",
        "outputId": "802254cd-eacc-48c9-f25e-c083512f89d2"
      },
      "execution_count": 29,
      "outputs": [
        {
          "output_type": "stream",
          "name": "stdout",
          "text": [
            "El promedio es: 0.7610828283959082\n",
            "El desvio estandar es: 0.004388413160421729\n",
            "El intervalo de confianza es: [0.7523060020750648, 0.7698596547167517\n"
          ]
        }
      ]
    },
    {
      "cell_type": "code",
      "source": [
        "def intervalo_confianza (resultados):\n",
        "  promedio = resultados['test_score'].mean()\n",
        "  desvio_std = resultados['test_score'].std()\n",
        "  return f'El intervalo de confianza: [{promedio - 2*desvio_std}, {min(promedio +2*desvio_std,1)}'"
      ],
      "metadata": {
        "id": "VoIqzEn0RRi7"
      },
      "execution_count": 69,
      "outputs": []
    },
    {
      "cell_type": "code",
      "source": [
        "from sklearn.model_selection import StratifiedKFold\n",
        "skf = StratifiedKFold(n_splits = 5, shuffle = True, random_state=5)\n",
        "cv_resultados = cross_validate (Baseline,X,y,cv=skf, scoring='recall')\n",
        "intervalo_confianza(cv_resultados)"
      ],
      "metadata": {
        "colab": {
          "base_uri": "https://localhost:8080/",
          "height": 35
        },
        "id": "0garWpzFRUkK",
        "outputId": "1c19ecbc-8c9d-484b-e53c-2141f3e7360a"
      },
      "execution_count": 70,
      "outputs": [
        {
          "output_type": "execute_result",
          "data": {
            "text/plain": [
              "'El intervalo de confianza: [0.4353958558817587, 0.5830241961787251'"
            ],
            "application/vnd.google.colaboratory.intrinsic+json": {
              "type": "string"
            }
          },
          "metadata": {},
          "execution_count": 70
        }
      ]
    },
    {
      "cell_type": "markdown",
      "source": [
        "###Balanceo de Clases"
      ],
      "metadata": {
        "id": "idUl0aZrRZbP"
      }
    },
    {
      "cell_type": "code",
      "source": [
        "from imblearn.over_sampling import SMOTE\n",
        "import pandas as pd\n",
        "over_sampling = SMOTE()\n",
        "X_balanceada_over,y_balanceada_over = over_sampling.fit_resample(X,y)\n",
        "pd.Series(y_balanceada_over).value_counts()"
      ],
      "metadata": {
        "colab": {
          "base_uri": "https://localhost:8080/",
          "height": 147
        },
        "id": "Z6H9KdW_RgKi",
        "outputId": "cb4a1860-313f-455c-ecc1-5ce470215647"
      },
      "execution_count": 32,
      "outputs": [
        {
          "output_type": "execute_result",
          "data": {
            "text/plain": [
              "0    4388\n",
              "1    4388\n",
              "Name: count, dtype: int64"
            ],
            "text/html": [
              "<div>\n",
              "<style scoped>\n",
              "    .dataframe tbody tr th:only-of-type {\n",
              "        vertical-align: middle;\n",
              "    }\n",
              "\n",
              "    .dataframe tbody tr th {\n",
              "        vertical-align: top;\n",
              "    }\n",
              "\n",
              "    .dataframe thead th {\n",
              "        text-align: right;\n",
              "    }\n",
              "</style>\n",
              "<table border=\"1\" class=\"dataframe\">\n",
              "  <thead>\n",
              "    <tr style=\"text-align: right;\">\n",
              "      <th></th>\n",
              "      <th>count</th>\n",
              "    </tr>\n",
              "  </thead>\n",
              "  <tbody>\n",
              "    <tr>\n",
              "      <th>0</th>\n",
              "      <td>4388</td>\n",
              "    </tr>\n",
              "    <tr>\n",
              "      <th>1</th>\n",
              "      <td>4388</td>\n",
              "    </tr>\n",
              "  </tbody>\n",
              "</table>\n",
              "</div><br><label><b>dtype:</b> int64</label>"
            ]
          },
          "metadata": {},
          "execution_count": 32
        }
      ]
    },
    {
      "cell_type": "code",
      "source": [
        "from sklearn.model_selection import StratifiedKFold\n",
        "modelo = DecisionTreeClassifier(max_depth=10)\n",
        "skf = StratifiedKFold(n_splits = 5, shuffle = True, random_state=5)\n",
        "cv_resultados = cross_validate (modelo,X_balanceada_over,y_balanceada_over,cv=skf, scoring='recall')\n",
        "intervalo_confianza(cv_resultados)"
      ],
      "metadata": {
        "colab": {
          "base_uri": "https://localhost:8080/",
          "height": 35
        },
        "id": "wJvDpCUdRtAx",
        "outputId": "2ea7967e-d5d2-42be-e3e9-beaf719030b0"
      },
      "execution_count": 33,
      "outputs": [
        {
          "output_type": "execute_result",
          "data": {
            "text/plain": [
              "'El intervalo de confianza es: [0.828043649206168, 0.8497173033058905'"
            ],
            "application/vnd.google.colaboratory.intrinsic+json": {
              "type": "string"
            }
          },
          "metadata": {},
          "execution_count": 33
        }
      ]
    },
    {
      "cell_type": "markdown",
      "source": [
        "###Pipeline para la validacion\n",
        "Entrenando los datos."
      ],
      "metadata": {
        "id": "ep6e8u4_RzY9"
      }
    },
    {
      "cell_type": "code",
      "source": [
        "from imblearn.pipeline import Pipeline as imbpipeline\n",
        "modelo = DecisionTreeClassifier(max_depth=10)\n",
        "pipeline = imbpipeline([('oversample', SMOTE()), ('arbol', modelo)])\n",
        "skf = StratifiedKFold(n_splits = 5, shuffle = True, random_state=5)\n",
        "cv_resultados = cross_validate (pipeline,X,y,cv=skf, scoring='recall')\n",
        "intervalo_confianza(cv_resultados)"
      ],
      "metadata": {
        "colab": {
          "base_uri": "https://localhost:8080/",
          "height": 35
        },
        "id": "Wh92v4Y5SHjF",
        "outputId": "cc27144b-076f-4980-b90e-05e3d42d86b0"
      },
      "execution_count": 71,
      "outputs": [
        {
          "output_type": "execute_result",
          "data": {
            "text/plain": [
              "'El intervalo de confianza: [0.5650627541978497, 0.6322113822708115'"
            ],
            "application/vnd.google.colaboratory.intrinsic+json": {
              "type": "string"
            }
          },
          "metadata": {},
          "execution_count": 71
        }
      ]
    },
    {
      "cell_type": "code",
      "source": [
        "df.columns"
      ],
      "metadata": {
        "colab": {
          "base_uri": "https://localhost:8080/"
        },
        "id": "QvC1n4ghTd80",
        "outputId": "a678b655-b50b-492b-aa0b-ee79290368b6"
      },
      "execution_count": 35,
      "outputs": [
        {
          "output_type": "execute_result",
          "data": {
            "text/plain": [
              "Index(['cancelado', 'mayor65', 'tieneDependentes', 'mesesContrato',\n",
              "       'tipoContrato', 'metodoPago', 'gastosMensuales', 'gastosTotales'],\n",
              "      dtype='object')"
            ]
          },
          "metadata": {},
          "execution_count": 35
        }
      ]
    },
    {
      "cell_type": "markdown",
      "source": [
        "Balanceo de Clases (UnderSampling)"
      ],
      "metadata": {
        "id": "WAzqhECNSP9p"
      }
    },
    {
      "cell_type": "code",
      "source": [
        "from sklearn.preprocessing import LabelEncoder\n",
        "from sklearn.compose import make_column_transformer\n",
        "from sklearn.preprocessing import OneHotEncoder\n",
        "\n",
        "X = df.drop('cancelado', axis=1)\n",
        "y = df['cancelado']\n",
        "columnas = X.columns\n",
        "one_hot = make_column_transformer((OneHotEncoder(drop='if_binary'),['tieneDependentes','mayor65','tipoContrato','metodoPago']), remainder='passthrough',sparse_threshold=0,force_int_remainder_cols=False)\n",
        "X = one_hot.fit_transform(X)\n",
        "one_hot.get_feature_names_out(columnas)\n",
        "label_encoder = LabelEncoder()\n",
        "y = label_encoder.fit_transform(y)"
      ],
      "metadata": {
        "id": "3UIietxlSPiS"
      },
      "execution_count": 36,
      "outputs": []
    },
    {
      "cell_type": "code",
      "source": [
        "from imblearn.under_sampling import NearMiss\n",
        "under_sampling = NearMiss(version = 3)\n",
        "X_balanceada_under,y_balanceada_under = under_sampling.fit_resample(X,y)\n",
        "pd.Series(y_balanceada_under).value_counts()"
      ],
      "metadata": {
        "colab": {
          "base_uri": "https://localhost:8080/",
          "height": 147
        },
        "id": "vvec9v3XTzmo",
        "outputId": "46fa150e-f6bf-4dae-e3d6-95397d0bdc58"
      },
      "execution_count": 37,
      "outputs": [
        {
          "output_type": "execute_result",
          "data": {
            "text/plain": [
              "0    1869\n",
              "1    1869\n",
              "Name: count, dtype: int64"
            ],
            "text/html": [
              "<div>\n",
              "<style scoped>\n",
              "    .dataframe tbody tr th:only-of-type {\n",
              "        vertical-align: middle;\n",
              "    }\n",
              "\n",
              "    .dataframe tbody tr th {\n",
              "        vertical-align: top;\n",
              "    }\n",
              "\n",
              "    .dataframe thead th {\n",
              "        text-align: right;\n",
              "    }\n",
              "</style>\n",
              "<table border=\"1\" class=\"dataframe\">\n",
              "  <thead>\n",
              "    <tr style=\"text-align: right;\">\n",
              "      <th></th>\n",
              "      <th>count</th>\n",
              "    </tr>\n",
              "  </thead>\n",
              "  <tbody>\n",
              "    <tr>\n",
              "      <th>0</th>\n",
              "      <td>1869</td>\n",
              "    </tr>\n",
              "    <tr>\n",
              "      <th>1</th>\n",
              "      <td>1869</td>\n",
              "    </tr>\n",
              "  </tbody>\n",
              "</table>\n",
              "</div><br><label><b>dtype:</b> int64</label>"
            ]
          },
          "metadata": {},
          "execution_count": 37
        }
      ]
    },
    {
      "cell_type": "code",
      "source": [
        "from sklearn.model_selection import StratifiedKFold\n",
        "skf = StratifiedKFold(n_splits = 5, shuffle = True, random_state=5)\n",
        "cv_resultados = cross_validate (Baseline,X_balanceada_under,y_balanceada_under,cv=skf, scoring='recall')\n",
        "intervalo_confianza(cv_resultados)"
      ],
      "metadata": {
        "colab": {
          "base_uri": "https://localhost:8080/",
          "height": 35
        },
        "id": "GZneTJjKT3-A",
        "outputId": "8b4f1556-bb59-4a46-cb8c-4cac7107e61d"
      },
      "execution_count": 72,
      "outputs": [
        {
          "output_type": "execute_result",
          "data": {
            "text/plain": [
              "'El intervalo de confianza: [0.6161380085977577, 0.6743868584292383'"
            ],
            "application/vnd.google.colaboratory.intrinsic+json": {
              "type": "string"
            }
          },
          "metadata": {},
          "execution_count": 72
        }
      ]
    },
    {
      "cell_type": "code",
      "source": [
        "from imblearn.pipeline import Pipeline as imbpipeline\n",
        "modelo = DecisionTreeClassifier(max_depth=10)\n",
        "pipeline = imbpipeline([('undersample', NearMiss(version = 3)), ('arbol', modelo)])\n",
        "skf = StratifiedKFold(n_splits = 5, shuffle = True, random_state=5)\n",
        "cv_resultados = cross_validate (pipeline,X,y,cv=skf, scoring='recall')\n",
        "intervalo_confianza(cv_resultados)"
      ],
      "metadata": {
        "colab": {
          "base_uri": "https://localhost:8080/",
          "height": 35
        },
        "id": "ZtbDXjnLT8dg",
        "outputId": "6f8951d1-01d2-41d4-cc66-6111eb78337c"
      },
      "execution_count": 39,
      "outputs": [
        {
          "output_type": "execute_result",
          "data": {
            "text/plain": [
              "'El intervalo de confianza es: [0.6371127940249182, 0.7058701022776437'"
            ],
            "application/vnd.google.colaboratory.intrinsic+json": {
              "type": "string"
            }
          },
          "metadata": {},
          "execution_count": 39
        }
      ]
    },
    {
      "cell_type": "markdown",
      "source": [
        "###Resultado parcial de los balanceos\n"
      ],
      "metadata": {
        "id": "Iws9s-uHUTsk"
      }
    },
    {
      "cell_type": "code",
      "source": [
        "df.columns"
      ],
      "metadata": {
        "colab": {
          "base_uri": "https://localhost:8080/"
        },
        "id": "hnNq5sTuUtRf",
        "outputId": "f787f87e-7571-4bee-8d58-16ae2a49669e"
      },
      "execution_count": 40,
      "outputs": [
        {
          "output_type": "execute_result",
          "data": {
            "text/plain": [
              "Index(['cancelado', 'mayor65', 'tieneDependentes', 'mesesContrato',\n",
              "       'tipoContrato', 'metodoPago', 'gastosMensuales', 'gastosTotales'],\n",
              "      dtype='object')"
            ]
          },
          "metadata": {},
          "execution_count": 40
        }
      ]
    },
    {
      "cell_type": "code",
      "source": [
        "from sklearn.preprocessing import LabelEncoder\n",
        "from sklearn.compose import make_column_transformer\n",
        "from sklearn.preprocessing import OneHotEncoder\n",
        "from imblearn.under_sampling import NearMiss\n",
        "from imblearn.pipeline import Pipeline as imbpipeline\n",
        "X = df.drop('cancelado', axis=1)\n",
        "y = df['cancelado']\n",
        "columnas = X.columns\n",
        "one_hot = make_column_transformer((OneHotEncoder(drop='if_binary'),['tieneDependentes','mayor65','tipoContrato','metodoPago']), remainder='passthrough',sparse_threshold=0,force_int_remainder_cols=False)\n",
        "X = one_hot.fit_transform(X)\n",
        "one_hot.get_feature_names_out(columnas)\n",
        "label_encoder = LabelEncoder()\n",
        "y = label_encoder.fit_transform(y)\n",
        "modelo = DecisionTreeClassifier(max_depth=10)\n",
        "pipeline = imbpipeline([('undersample', NearMiss(version = 3)), ('arbol', modelo)])\n",
        "skf = StratifiedKFold(n_splits = 5, shuffle = True, random_state=5)\n",
        "cv_resultados = cross_validate (pipeline,X,y,cv=skf, scoring='recall')\n",
        "intervalo_confianza(cv_resultados)"
      ],
      "metadata": {
        "colab": {
          "base_uri": "https://localhost:8080/",
          "height": 35
        },
        "id": "oX6Cd742Umqb",
        "outputId": "4922bf87-64b6-492e-c33e-5d05d00fdddd"
      },
      "execution_count": 41,
      "outputs": [
        {
          "output_type": "execute_result",
          "data": {
            "text/plain": [
              "'El intervalo de confianza es: [0.6307373860122908, 0.711190328285712'"
            ],
            "application/vnd.google.colaboratory.intrinsic+json": {
              "type": "string"
            }
          },
          "metadata": {},
          "execution_count": 41
        }
      ]
    },
    {
      "cell_type": "code",
      "source": [
        "df.columns"
      ],
      "metadata": {
        "colab": {
          "base_uri": "https://localhost:8080/"
        },
        "id": "Gzpog-IOWAu3",
        "outputId": "db174547-4d50-4618-b762-63225e5b018c"
      },
      "execution_count": 42,
      "outputs": [
        {
          "output_type": "execute_result",
          "data": {
            "text/plain": [
              "Index(['cancelado', 'mayor65', 'tieneDependentes', 'mesesContrato',\n",
              "       'tipoContrato', 'metodoPago', 'gastosMensuales', 'gastosTotales'],\n",
              "      dtype='object')"
            ]
          },
          "metadata": {},
          "execution_count": 42
        }
      ]
    },
    {
      "cell_type": "code",
      "source": [
        "\n",
        "from sklearn.metrics import ConfusionMatrixDisplay\n",
        "undersample = NearMiss(version = 3)\n",
        "X = df.drop('cancelado', axis=1)\n",
        "y = df['cancelado']\n",
        "columnas = X.columns\n",
        "one_hot = make_column_transformer(\n",
        "    (OneHotEncoder(drop='if_binary'), ['tieneDependentes', 'mayor65', 'tipoContrato', 'metodoPago']),\n",
        "    remainder='passthrough',\n",
        "    sparse_threshold=0,\n",
        "    force_int_remainder_cols=False\n",
        ")\n",
        "\n",
        "X = one_hot.fit_transform(X)\n",
        "one_hot.get_feature_names_out(columnas)\n",
        "\n",
        "\n",
        "label_encoder = LabelEncoder()\n",
        "y = label_encoder.fit_transform(y)\n",
        "\n",
        "X, X_test, y, y_test = train_test_split(X, y, test_size=0.15, stratify=y, random_state=5)\n",
        "\n",
        "X_train, X_val, y_train, y_val = train_test_split(X, y, test_size=0.15, stratify=y, random_state=5)\n",
        "\n",
        "X_balanceado, y_balanceado = undersample.fit_resample(X, y)\n",
        "\n",
        "modelo = DecisionTreeClassifier(max_depth=10)\n",
        "modelo.fit(X_balanceado, y_balanceado)\n",
        "\n",
        "y_previsto = modelo.predict(X_test)\n",
        "\n",
        "print(classification_report(y_test, y_previsto))\n",
        "\n",
        "ConfusionMatrixDisplay.from_predictions(y_test, y_previsto);"
      ],
      "metadata": {
        "colab": {
          "base_uri": "https://localhost:8080/",
          "height": 605
        },
        "id": "IMq8xaXyVYTJ",
        "outputId": "40c50901-cba9-4052-fd3a-14c96dade63e"
      },
      "execution_count": 43,
      "outputs": [
        {
          "output_type": "stream",
          "name": "stdout",
          "text": [
            "              precision    recall  f1-score   support\n",
            "\n",
            "           0       0.84      0.67      0.75       775\n",
            "           1       0.42      0.64      0.50       280\n",
            "\n",
            "    accuracy                           0.67      1055\n",
            "   macro avg       0.63      0.66      0.63      1055\n",
            "weighted avg       0.73      0.67      0.68      1055\n",
            "\n"
          ]
        },
        {
          "output_type": "display_data",
          "data": {
            "text/plain": [
              "<Figure size 640x480 with 2 Axes>"
            ],
            "image/png": "[encoded data removed]"
          },
          "metadata": {}
        }
      ]
    },
    {
      "cell_type": "markdown",
      "source": [
        "##5.- Análisis de Correlación"
      ],
      "metadata": {
        "id": "doq5VkBNYgYV"
      }
    },
    {
      "cell_type": "markdown",
      "source": [
        "Hasta este punto, el entrenamiento se ha realizado utilizando **todas las variables disponibles en el DataFrame como parte de X**.  \n",
        "Sin embargo, no todas aportan información relevante; algunas variables pueden introducir **ruido**, afectando el desempeño del modelo.  \n",
        "\n",
        "Para mejorar el análisis, se recomienda **visualizar la matriz de correlación** y así identificar las relaciones entre las variables numéricas.  \n",
        "Se debe prestar especial atención a aquellas variables que presentan **mayor correlación con la cancelación**, ya que estas constituyen **candidatas relevantes para el modelo predictivo**."
      ],
      "metadata": {
        "id": "mDwyUg-nZGFz"
      }
    },
    {
      "cell_type": "markdown",
      "source": [
        "Para calcular la correlación, debemos convertirlo nuevamente en un DataFrame y\n",
        "asignar los nombres correctos a las columnas."
      ],
      "metadata": {
        "id": "7RbPcElLY5Js"
      }
    },
    {
      "cell_type": "code",
      "source": [
        "df.columns"
      ],
      "metadata": {
        "colab": {
          "base_uri": "https://localhost:8080/"
        },
        "id": "-8RDCO_8ZZx8",
        "outputId": "f0573a3b-81a9-414f-ef31-d1659d7b53d1"
      },
      "execution_count": 44,
      "outputs": [
        {
          "output_type": "execute_result",
          "data": {
            "text/plain": [
              "Index(['cancelado', 'mayor65', 'tieneDependentes', 'mesesContrato',\n",
              "       'tipoContrato', 'metodoPago', 'gastosMensuales', 'gastosTotales'],\n",
              "      dtype='object')"
            ]
          },
          "metadata": {},
          "execution_count": 44
        }
      ]
    },
    {
      "cell_type": "code",
      "source": [
        "import pandas as pd\n",
        "import numpy as np\n",
        "import seaborn as sns\n",
        "import matplotlib.pyplot as plt\n",
        "\n",
        "from sklearn.metrics import ConfusionMatrixDisplay\n",
        "\n",
        "\n",
        "undersample = NearMiss(version = 3)\n",
        "\n",
        "\n",
        "X = df.drop('cancelado', axis=1)\n",
        "y = df['cancelado']\n",
        "\n",
        "\n",
        "columnas = X.columns\n",
        "\n",
        "\n",
        "one_hot = make_column_transformer(\n",
        "    (OneHotEncoder(drop='first'), ['tieneDependentes', 'mayor65', 'tipoContrato', 'metodoPago']),\n",
        "    remainder='passthrough',\n",
        "    sparse_threshold=0,\n",
        "    force_int_remainder_cols=False\n",
        ")\n",
        "X = one_hot.fit_transform(X)\n",
        "one_hot.get_feature_names_out(columnas)\n",
        "label_encoder = LabelEncoder()\n",
        "y = label_encoder.fit_transform(y)\n",
        "columnas_transformadas = one_hot.get_feature_names_out(columnas)\n",
        "X_df = pd.DataFrame(X, columns=columnas_transformadas)\n",
        "X_df['cancelado'] = y"
      ],
      "metadata": {
        "id": "VFabzUfGWuRq"
      },
      "execution_count": 45,
      "outputs": []
    },
    {
      "cell_type": "code",
      "source": [
        "X_df"
      ],
      "metadata": {
        "colab": {
          "base_uri": "https://localhost:8080/",
          "height": 461
        },
        "id": "C7YGxy6wZyzk",
        "outputId": "7c19f141-1f82-4895-ecd1-3fdd6cc8f1b3"
      },
      "execution_count": 46,
      "outputs": [
        {
          "output_type": "execute_result",
          "data": {
            "text/plain": [
              "      onehotencoder__tieneDependentes_1  onehotencoder__mayor65_1  \\\n",
              "0                                   1.0                       0.0   \n",
              "1                                   0.0                       0.0   \n",
              "2                                   0.0                       0.0   \n",
              "3                                   0.0                       1.0   \n",
              "4                                   0.0                       1.0   \n",
              "...                                 ...                       ...   \n",
              "7027                                0.0                       0.0   \n",
              "7028                                0.0                       0.0   \n",
              "7029                                0.0                       0.0   \n",
              "7030                                1.0                       0.0   \n",
              "7031                                1.0                       0.0   \n",
              "\n",
              "      onehotencoder__tipoContrato_One year  \\\n",
              "0                                      1.0   \n",
              "1                                      0.0   \n",
              "2                                      0.0   \n",
              "3                                      0.0   \n",
              "4                                      0.0   \n",
              "...                                    ...   \n",
              "7027                                   1.0   \n",
              "7028                                   0.0   \n",
              "7029                                   0.0   \n",
              "7030                                   0.0   \n",
              "7031                                   0.0   \n",
              "\n",
              "      onehotencoder__tipoContrato_Two year  \\\n",
              "0                                      0.0   \n",
              "1                                      0.0   \n",
              "2                                      0.0   \n",
              "3                                      0.0   \n",
              "4                                      0.0   \n",
              "...                                    ...   \n",
              "7027                                   0.0   \n",
              "7028                                   0.0   \n",
              "7029                                   0.0   \n",
              "7030                                   1.0   \n",
              "7031                                   1.0   \n",
              "\n",
              "      onehotencoder__metodoPago_Credit card (automatic)  \\\n",
              "0                                                   0.0   \n",
              "1                                                   0.0   \n",
              "2                                                   0.0   \n",
              "3                                                   0.0   \n",
              "4                                                   0.0   \n",
              "...                                                 ...   \n",
              "7027                                                0.0   \n",
              "7028                                                0.0   \n",
              "7029                                                0.0   \n",
              "7030                                                0.0   \n",
              "7031                                                0.0   \n",
              "\n",
              "      onehotencoder__metodoPago_Electronic check  \\\n",
              "0                                            0.0   \n",
              "1                                            0.0   \n",
              "2                                            1.0   \n",
              "3                                            1.0   \n",
              "4                                            0.0   \n",
              "...                                          ...   \n",
              "7027                                         0.0   \n",
              "7028                                         1.0   \n",
              "7029                                         0.0   \n",
              "7030                                         0.0   \n",
              "7031                                         1.0   \n",
              "\n",
              "      onehotencoder__metodoPago_Mailed check  remainder__mesesContrato  \\\n",
              "0                                        1.0                       9.0   \n",
              "1                                        1.0                       9.0   \n",
              "2                                        0.0                       4.0   \n",
              "3                                        0.0                      13.0   \n",
              "4                                        1.0                       3.0   \n",
              "...                                      ...                       ...   \n",
              "7027                                     1.0                      13.0   \n",
              "7028                                     0.0                      22.0   \n",
              "7029                                     1.0                       2.0   \n",
              "7030                                     1.0                      67.0   \n",
              "7031                                     0.0                      63.0   \n",
              "\n",
              "      remainder__gastosMensuales  remainder__gastosTotales  cancelado  \n",
              "0                          65.60                    593.30          0  \n",
              "1                          59.90                    542.40          0  \n",
              "2                          73.90                    280.85          1  \n",
              "3                          98.00                   1237.85          1  \n",
              "4                          83.90                    267.40          1  \n",
              "...                          ...                       ...        ...  \n",
              "7027                       55.15                    742.90          0  \n",
              "7028                       85.10                   1873.70          1  \n",
              "7029                       50.30                     92.75          0  \n",
              "7030                       67.85                   4627.65          0  \n",
              "7031                       59.00                   3707.60          0  \n",
              "\n",
              "[7032 rows x 11 columns]"
            ],
            "text/html": [
              "\n",
              "  <div id=\"df-b809d6a0-bbe3-4b79-bcd4-9667e29de463\" class=\"colab-df-container\">\n",
              "    <div>\n",
              "<style scoped>\n",
              "    .dataframe tbody tr th:only-of-type {\n",
              "        vertical-align: middle;\n",
              "    }\n",
              "\n",
              "    .dataframe tbody tr th {\n",
              "        vertical-align: top;\n",
              "    }\n",
              "\n",
              "    .dataframe thead th {\n",
              "        text-align: right;\n",
              "    }\n",
              "</style>\n",
              "<table border=\"1\" class=\"dataframe\">\n",
              "  <thead>\n",
              "    <tr style=\"text-align: right;\">\n",
              "      <th></th>\n",
              "      <th>onehotencoder__tieneDependentes_1</th>\n",
              "      <th>onehotencoder__mayor65_1</th>\n",
              "      <th>onehotencoder__tipoContrato_One year</th>\n",
              "      <th>onehotencoder__tipoContrato_Two year</th>\n",
              "      <th>onehotencoder__metodoPago_Credit card (automatic)</th>\n",
              "      <th>onehotencoder__metodoPago_Electronic check</th>\n",
              "      <th>onehotencoder__metodoPago_Mailed check</th>\n",
              "      <th>remainder__mesesContrato</th>\n",
              "      <th>remainder__gastosMensuales</th>\n",
              "      <th>remainder__gastosTotales</th>\n",
              "      <th>cancelado</th>\n",
              "    </tr>\n",
              "  </thead>\n",
              "  <tbody>\n",
              "    <tr>\n",
              "      <th>0</th>\n",
              "      <td>1.0</td>\n",
              "      <td>0.0</td>\n",
              "      <td>1.0</td>\n",
              "      <td>0.0</td>\n",
              "      <td>0.0</td>\n",
              "      <td>0.0</td>\n",
              "      <td>1.0</td>\n",
              "      <td>9.0</td>\n",
              "      <td>65.60</td>\n",
              "      <td>593.30</td>\n",
              "      <td>0</td>\n",
              "    </tr>\n",
              "    <tr>\n",
              "      <th>1</th>\n",
              "      <td>0.0</td>\n",
              "      <td>0.0</td>\n",
              "      <td>0.0</td>\n",
              "      <td>0.0</td>\n",
              "      <td>0.0</td>\n",
              "      <td>0.0</td>\n",
              "      <td>1.0</td>\n",
              "      <td>9.0</td>\n",
              "      <td>59.90</td>\n",
              "      <td>542.40</td>\n",
              "      <td>0</td>\n",
              "    </tr>\n",
              "    <tr>\n",
              "      <th>2</th>\n",
              "      <td>0.0</td>\n",
              "      <td>0.0</td>\n",
              "      <td>0.0</td>\n",
              "      <td>0.0</td>\n",
              "      <td>0.0</td>\n",
              "      <td>1.0</td>\n",
              "      <td>0.0</td>\n",
              "      <td>4.0</td>\n",
              "      <td>73.90</td>\n",
              "      <td>280.85</td>\n",
              "      <td>1</td>\n",
              "    </tr>\n",
              "    <tr>\n",
              "      <th>3</th>\n",
              "      <td>0.0</td>\n",
              "      <td>1.0</td>\n",
              "      <td>0.0</td>\n",
              "      <td>0.0</td>\n",
              "      <td>0.0</td>\n",
              "      <td>1.0</td>\n",
              "      <td>0.0</td>\n",
              "      <td>13.0</td>\n",
              "      <td>98.00</td>\n",
              "      <td>1237.85</td>\n",
              "      <td>1</td>\n",
              "    </tr>\n",
              "    <tr>\n",
              "      <th>4</th>\n",
              "      <td>0.0</td>\n",
              "      <td>1.0</td>\n",
              "      <td>0.0</td>\n",
              "      <td>0.0</td>\n",
              "      <td>0.0</td>\n",
              "      <td>0.0</td>\n",
              "      <td>1.0</td>\n",
              "      <td>3.0</td>\n",
              "      <td>83.90</td>\n",
              "      <td>267.40</td>\n",
              "      <td>1</td>\n",
              "    </tr>\n",
              "    <tr>\n",
              "      <th>...</th>\n",
              "      <td>...</td>\n",
              "      <td>...</td>\n",
              "      <td>...</td>\n",
              "      <td>...</td>\n",
              "      <td>...</td>\n",
              "      <td>...</td>\n",
              "      <td>...</td>\n",
              "      <td>...</td>\n",
              "      <td>...</td>\n",
              "      <td>...</td>\n",
              "      <td>...</td>\n",
              "    </tr>\n",
              "    <tr>\n",
              "      <th>7027</th>\n",
              "      <td>0.0</td>\n",
              "      <td>0.0</td>\n",
              "      <td>1.0</td>\n",
              "      <td>0.0</td>\n",
              "      <td>0.0</td>\n",
              "      <td>0.0</td>\n",
              "      <td>1.0</td>\n",
              "      <td>13.0</td>\n",
              "      <td>55.15</td>\n",
              "      <td>742.90</td>\n",
              "      <td>0</td>\n",
              "    </tr>\n",
              "    <tr>\n",
              "      <th>7028</th>\n",
              "      <td>0.0</td>\n",
              "      <td>0.0</td>\n",
              "      <td>0.0</td>\n",
              "      <td>0.0</td>\n",
              "      <td>0.0</td>\n",
              "      <td>1.0</td>\n",
              "      <td>0.0</td>\n",
              "      <td>22.0</td>\n",
              "      <td>85.10</td>\n",
              "      <td>1873.70</td>\n",
              "      <td>1</td>\n",
              "    </tr>\n",
              "    <tr>\n",
              "      <th>7029</th>\n",
              "      <td>0.0</td>\n",
              "      <td>0.0</td>\n",
              "      <td>0.0</td>\n",
              "      <td>0.0</td>\n",
              "      <td>0.0</td>\n",
              "      <td>0.0</td>\n",
              "      <td>1.0</td>\n",
              "      <td>2.0</td>\n",
              "      <td>50.30</td>\n",
              "      <td>92.75</td>\n",
              "      <td>0</td>\n",
              "    </tr>\n",
              "    <tr>\n",
              "      <th>7030</th>\n",
              "      <td>1.0</td>\n",
              "      <td>0.0</td>\n",
              "      <td>0.0</td>\n",
              "      <td>1.0</td>\n",
              "      <td>0.0</td>\n",
              "      <td>0.0</td>\n",
              "      <td>1.0</td>\n",
              "      <td>67.0</td>\n",
              "      <td>67.85</td>\n",
              "      <td>4627.65</td>\n",
              "      <td>0</td>\n",
              "    </tr>\n",
              "    <tr>\n",
              "      <th>7031</th>\n",
              "      <td>1.0</td>\n",
              "      <td>0.0</td>\n",
              "      <td>0.0</td>\n",
              "      <td>1.0</td>\n",
              "      <td>0.0</td>\n",
              "      <td>1.0</td>\n",
              "      <td>0.0</td>\n",
              "      <td>63.0</td>\n",
              "      <td>59.00</td>\n",
              "      <td>3707.60</td>\n",
              "      <td>0</td>\n",
              "    </tr>\n",
              "  </tbody>\n",
              "</table>\n",
              "<p>7032 rows × 11 columns</p>\n",
              "</div>\n",
              "    <div class=\"colab-df-buttons\">\n",
              "\n",
              "  <div class=\"colab-df-container\">\n",
              "    <button class=\"colab-df-convert\" onclick=\"convertToInteractive('df-b809d6a0-bbe3-4b79-bcd4-9667e29de463')\"\n",
              "            title=\"Convert this dataframe to an interactive table.\"\n",
              "            style=\"display:none;\">\n",
              "\n",
              "  <svg xmlns=\"http://www.w3.org/2000/svg\" height=\"24px\" viewBox=\"0 -960 960 960\">\n",
              "    <path d=\"M120-120v-720h720v720H120Zm60-500h600v-160H180v160Zm220 220h160v-160H400v160Zm0 220h160v-160H400v160ZM180-400h160v-160H180v160Zm440 0h160v-160H620v160ZM180-180h160v-160H180v160Zm440 0h160v-160H620v160Z\"/>\n",
              "  </svg>\n",
              "    </button>\n",
              "\n",
              "  <style>\n",
              "    .colab-df-container {\n",
              "      display:flex;\n",
              "      gap: 12px;\n",
              "    }\n",
              "\n",
              "    .colab-df-convert {\n",
              "      background-color: #E8F0FE;\n",
              "      border: none;\n",
              "      border-radius: 50%;\n",
              "      cursor: pointer;\n",
              "      display: none;\n",
              "      fill: #1967D2;\n",
              "      height: 32px;\n",
              "      padding: 0 0 0 0;\n",
              "      width: 32px;\n",
              "    }\n",
              "\n",
              "    .colab-df-convert:hover {\n",
              "      background-color: #E2EBFA;\n",
              "      box-shadow: 0px 1px 2px rgba(60, 64, 67, 0.3), 0px 1px 3px 1px rgba(60, 64, 67, 0.15);\n",
              "      fill: #174EA6;\n",
              "    }\n",
              "\n",
              "    .colab-df-buttons div {\n",
              "      margin-bottom: 4px;\n",
              "    }\n",
              "\n",
              "    [theme=dark] .colab-df-convert {\n",
              "      background-color: #3B4455;\n",
              "      fill: #D2E3FC;\n",
              "    }\n",
              "\n",
              "    [theme=dark] .colab-df-convert:hover {\n",
              "      background-color: #434B5C;\n",
              "      box-shadow: 0px 1px 3px 1px rgba(0, 0, 0, 0.15);\n",
              "      filter: drop-shadow(0px 1px 2px rgba(0, 0, 0, 0.3));\n",
              "      fill: #FFFFFF;\n",
              "    }\n",
              "  </style>\n",
              "\n",
              "    <script>\n",
              "      const buttonEl =\n",
              "        document.querySelector('#df-b809d6a0-bbe3-4b79-bcd4-9667e29de463 button.colab-df-convert');\n",
              "      buttonEl.style.display =\n",
              "        google.colab.kernel.accessAllowed ? 'block' : 'none';\n",
              "\n",
              "      async function convertToInteractive(key) {\n",
              "        const element = document.querySelector('#df-b809d6a0-bbe3-4b79-bcd4-9667e29de463');\n",
              "        const dataTable =\n",
              "          await google.colab.kernel.invokeFunction('convertToInteractive',\n",
              "                                                    [key], {});\n",
              "        if (!dataTable) return;\n",
              "\n",
              "        const docLinkHtml = 'Like what you see? Visit the ' +\n",
              "          '<a target=\"_blank\" href=https://colab.research.google.com/notebooks/data_table.ipynb>data table notebook</a>'\n",
              "          + ' to learn more about interactive tables.';\n",
              "        element.innerHTML = '';\n",
              "        dataTable['output_type'] = 'display_data';\n",
              "        await google.colab.output.renderOutput(dataTable, element);\n",
              "        const docLink = document.createElement('div');\n",
              "        docLink.innerHTML = docLinkHtml;\n",
              "        element.appendChild(docLink);\n",
              "      }\n",
              "    </script>\n",
              "  </div>\n",
              "\n",
              "\n",
              "    <div id=\"df-6d904504-67cf-43e4-87da-b77343f3c946\">\n",
              "      <button class=\"colab-df-quickchart\" onclick=\"quickchart('df-6d904504-67cf-43e4-87da-b77343f3c946')\"\n",
              "                title=\"Suggest charts\"\n",
              "                style=\"display:none;\">\n",
              "\n",
              "<svg xmlns=\"http://www.w3.org/2000/svg\" height=\"24px\"viewBox=\"0 0 24 24\"\n",
              "     width=\"24px\">\n",
              "    <g>\n",
              "        <path d=\"M19 3H5c-1.1 0-2 .9-2 2v14c0 1.1.9 2 2 2h14c1.1 0 2-.9 2-2V5c0-1.1-.9-2-2-2zM9 17H7v-7h2v7zm4 0h-2V7h2v10zm4 0h-2v-4h2v4z\"/>\n",
              "    </g>\n",
              "</svg>\n",
              "      </button>\n",
              "\n",
              "<style>\n",
              "  .colab-df-quickchart {\n",
              "      --bg-color: #E8F0FE;\n",
              "      --fill-color: #1967D2;\n",
              "      --hover-bg-color: #E2EBFA;\n",
              "      --hover-fill-color: #174EA6;\n",
              "      --disabled-fill-color: #AAA;\n",
              "      --disabled-bg-color: #DDD;\n",
              "  }\n",
              "\n",
              "  [theme=dark] .colab-df-quickchart {\n",
              "      --bg-color: #3B4455;\n",
              "      --fill-color: #D2E3FC;\n",
              "      --hover-bg-color: #434B5C;\n",
              "      --hover-fill-color: #FFFFFF;\n",
              "      --disabled-bg-color: #3B4455;\n",
              "      --disabled-fill-color: #666;\n",
              "  }\n",
              "\n",
              "  .colab-df-quickchart {\n",
              "    background-color: var(--bg-color);\n",
              "    border: none;\n",
              "    border-radius: 50%;\n",
              "    cursor: pointer;\n",
              "    display: none;\n",
              "    fill: var(--fill-color);\n",
              "    height: 32px;\n",
              "    padding: 0;\n",
              "    width: 32px;\n",
              "  }\n",
              "\n",
              "  .colab-df-quickchart:hover {\n",
              "    background-color: var(--hover-bg-color);\n",
              "    box-shadow: 0 1px 2px rgba(60, 64, 67, 0.3), 0 1px 3px 1px rgba(60, 64, 67, 0.15);\n",
              "    fill: var(--button-hover-fill-color);\n",
              "  }\n",
              "\n",
              "  .colab-df-quickchart-complete:disabled,\n",
              "  .colab-df-quickchart-complete:disabled:hover {\n",
              "    background-color: var(--disabled-bg-color);\n",
              "    fill: var(--disabled-fill-color);\n",
              "    box-shadow: none;\n",
              "  }\n",
              "\n",
              "  .colab-df-spinner {\n",
              "    border: 2px solid var(--fill-color);\n",
              "    border-color: transparent;\n",
              "    border-bottom-color: var(--fill-color);\n",
              "    animation:\n",
              "      spin 1s steps(1) infinite;\n",
              "  }\n",
              "\n",
              "  @keyframes spin {\n",
              "    0% {\n",
              "      border-color: transparent;\n",
              "      border-bottom-color: var(--fill-color);\n",
              "      border-left-color: var(--fill-color);\n",
              "    }\n",
              "    20% {\n",
              "      border-color: transparent;\n",
              "      border-left-color: var(--fill-color);\n",
              "      border-top-color: var(--fill-color);\n",
              "    }\n",
              "    30% {\n",
              "      border-color: transparent;\n",
              "      border-left-color: var(--fill-color);\n",
              "      border-top-color: var(--fill-color);\n",
              "      border-right-color: var(--fill-color);\n",
              "    }\n",
              "    40% {\n",
              "      border-color: transparent;\n",
              "      border-right-color: var(--fill-color);\n",
              "      border-top-color: var(--fill-color);\n",
              "    }\n",
              "    60% {\n",
              "      border-color: transparent;\n",
              "      border-right-color: var(--fill-color);\n",
              "    }\n",
              "    80% {\n",
              "      border-color: transparent;\n",
              "      border-right-color: var(--fill-color);\n",
              "      border-bottom-color: var(--fill-color);\n",
              "    }\n",
              "    90% {\n",
              "      border-color: transparent;\n",
              "      border-bottom-color: var(--fill-color);\n",
              "    }\n",
              "  }\n",
              "</style>\n",
              "\n",
              "      <script>\n",
              "        async function quickchart(key) {\n",
              "          const quickchartButtonEl =\n",
              "            document.querySelector('#' + key + ' button');\n",
              "          quickchartButtonEl.disabled = true;  // To prevent multiple clicks.\n",
              "          quickchartButtonEl.classList.add('colab-df-spinner');\n",
              "          try {\n",
              "            const charts = await google.colab.kernel.invokeFunction(\n",
              "                'suggestCharts', [key], {});\n",
              "          } catch (error) {\n",
              "            console.error('Error during call to suggestCharts:', error);\n",
              "          }\n",
              "          quickchartButtonEl.classList.remove('colab-df-spinner');\n",
              "          quickchartButtonEl.classList.add('colab-df-quickchart-complete');\n",
              "        }\n",
              "        (() => {\n",
              "          let quickchartButtonEl =\n",
              "            document.querySelector('#df-6d904504-67cf-43e4-87da-b77343f3c946 button');\n",
              "          quickchartButtonEl.style.display =\n",
              "            google.colab.kernel.accessAllowed ? 'block' : 'none';\n",
              "        })();\n",
              "      </script>\n",
              "    </div>\n",
              "\n",
              "  <div id=\"id_0528fee5-793c-4987-91dd-ec1e2c4b24c0\">\n",
              "    <style>\n",
              "      .colab-df-generate {\n",
              "        background-color: #E8F0FE;\n",
              "        border: none;\n",
              "        border-radius: 50%;\n",
              "        cursor: pointer;\n",
              "        display: none;\n",
              "        fill: #1967D2;\n",
              "        height: 32px;\n",
              "        padding: 0 0 0 0;\n",
              "        width: 32px;\n",
              "      }\n",
              "\n",
              "      .colab-df-generate:hover {\n",
              "        background-color: #E2EBFA;\n",
              "        box-shadow: 0px 1px 2px rgba(60, 64, 67, 0.3), 0px 1px 3px 1px rgba(60, 64, 67, 0.15);\n",
              "        fill: #174EA6;\n",
              "      }\n",
              "\n",
              "      [theme=dark] .colab-df-generate {\n",
              "        background-color: #3B4455;\n",
              "        fill: #D2E3FC;\n",
              "      }\n",
              "\n",
              "      [theme=dark] .colab-df-generate:hover {\n",
              "        background-color: #434B5C;\n",
              "        box-shadow: 0px 1px 3px 1px rgba(0, 0, 0, 0.15);\n",
              "        filter: drop-shadow(0px 1px 2px rgba(0, 0, 0, 0.3));\n",
              "        fill: #FFFFFF;\n",
              "      }\n",
              "    </style>\n",
              "    <button class=\"colab-df-generate\" onclick=\"generateWithVariable('X_df')\"\n",
              "            title=\"Generate code using this dataframe.\"\n",
              "            style=\"display:none;\">\n",
              "\n",
              "  <svg xmlns=\"http://www.w3.org/2000/svg\" height=\"24px\"viewBox=\"0 0 24 24\"\n",
              "       width=\"24px\">\n",
              "    <path d=\"M7,19H8.4L18.45,9,17,7.55,7,17.6ZM5,21V16.75L18.45,3.32a2,2,0,0,1,2.83,0l1.4,1.43a1.91,1.91,0,0,1,.58,1.4,1.91,1.91,0,0,1-.58,1.4L9.25,21ZM18.45,9,17,7.55Zm-12,3A5.31,5.31,0,0,0,4.9,8.1,5.31,5.31,0,0,0,1,6.5,5.31,5.31,0,0,0,4.9,4.9,5.31,5.31,0,0,0,6.5,1,5.31,5.31,0,0,0,8.1,4.9,5.31,5.31,0,0,0,12,6.5,5.46,5.46,0,0,0,6.5,12Z\"/>\n",
              "  </svg>\n",
              "    </button>\n",
              "    <script>\n",
              "      (() => {\n",
              "      const buttonEl =\n",
              "        document.querySelector('#id_0528fee5-793c-4987-91dd-ec1e2c4b24c0 button.colab-df-generate');\n",
              "      buttonEl.style.display =\n",
              "        google.colab.kernel.accessAllowed ? 'block' : 'none';\n",
              "\n",
              "      buttonEl.onclick = () => {\n",
              "        google.colab.notebook.generateWithVariable('X_df');\n",
              "      }\n",
              "      })();\n",
              "    </script>\n",
              "  </div>\n",
              "\n",
              "    </div>\n",
              "  </div>\n"
            ],
            "application/vnd.google.colaboratory.intrinsic+json": {
              "type": "dataframe",
              "variable_name": "X_df",
              "summary": "{\n  \"name\": \"X_df\",\n  \"rows\": 7032,\n  \"fields\": [\n    {\n      \"column\": \"onehotencoder__tieneDependentes_1\",\n      \"properties\": {\n        \"dtype\": \"number\",\n        \"std\": 0.4576292729958299,\n        \"min\": 0.0,\n        \"max\": 1.0,\n        \"num_unique_values\": 2,\n        \"samples\": [\n          0.0,\n          1.0\n        ],\n        \"semantic_type\": \"\",\n        \"description\": \"\"\n      }\n    },\n    {\n      \"column\": \"onehotencoder__mayor65_1\",\n      \"properties\": {\n        \"dtype\": \"number\",\n        \"std\": 0.36884399675712076,\n        \"min\": 0.0,\n        \"max\": 1.0,\n        \"num_unique_values\": 2,\n        \"samples\": [\n          1.0,\n          0.0\n        ],\n        \"semantic_type\": \"\",\n        \"description\": \"\"\n      }\n    },\n    {\n      \"column\": \"onehotencoder__tipoContrato_One year\",\n      \"properties\": {\n        \"dtype\": \"number\",\n        \"std\": 0.4068584317786291,\n        \"min\": 0.0,\n        \"max\": 1.0,\n        \"num_unique_values\": 2,\n        \"samples\": [\n          0.0,\n          1.0\n        ],\n        \"semantic_type\": \"\",\n        \"description\": \"\"\n      }\n    },\n    {\n      \"column\": \"onehotencoder__tipoContrato_Two year\",\n      \"properties\": {\n        \"dtype\": \"number\",\n        \"std\": 0.4268812352987816,\n        \"min\": 0.0,\n        \"max\": 1.0,\n        \"num_unique_values\": 2,\n        \"samples\": [\n          1.0,\n          0.0\n        ],\n        \"semantic_type\": \"\",\n        \"description\": \"\"\n      }\n    },\n    {\n      \"column\": \"onehotencoder__metodoPago_Credit card (automatic)\",\n      \"properties\": {\n        \"dtype\": \"number\",\n        \"std\": 0.4117483168573724,\n        \"min\": 0.0,\n        \"max\": 1.0,\n        \"num_unique_values\": 2,\n        \"samples\": [\n          1.0,\n          0.0\n        ],\n        \"semantic_type\": \"\",\n        \"description\": \"\"\n      }\n    },\n    {\n      \"column\": \"onehotencoder__metodoPago_Electronic check\",\n      \"properties\": {\n        \"dtype\": \"number\",\n        \"std\": 0.4724833327167054,\n        \"min\": 0.0,\n        \"max\": 1.0,\n        \"num_unique_values\": 2,\n        \"samples\": [\n          1.0,\n          0.0\n        ],\n        \"semantic_type\": \"\",\n        \"description\": \"\"\n      }\n    },\n    {\n      \"column\": \"onehotencoder__metodoPago_Mailed check\",\n      \"properties\": {\n        \"dtype\": \"number\",\n        \"std\": 0.41963733614525156,\n        \"min\": 0.0,\n        \"max\": 1.0,\n        \"num_unique_values\": 2,\n        \"samples\": [\n          0.0,\n          1.0\n        ],\n        \"semantic_type\": \"\",\n        \"description\": \"\"\n      }\n    },\n    {\n      \"column\": \"remainder__mesesContrato\",\n      \"properties\": {\n        \"dtype\": \"number\",\n        \"std\": 24.54525970926324,\n        \"min\": 1.0,\n        \"max\": 72.0,\n        \"num_unique_values\": 72,\n        \"samples\": [\n          71.0,\n          41.0\n        ],\n        \"semantic_type\": \"\",\n        \"description\": \"\"\n      }\n    },\n    {\n      \"column\": \"remainder__gastosMensuales\",\n      \"properties\": {\n        \"dtype\": \"number\",\n        \"std\": 30.085973884049906,\n        \"min\": 18.25,\n        \"max\": 118.75,\n        \"num_unique_values\": 1584,\n        \"samples\": [\n          104.15,\n          47.85\n        ],\n        \"semantic_type\": \"\",\n        \"description\": \"\"\n      }\n    },\n    {\n      \"column\": \"remainder__gastosTotales\",\n      \"properties\": {\n        \"dtype\": \"number\",\n        \"std\": 2266.771361883145,\n        \"min\": 18.8,\n        \"max\": 8684.8,\n        \"num_unique_values\": 6530,\n        \"samples\": [\n          2341.55,\n          5329.55\n        ],\n        \"semantic_type\": \"\",\n        \"description\": \"\"\n      }\n    },\n    {\n      \"column\": \"cancelado\",\n      \"properties\": {\n        \"dtype\": \"number\",\n        \"std\": 0,\n        \"min\": 0,\n        \"max\": 1,\n        \"num_unique_values\": 2,\n        \"samples\": [\n          1,\n          0\n        ],\n        \"semantic_type\": \"\",\n        \"description\": \"\"\n      }\n    }\n  ]\n}"
            }
          },
          "metadata": {},
          "execution_count": 46
        }
      ]
    },
    {
      "cell_type": "code",
      "source": [
        "matriz_correlacion = X_df.corr()\n",
        "correlaciones_con_y = matriz_correlacion['cancelado'].drop('cancelado').sort_values(key=abs, ascending=True)\n",
        "print(\"Correlaciones entre variables independientes y cancelado:\")\n",
        "print(correlaciones_con_y)"
      ],
      "metadata": {
        "colab": {
          "base_uri": "https://localhost:8080/"
        },
        "id": "_xhsgiugZ-4U",
        "outputId": "901dada9-c166-447e-a227-18736f6dfcd2"
      },
      "execution_count": 47,
      "outputs": [
        {
          "output_type": "stream",
          "name": "stdout",
          "text": [
            "Correlaciones entre variables independientes y cancelado:\n",
            "onehotencoder__metodoPago_Mailed check              -0.090773\n",
            "onehotencoder__metodoPago_Credit card (automatic)   -0.134687\n",
            "onehotencoder__mayor65_1                             0.150541\n",
            "onehotencoder__tieneDependentes_1                   -0.163128\n",
            "onehotencoder__tipoContrato_One year                -0.178225\n",
            "remainder__gastosMensuales                           0.192858\n",
            "remainder__gastosTotales                            -0.199484\n",
            "onehotencoder__metodoPago_Electronic check           0.301455\n",
            "onehotencoder__tipoContrato_Two year                -0.301552\n",
            "remainder__mesesContrato                            -0.354049\n",
            "Name: cancelado, dtype: float64\n"
          ]
        }
      ]
    },
    {
      "cell_type": "markdown",
      "source": [
        "##6.- Analisis Dirigido"
      ],
      "metadata": {
        "id": "Rj0yWXBNi62m"
      }
    },
    {
      "cell_type": "markdown",
      "source": [
        "Investiga cómo variables específicas se relacionan con la cancelación, tales como:\n",
        "\n",
        "Tiempo de contrato × Cancelación\n",
        "\n",
        "Gasto total × Cancelación\n",
        "\n",
        "Utiliza gráficos como boxplots o scatter plots para visualizar patrones y posibles tendencias."
      ],
      "metadata": {
        "id": "ccgLVyH7jAQt"
      }
    },
    {
      "cell_type": "code",
      "source": [
        "X_df[['cancelado','remainder__mesesContrato']].corr()"
      ],
      "metadata": {
        "colab": {
          "base_uri": "https://localhost:8080/",
          "height": 112
        },
        "id": "YPjERLB-jHfr",
        "outputId": "e9ddbe79-a909-4fb2-fdcd-d301de14b077"
      },
      "execution_count": 48,
      "outputs": [
        {
          "output_type": "execute_result",
          "data": {
            "text/plain": [
              "                          cancelado  remainder__mesesContrato\n",
              "cancelado                  1.000000                 -0.354049\n",
              "remainder__mesesContrato  -0.354049                  1.000000"
            ],
            "text/html": [
              "\n",
              "  <div id=\"df-4db7e764-caab-4e0b-8842-a11e13b167c7\" class=\"colab-df-container\">\n",
              "    <div>\n",
              "<style scoped>\n",
              "    .dataframe tbody tr th:only-of-type {\n",
              "        vertical-align: middle;\n",
              "    }\n",
              "\n",
              "    .dataframe tbody tr th {\n",
              "        vertical-align: top;\n",
              "    }\n",
              "\n",
              "    .dataframe thead th {\n",
              "        text-align: right;\n",
              "    }\n",
              "</style>\n",
              "<table border=\"1\" class=\"dataframe\">\n",
              "  <thead>\n",
              "    <tr style=\"text-align: right;\">\n",
              "      <th></th>\n",
              "      <th>cancelado</th>\n",
              "      <th>remainder__mesesContrato</th>\n",
              "    </tr>\n",
              "  </thead>\n",
              "  <tbody>\n",
              "    <tr>\n",
              "      <th>cancelado</th>\n",
              "      <td>1.000000</td>\n",
              "      <td>-0.354049</td>\n",
              "    </tr>\n",
              "    <tr>\n",
              "      <th>remainder__mesesContrato</th>\n",
              "      <td>-0.354049</td>\n",
              "      <td>1.000000</td>\n",
              "    </tr>\n",
              "  </tbody>\n",
              "</table>\n",
              "</div>\n",
              "    <div class=\"colab-df-buttons\">\n",
              "\n",
              "  <div class=\"colab-df-container\">\n",
              "    <button class=\"colab-df-convert\" onclick=\"convertToInteractive('df-4db7e764-caab-4e0b-8842-a11e13b167c7')\"\n",
              "            title=\"Convert this dataframe to an interactive table.\"\n",
              "            style=\"display:none;\">\n",
              "\n",
              "  <svg xmlns=\"http://www.w3.org/2000/svg\" height=\"24px\" viewBox=\"0 -960 960 960\">\n",
              "    <path d=\"M120-120v-720h720v720H120Zm60-500h600v-160H180v160Zm220 220h160v-160H400v160Zm0 220h160v-160H400v160ZM180-400h160v-160H180v160Zm440 0h160v-160H620v160ZM180-180h160v-160H180v160Zm440 0h160v-160H620v160Z\"/>\n",
              "  </svg>\n",
              "    </button>\n",
              "\n",
              "  <style>\n",
              "    .colab-df-container {\n",
              "      display:flex;\n",
              "      gap: 12px;\n",
              "    }\n",
              "\n",
              "    .colab-df-convert {\n",
              "      background-color: #E8F0FE;\n",
              "      border: none;\n",
              "      border-radius: 50%;\n",
              "      cursor: pointer;\n",
              "      display: none;\n",
              "      fill: #1967D2;\n",
              "      height: 32px;\n",
              "      padding: 0 0 0 0;\n",
              "      width: 32px;\n",
              "    }\n",
              "\n",
              "    .colab-df-convert:hover {\n",
              "      background-color: #E2EBFA;\n",
              "      box-shadow: 0px 1px 2px rgba(60, 64, 67, 0.3), 0px 1px 3px 1px rgba(60, 64, 67, 0.15);\n",
              "      fill: #174EA6;\n",
              "    }\n",
              "\n",
              "    .colab-df-buttons div {\n",
              "      margin-bottom: 4px;\n",
              "    }\n",
              "\n",
              "    [theme=dark] .colab-df-convert {\n",
              "      background-color: #3B4455;\n",
              "      fill: #D2E3FC;\n",
              "    }\n",
              "\n",
              "    [theme=dark] .colab-df-convert:hover {\n",
              "      background-color: #434B5C;\n",
              "      box-shadow: 0px 1px 3px 1px rgba(0, 0, 0, 0.15);\n",
              "      filter: drop-shadow(0px 1px 2px rgba(0, 0, 0, 0.3));\n",
              "      fill: #FFFFFF;\n",
              "    }\n",
              "  </style>\n",
              "\n",
              "    <script>\n",
              "      const buttonEl =\n",
              "        document.querySelector('#df-4db7e764-caab-4e0b-8842-a11e13b167c7 button.colab-df-convert');\n",
              "      buttonEl.style.display =\n",
              "        google.colab.kernel.accessAllowed ? 'block' : 'none';\n",
              "\n",
              "      async function convertToInteractive(key) {\n",
              "        const element = document.querySelector('#df-4db7e764-caab-4e0b-8842-a11e13b167c7');\n",
              "        const dataTable =\n",
              "          await google.colab.kernel.invokeFunction('convertToInteractive',\n",
              "                                                    [key], {});\n",
              "        if (!dataTable) return;\n",
              "\n",
              "        const docLinkHtml = 'Like what you see? Visit the ' +\n",
              "          '<a target=\"_blank\" href=https://colab.research.google.com/notebooks/data_table.ipynb>data table notebook</a>'\n",
              "          + ' to learn more about interactive tables.';\n",
              "        element.innerHTML = '';\n",
              "        dataTable['output_type'] = 'display_data';\n",
              "        await google.colab.output.renderOutput(dataTable, element);\n",
              "        const docLink = document.createElement('div');\n",
              "        docLink.innerHTML = docLinkHtml;\n",
              "        element.appendChild(docLink);\n",
              "      }\n",
              "    </script>\n",
              "  </div>\n",
              "\n",
              "\n",
              "    <div id=\"df-d34f1136-3b30-4056-a146-661f1ffd526b\">\n",
              "      <button class=\"colab-df-quickchart\" onclick=\"quickchart('df-d34f1136-3b30-4056-a146-661f1ffd526b')\"\n",
              "                title=\"Suggest charts\"\n",
              "                style=\"display:none;\">\n",
              "\n",
              "<svg xmlns=\"http://www.w3.org/2000/svg\" height=\"24px\"viewBox=\"0 0 24 24\"\n",
              "     width=\"24px\">\n",
              "    <g>\n",
              "        <path d=\"M19 3H5c-1.1 0-2 .9-2 2v14c0 1.1.9 2 2 2h14c1.1 0 2-.9 2-2V5c0-1.1-.9-2-2-2zM9 17H7v-7h2v7zm4 0h-2V7h2v10zm4 0h-2v-4h2v4z\"/>\n",
              "    </g>\n",
              "</svg>\n",
              "      </button>\n",
              "\n",
              "<style>\n",
              "  .colab-df-quickchart {\n",
              "      --bg-color: #E8F0FE;\n",
              "      --fill-color: #1967D2;\n",
              "      --hover-bg-color: #E2EBFA;\n",
              "      --hover-fill-color: #174EA6;\n",
              "      --disabled-fill-color: #AAA;\n",
              "      --disabled-bg-color: #DDD;\n",
              "  }\n",
              "\n",
              "  [theme=dark] .colab-df-quickchart {\n",
              "      --bg-color: #3B4455;\n",
              "      --fill-color: #D2E3FC;\n",
              "      --hover-bg-color: #434B5C;\n",
              "      --hover-fill-color: #FFFFFF;\n",
              "      --disabled-bg-color: #3B4455;\n",
              "      --disabled-fill-color: #666;\n",
              "  }\n",
              "\n",
              "  .colab-df-quickchart {\n",
              "    background-color: var(--bg-color);\n",
              "    border: none;\n",
              "    border-radius: 50%;\n",
              "    cursor: pointer;\n",
              "    display: none;\n",
              "    fill: var(--fill-color);\n",
              "    height: 32px;\n",
              "    padding: 0;\n",
              "    width: 32px;\n",
              "  }\n",
              "\n",
              "  .colab-df-quickchart:hover {\n",
              "    background-color: var(--hover-bg-color);\n",
              "    box-shadow: 0 1px 2px rgba(60, 64, 67, 0.3), 0 1px 3px 1px rgba(60, 64, 67, 0.15);\n",
              "    fill: var(--button-hover-fill-color);\n",
              "  }\n",
              "\n",
              "  .colab-df-quickchart-complete:disabled,\n",
              "  .colab-df-quickchart-complete:disabled:hover {\n",
              "    background-color: var(--disabled-bg-color);\n",
              "    fill: var(--disabled-fill-color);\n",
              "    box-shadow: none;\n",
              "  }\n",
              "\n",
              "  .colab-df-spinner {\n",
              "    border: 2px solid var(--fill-color);\n",
              "    border-color: transparent;\n",
              "    border-bottom-color: var(--fill-color);\n",
              "    animation:\n",
              "      spin 1s steps(1) infinite;\n",
              "  }\n",
              "\n",
              "  @keyframes spin {\n",
              "    0% {\n",
              "      border-color: transparent;\n",
              "      border-bottom-color: var(--fill-color);\n",
              "      border-left-color: var(--fill-color);\n",
              "    }\n",
              "    20% {\n",
              "      border-color: transparent;\n",
              "      border-left-color: var(--fill-color);\n",
              "      border-top-color: var(--fill-color);\n",
              "    }\n",
              "    30% {\n",
              "      border-color: transparent;\n",
              "      border-left-color: var(--fill-color);\n",
              "      border-top-color: var(--fill-color);\n",
              "      border-right-color: var(--fill-color);\n",
              "    }\n",
              "    40% {\n",
              "      border-color: transparent;\n",
              "      border-right-color: var(--fill-color);\n",
              "      border-top-color: var(--fill-color);\n",
              "    }\n",
              "    60% {\n",
              "      border-color: transparent;\n",
              "      border-right-color: var(--fill-color);\n",
              "    }\n",
              "    80% {\n",
              "      border-color: transparent;\n",
              "      border-right-color: var(--fill-color);\n",
              "      border-bottom-color: var(--fill-color);\n",
              "    }\n",
              "    90% {\n",
              "      border-color: transparent;\n",
              "      border-bottom-color: var(--fill-color);\n",
              "    }\n",
              "  }\n",
              "</style>\n",
              "\n",
              "      <script>\n",
              "        async function quickchart(key) {\n",
              "          const quickchartButtonEl =\n",
              "            document.querySelector('#' + key + ' button');\n",
              "          quickchartButtonEl.disabled = true;  // To prevent multiple clicks.\n",
              "          quickchartButtonEl.classList.add('colab-df-spinner');\n",
              "          try {\n",
              "            const charts = await google.colab.kernel.invokeFunction(\n",
              "                'suggestCharts', [key], {});\n",
              "          } catch (error) {\n",
              "            console.error('Error during call to suggestCharts:', error);\n",
              "          }\n",
              "          quickchartButtonEl.classList.remove('colab-df-spinner');\n",
              "          quickchartButtonEl.classList.add('colab-df-quickchart-complete');\n",
              "        }\n",
              "        (() => {\n",
              "          let quickchartButtonEl =\n",
              "            document.querySelector('#df-d34f1136-3b30-4056-a146-661f1ffd526b button');\n",
              "          quickchartButtonEl.style.display =\n",
              "            google.colab.kernel.accessAllowed ? 'block' : 'none';\n",
              "        })();\n",
              "      </script>\n",
              "    </div>\n",
              "\n",
              "    </div>\n",
              "  </div>\n"
            ],
            "application/vnd.google.colaboratory.intrinsic+json": {
              "type": "dataframe",
              "summary": "{\n  \"name\": \"X_df[['cancelado','remainder__mesesContrato']]\",\n  \"rows\": 2,\n  \"fields\": [\n    {\n      \"column\": \"cancelado\",\n      \"properties\": {\n        \"dtype\": \"number\",\n        \"std\": 0.9574574837771418,\n        \"min\": -0.35404935895325157,\n        \"max\": 1.0,\n        \"num_unique_values\": 2,\n        \"samples\": [\n          -0.35404935895325157,\n          1.0\n        ],\n        \"semantic_type\": \"\",\n        \"description\": \"\"\n      }\n    },\n    {\n      \"column\": \"remainder__mesesContrato\",\n      \"properties\": {\n        \"dtype\": \"number\",\n        \"std\": 0.9574574837771418,\n        \"min\": -0.35404935895325157,\n        \"max\": 1.0,\n        \"num_unique_values\": 2,\n        \"samples\": [\n          1.0,\n          -0.35404935895325157\n        ],\n        \"semantic_type\": \"\",\n        \"description\": \"\"\n      }\n    }\n  ]\n}"
            }
          },
          "metadata": {},
          "execution_count": 48
        }
      ]
    },
    {
      "cell_type": "code",
      "source": [
        "import seaborn as sns\n",
        "import matplotlib.pyplot as plt\n",
        "\n",
        "plt.figure(figsize=(6, 4))\n",
        "sns.boxplot(data=X_df, x='cancelado', y='remainder__mesesContrato', hue='cancelado', palette='Set1', legend=False)\n",
        "plt.title('Meses Contratados vs Cancelación')\n",
        "plt.xlabel('Cliente Cancelado (0 = No, 1 = Sí)')\n",
        "plt.ylabel('Meses Contratados')\n",
        "plt.show()\n",
        "\n",
        "plt.figure(figsize=(6, 4))\n",
        "sns.boxplot(data=X_df, x='cancelado', y='remainder__gastosTotales', hue='cancelado', palette='Set1', legend=False)\n",
        "plt.title('Gasto Total vs Cancelación')\n",
        "plt.xlabel('Cliente Cancelado (0 = No, 1 = Sí)')\n",
        "plt.ylabel('Gasto Total')\n",
        "plt.show()"
      ],
      "metadata": {
        "colab": {
          "base_uri": "https://localhost:8080/",
          "height": 803
        },
        "id": "6jme2JMzjlA3",
        "outputId": "1d3957f2-96b9-4758-97da-5c3d91228173"
      },
      "execution_count": 66,
      "outputs": [
        {
          "output_type": "display_data",
          "data": {
            "text/plain": [
              "<Figure size 600x400 with 1 Axes>"
            ],
            "image/png": "[encoded data removed]"
          },
          "metadata": {}
        },
        {
          "output_type": "display_data",
          "data": {
            "text/plain": [
              "<Figure size 600x400 with 1 Axes>"
            ],
            "image/png": "[encoded data removed]"
          },
          "metadata": {}
        }
      ]
    },
    {
      "cell_type": "markdown",
      "source": [
        "##7.- Separacion de datos"
      ],
      "metadata": {
        "id": "7bWTCe4E9cDW"
      }
    },
    {
      "cell_type": "code",
      "source": [
        "from sklearn.metrics import ConfusionMatrixDisplay\n",
        "X = X_df.drop('cancelado', axis=1)\n",
        "y = X_df['cancelado']\n",
        "X, X_val,y, y_val = train_test_split(X, y, test_size=0.30, stratify= y, random_state=5)\n",
        "X_balanceado, y_balanceado = undersample.fit_resample(X, y)"
      ],
      "metadata": {
        "id": "SD-kXOaM9e8Y"
      },
      "execution_count": 50,
      "outputs": []
    },
    {
      "cell_type": "markdown",
      "source": [
        "##8.- Creación de Modelos"
      ],
      "metadata": {
        "id": "TvKicww79l_f"
      }
    },
    {
      "cell_type": "markdown",
      "source": [
        "Modelo Arbol de decision"
      ],
      "metadata": {
        "id": "jJg5RQc89xSn"
      }
    },
    {
      "cell_type": "code",
      "source": [
        "modelo = DecisionTreeClassifier(max_depth=16)\n",
        "modelo.fit(X_balanceado, y_balanceado)\n",
        "y_previsto = modelo.predict(X_val)\n",
        "print(classification_report(y_val, y_previsto))\n",
        "ConfusionMatrixDisplay.from_predictions(y_val, y_previsto);"
      ],
      "metadata": {
        "colab": {
          "base_uri": "https://localhost:8080/",
          "height": 605
        },
        "id": "sfQA3Ecw9s4K",
        "outputId": "c3b7e6c9-da67-4fa8-a9f7-e8bfd06dd68f"
      },
      "execution_count": 51,
      "outputs": [
        {
          "output_type": "stream",
          "name": "stdout",
          "text": [
            "              precision    recall  f1-score   support\n",
            "\n",
            "           0       0.85      0.70      0.77      1549\n",
            "           1       0.44      0.67      0.53       561\n",
            "\n",
            "    accuracy                           0.69      2110\n",
            "   macro avg       0.65      0.68      0.65      2110\n",
            "weighted avg       0.74      0.69      0.70      2110\n",
            "\n"
          ]
        },
        {
          "output_type": "display_data",
          "data": {
            "text/plain": [
              "<Figure size 640x480 with 2 Axes>"
            ],
            "image/png": "[encoded data removed]"
          },
          "metadata": {}
        }
      ]
    },
    {
      "cell_type": "markdown",
      "source": [
        "###Modelo Random Forest"
      ],
      "metadata": {
        "id": "LMdFIZ0e9-vY"
      }
    },
    {
      "cell_type": "code",
      "source": [
        "from sklearn.ensemble import RandomForestClassifier\n",
        "from sklearn.metrics import classification_report, ConfusionMatrixDisplay\n",
        "\n",
        "\n",
        "modelo_rf = RandomForestClassifier(\n",
        "    n_estimators=200,\n",
        "    max_depth=10,\n",
        "    random_state=5,\n",
        ")\n",
        "odelo_rf = RandomForestClassifier(max_depth = 5, min_samples_leaf= 3, min_samples_split= 2, n_estimators= 100)\n",
        "modelo_rf.fit(X_balanceado, y_balanceado)\n",
        "y_pred_rf = modelo_rf.predict(X_val)\n",
        "print(\"Random Forest:\")\n",
        "print(classification_report(y_val, y_pred_rf))\n",
        "ConfusionMatrixDisplay.from_predictions(y_val, y_pred_rf);"
      ],
      "metadata": {
        "colab": {
          "base_uri": "https://localhost:8080/",
          "height": 623
        },
        "id": "1MQe-88W-Gj1",
        "outputId": "e90d381d-f08b-4e55-aade-b52980e42baf"
      },
      "execution_count": 52,
      "outputs": [
        {
          "output_type": "stream",
          "name": "stdout",
          "text": [
            "Random Forest:\n",
            "              precision    recall  f1-score   support\n",
            "\n",
            "           0       0.87      0.77      0.82      1549\n",
            "           1       0.52      0.68      0.59       561\n",
            "\n",
            "    accuracy                           0.75      2110\n",
            "   macro avg       0.69      0.73      0.70      2110\n",
            "weighted avg       0.78      0.75      0.76      2110\n",
            "\n"
          ]
        },
        {
          "output_type": "display_data",
          "data": {
            "text/plain": [
              "<Figure size 640x480 with 2 Axes>"
            ],
            "image/png": "[encoded data removed]"
          },
          "metadata": {}
        }
      ]
    },
    {
      "cell_type": "markdown",
      "source": [
        "###Modelo KNN"
      ],
      "metadata": {
        "id": "uJ2xFDRr-PHH"
      }
    },
    {
      "cell_type": "code",
      "source": [
        "from sklearn.neighbors import KNeighborsClassifier\n",
        "\n",
        "modelo_knn = KNeighborsClassifier(3)\n",
        "modelo_knn.fit(X_balanceado, y_balanceado)\n",
        "y_pred_knn = modelo_knn.predict(X_val)\n",
        "print(\"KNN (k=5):\")\n",
        "print(classification_report(y_val, y_pred_knn))\n",
        "ConfusionMatrixDisplay.from_predictions(y_val, y_pred_knn);"
      ],
      "metadata": {
        "colab": {
          "base_uri": "https://localhost:8080/",
          "height": 623
        },
        "id": "Fy9K6QPH-Tmw",
        "outputId": "d0b823ec-e5a6-4422-b717-dcbece22668e"
      },
      "execution_count": 53,
      "outputs": [
        {
          "output_type": "stream",
          "name": "stdout",
          "text": [
            "KNN (k=5):\n",
            "              precision    recall  f1-score   support\n",
            "\n",
            "           0       0.83      0.77      0.80      1549\n",
            "           1       0.47      0.57      0.52       561\n",
            "\n",
            "    accuracy                           0.72      2110\n",
            "   macro avg       0.65      0.67      0.66      2110\n",
            "weighted avg       0.74      0.72      0.73      2110\n",
            "\n"
          ]
        },
        {
          "output_type": "display_data",
          "data": {
            "text/plain": [
              "<Figure size 640x480 with 2 Axes>"
            ],
            "image/png": "[encoded data removed]"
          },
          "metadata": {}
        }
      ]
    },
    {
      "cell_type": "markdown",
      "source": [
        "KNN con valores normalizados"
      ],
      "metadata": {
        "id": "VFRUGUNX-eG_"
      }
    },
    {
      "cell_type": "code",
      "source": [
        "from sklearn.preprocessing import MinMaxScaler\n",
        "from sklearn.neighbors import KNeighborsClassifier\n",
        "from sklearn.metrics import classification_report, ConfusionMatrixDisplay\n",
        "\n",
        "\n",
        "scaler_minmax = MinMaxScaler()\n",
        "X_balanceado_norm = scaler_minmax.fit_transform(X_balanceado)\n",
        "X_val_norm = scaler_minmax.transform(X_val)\n",
        "\n",
        "modelo_knn_norm = KNeighborsClassifier(9)\n",
        "modelo_knn_norm.fit(X_balanceado_norm, y_balanceado)\n",
        "\n",
        "\n",
        "y_pred_knn_norm = modelo_knn_norm.predict(X_val_norm)\n",
        "\n",
        "\n",
        "print(\"KNN (normalizacion Min-Max):\")\n",
        "print(classification_report(y_val, y_pred_knn_norm))\n",
        "ConfusionMatrixDisplay.from_predictions(y_val, y_pred_knn_norm);"
      ],
      "metadata": {
        "colab": {
          "base_uri": "https://localhost:8080/",
          "height": 623
        },
        "id": "EPuEhaoE-dav",
        "outputId": "5d0eeb00-9afc-44ad-b09f-5c094175342e"
      },
      "execution_count": 62,
      "outputs": [
        {
          "output_type": "stream",
          "name": "stdout",
          "text": [
            "KNN (normalizacion Min-Max):\n",
            "              precision    recall  f1-score   support\n",
            "\n",
            "           0       0.86      0.75      0.80      1549\n",
            "           1       0.49      0.66      0.56       561\n",
            "\n",
            "    accuracy                           0.73      2110\n",
            "   macro avg       0.67      0.71      0.68      2110\n",
            "weighted avg       0.76      0.73      0.74      2110\n",
            "\n"
          ]
        },
        {
          "output_type": "display_data",
          "data": {
            "text/plain": [
              "<Figure size 640x480 with 2 Axes>"
            ],
            "image/png": "[encoded data removed]"
          },
          "metadata": {}
        }
      ]
    },
    {
      "cell_type": "markdown",
      "source": [
        "###9.- Paso: Evaluacion de modelos"
      ],
      "metadata": {
        "id": "2IK64b7j-rTZ"
      }
    },
    {
      "cell_type": "code",
      "source": [
        "from sklearn.metrics import accuracy_score, precision_score, recall_score, f1_score\n",
        "\n",
        "def calcular_metricas(y_real, y_pred, nombre_modelo):\n",
        "    return {\n",
        "        'Modelo': nombre_modelo,\n",
        "        'Accuracy': accuracy_score(y_real, y_pred),\n",
        "        'Precision': precision_score(y_real, y_pred),\n",
        "        'Recall': recall_score(y_real, y_pred),\n",
        "        'F1-score': f1_score(y_real, y_pred)\n",
        "    }\n",
        "metricas_arbol = calcular_metricas(y_val, y_previsto, 'Árbol de Decisión')\n",
        "metricas_rf = calcular_metricas(y_val, y_pred_rf, 'Random Forest')\n",
        "metricas_KNNN = calcular_metricas(y_val, y_pred_knn_norm, 'KNN con valores normalizados')\n",
        "import pandas as pd\n",
        "df_metricas = pd.DataFrame([metricas_arbol, metricas_rf, metricas_KNNN])\n",
        "df_metricas.set_index('Modelo', inplace=True)\n",
        "df_metricas.sort_values('Recall', ascending=False)"
      ],
      "metadata": {
        "colab": {
          "base_uri": "https://localhost:8080/",
          "height": 175
        },
        "id": "dgyOQZgQ-u3w",
        "outputId": "99ab69c0-9519-471b-838f-28ff1bdb2b5b"
      },
      "execution_count": 55,
      "outputs": [
        {
          "output_type": "execute_result",
          "data": {
            "text/plain": [
              "                              Accuracy  Precision    Recall  F1-score\n",
              "Modelo                                                               \n",
              "Random Forest                 0.745972   0.516915  0.680927  0.587692\n",
              "Árbol de Decisión             0.688152   0.442604  0.666667  0.532006\n",
              "KNN con valores normalizados  0.725592   0.488158  0.661319  0.561696"
            ],
            "text/html": [
              "\n",
              "  <div id=\"df-91e36d6d-4935-46f8-8f08-48ad838e1ea3\" class=\"colab-df-container\">\n",
              "    <div>\n",
              "<style scoped>\n",
              "    .dataframe tbody tr th:only-of-type {\n",
              "        vertical-align: middle;\n",
              "    }\n",
              "\n",
              "    .dataframe tbody tr th {\n",
              "        vertical-align: top;\n",
              "    }\n",
              "\n",
              "    .dataframe thead th {\n",
              "        text-align: right;\n",
              "    }\n",
              "</style>\n",
              "<table border=\"1\" class=\"dataframe\">\n",
              "  <thead>\n",
              "    <tr style=\"text-align: right;\">\n",
              "      <th></th>\n",
              "      <th>Accuracy</th>\n",
              "      <th>Precision</th>\n",
              "      <th>Recall</th>\n",
              "      <th>F1-score</th>\n",
              "    </tr>\n",
              "    <tr>\n",
              "      <th>Modelo</th>\n",
              "      <th></th>\n",
              "      <th></th>\n",
              "      <th></th>\n",
              "      <th></th>\n",
              "    </tr>\n",
              "  </thead>\n",
              "  <tbody>\n",
              "    <tr>\n",
              "      <th>Random Forest</th>\n",
              "      <td>0.745972</td>\n",
              "      <td>0.516915</td>\n",
              "      <td>0.680927</td>\n",
              "      <td>0.587692</td>\n",
              "    </tr>\n",
              "    <tr>\n",
              "      <th>Árbol de Decisión</th>\n",
              "      <td>0.688152</td>\n",
              "      <td>0.442604</td>\n",
              "      <td>0.666667</td>\n",
              "      <td>0.532006</td>\n",
              "    </tr>\n",
              "    <tr>\n",
              "      <th>KNN con valores normalizados</th>\n",
              "      <td>0.725592</td>\n",
              "      <td>0.488158</td>\n",
              "      <td>0.661319</td>\n",
              "      <td>0.561696</td>\n",
              "    </tr>\n",
              "  </tbody>\n",
              "</table>\n",
              "</div>\n",
              "    <div class=\"colab-df-buttons\">\n",
              "\n",
              "  <div class=\"colab-df-container\">\n",
              "    <button class=\"colab-df-convert\" onclick=\"convertToInteractive('df-91e36d6d-4935-46f8-8f08-48ad838e1ea3')\"\n",
              "            title=\"Convert this dataframe to an interactive table.\"\n",
              "            style=\"display:none;\">\n",
              "\n",
              "  <svg xmlns=\"http://www.w3.org/2000/svg\" height=\"24px\" viewBox=\"0 -960 960 960\">\n",
              "    <path d=\"M120-120v-720h720v720H120Zm60-500h600v-160H180v160Zm220 220h160v-160H400v160Zm0 220h160v-160H400v160ZM180-400h160v-160H180v160Zm440 0h160v-160H620v160ZM180-180h160v-160H180v160Zm440 0h160v-160H620v160Z\"/>\n",
              "  </svg>\n",
              "    </button>\n",
              "\n",
              "  <style>\n",
              "    .colab-df-container {\n",
              "      display:flex;\n",
              "      gap: 12px;\n",
              "    }\n",
              "\n",
              "    .colab-df-convert {\n",
              "      background-color: #E8F0FE;\n",
              "      border: none;\n",
              "      border-radius: 50%;\n",
              "      cursor: pointer;\n",
              "      display: none;\n",
              "      fill: #1967D2;\n",
              "      height: 32px;\n",
              "      padding: 0 0 0 0;\n",
              "      width: 32px;\n",
              "    }\n",
              "\n",
              "    .colab-df-convert:hover {\n",
              "      background-color: #E2EBFA;\n",
              "      box-shadow: 0px 1px 2px rgba(60, 64, 67, 0.3), 0px 1px 3px 1px rgba(60, 64, 67, 0.15);\n",
              "      fill: #174EA6;\n",
              "    }\n",
              "\n",
              "    .colab-df-buttons div {\n",
              "      margin-bottom: 4px;\n",
              "    }\n",
              "\n",
              "    [theme=dark] .colab-df-convert {\n",
              "      background-color: #3B4455;\n",
              "      fill: #D2E3FC;\n",
              "    }\n",
              "\n",
              "    [theme=dark] .colab-df-convert:hover {\n",
              "      background-color: #434B5C;\n",
              "      box-shadow: 0px 1px 3px 1px rgba(0, 0, 0, 0.15);\n",
              "      filter: drop-shadow(0px 1px 2px rgba(0, 0, 0, 0.3));\n",
              "      fill: #FFFFFF;\n",
              "    }\n",
              "  </style>\n",
              "\n",
              "    <script>\n",
              "      const buttonEl =\n",
              "        document.querySelector('#df-91e36d6d-4935-46f8-8f08-48ad838e1ea3 button.colab-df-convert');\n",
              "      buttonEl.style.display =\n",
              "        google.colab.kernel.accessAllowed ? 'block' : 'none';\n",
              "\n",
              "      async function convertToInteractive(key) {\n",
              "        const element = document.querySelector('#df-91e36d6d-4935-46f8-8f08-48ad838e1ea3');\n",
              "        const dataTable =\n",
              "          await google.colab.kernel.invokeFunction('convertToInteractive',\n",
              "                                                    [key], {});\n",
              "        if (!dataTable) return;\n",
              "\n",
              "        const docLinkHtml = 'Like what you see? Visit the ' +\n",
              "          '<a target=\"_blank\" href=https://colab.research.google.com/notebooks/data_table.ipynb>data table notebook</a>'\n",
              "          + ' to learn more about interactive tables.';\n",
              "        element.innerHTML = '';\n",
              "        dataTable['output_type'] = 'display_data';\n",
              "        await google.colab.output.renderOutput(dataTable, element);\n",
              "        const docLink = document.createElement('div');\n",
              "        docLink.innerHTML = docLinkHtml;\n",
              "        element.appendChild(docLink);\n",
              "      }\n",
              "    </script>\n",
              "  </div>\n",
              "\n",
              "\n",
              "    <div id=\"df-df1ca51b-0836-4717-918f-81ea9ca067bf\">\n",
              "      <button class=\"colab-df-quickchart\" onclick=\"quickchart('df-df1ca51b-0836-4717-918f-81ea9ca067bf')\"\n",
              "                title=\"Suggest charts\"\n",
              "                style=\"display:none;\">\n",
              "\n",
              "<svg xmlns=\"http://www.w3.org/2000/svg\" height=\"24px\"viewBox=\"0 0 24 24\"\n",
              "     width=\"24px\">\n",
              "    <g>\n",
              "        <path d=\"M19 3H5c-1.1 0-2 .9-2 2v14c0 1.1.9 2 2 2h14c1.1 0 2-.9 2-2V5c0-1.1-.9-2-2-2zM9 17H7v-7h2v7zm4 0h-2V7h2v10zm4 0h-2v-4h2v4z\"/>\n",
              "    </g>\n",
              "</svg>\n",
              "      </button>\n",
              "\n",
              "<style>\n",
              "  .colab-df-quickchart {\n",
              "      --bg-color: #E8F0FE;\n",
              "      --fill-color: #1967D2;\n",
              "      --hover-bg-color: #E2EBFA;\n",
              "      --hover-fill-color: #174EA6;\n",
              "      --disabled-fill-color: #AAA;\n",
              "      --disabled-bg-color: #DDD;\n",
              "  }\n",
              "\n",
              "  [theme=dark] .colab-df-quickchart {\n",
              "      --bg-color: #3B4455;\n",
              "      --fill-color: #D2E3FC;\n",
              "      --hover-bg-color: #434B5C;\n",
              "      --hover-fill-color: #FFFFFF;\n",
              "      --disabled-bg-color: #3B4455;\n",
              "      --disabled-fill-color: #666;\n",
              "  }\n",
              "\n",
              "  .colab-df-quickchart {\n",
              "    background-color: var(--bg-color);\n",
              "    border: none;\n",
              "    border-radius: 50%;\n",
              "    cursor: pointer;\n",
              "    display: none;\n",
              "    fill: var(--fill-color);\n",
              "    height: 32px;\n",
              "    padding: 0;\n",
              "    width: 32px;\n",
              "  }\n",
              "\n",
              "  .colab-df-quickchart:hover {\n",
              "    background-color: var(--hover-bg-color);\n",
              "    box-shadow: 0 1px 2px rgba(60, 64, 67, 0.3), 0 1px 3px 1px rgba(60, 64, 67, 0.15);\n",
              "    fill: var(--button-hover-fill-color);\n",
              "  }\n",
              "\n",
              "  .colab-df-quickchart-complete:disabled,\n",
              "  .colab-df-quickchart-complete:disabled:hover {\n",
              "    background-color: var(--disabled-bg-color);\n",
              "    fill: var(--disabled-fill-color);\n",
              "    box-shadow: none;\n",
              "  }\n",
              "\n",
              "  .colab-df-spinner {\n",
              "    border: 2px solid var(--fill-color);\n",
              "    border-color: transparent;\n",
              "    border-bottom-color: var(--fill-color);\n",
              "    animation:\n",
              "      spin 1s steps(1) infinite;\n",
              "  }\n",
              "\n",
              "  @keyframes spin {\n",
              "    0% {\n",
              "      border-color: transparent;\n",
              "      border-bottom-color: var(--fill-color);\n",
              "      border-left-color: var(--fill-color);\n",
              "    }\n",
              "    20% {\n",
              "      border-color: transparent;\n",
              "      border-left-color: var(--fill-color);\n",
              "      border-top-color: var(--fill-color);\n",
              "    }\n",
              "    30% {\n",
              "      border-color: transparent;\n",
              "      border-left-color: var(--fill-color);\n",
              "      border-top-color: var(--fill-color);\n",
              "      border-right-color: var(--fill-color);\n",
              "    }\n",
              "    40% {\n",
              "      border-color: transparent;\n",
              "      border-right-color: var(--fill-color);\n",
              "      border-top-color: var(--fill-color);\n",
              "    }\n",
              "    60% {\n",
              "      border-color: transparent;\n",
              "      border-right-color: var(--fill-color);\n",
              "    }\n",
              "    80% {\n",
              "      border-color: transparent;\n",
              "      border-right-color: var(--fill-color);\n",
              "      border-bottom-color: var(--fill-color);\n",
              "    }\n",
              "    90% {\n",
              "      border-color: transparent;\n",
              "      border-bottom-color: var(--fill-color);\n",
              "    }\n",
              "  }\n",
              "</style>\n",
              "\n",
              "      <script>\n",
              "        async function quickchart(key) {\n",
              "          const quickchartButtonEl =\n",
              "            document.querySelector('#' + key + ' button');\n",
              "          quickchartButtonEl.disabled = true;  // To prevent multiple clicks.\n",
              "          quickchartButtonEl.classList.add('colab-df-spinner');\n",
              "          try {\n",
              "            const charts = await google.colab.kernel.invokeFunction(\n",
              "                'suggestCharts', [key], {});\n",
              "          } catch (error) {\n",
              "            console.error('Error during call to suggestCharts:', error);\n",
              "          }\n",
              "          quickchartButtonEl.classList.remove('colab-df-spinner');\n",
              "          quickchartButtonEl.classList.add('colab-df-quickchart-complete');\n",
              "        }\n",
              "        (() => {\n",
              "          let quickchartButtonEl =\n",
              "            document.querySelector('#df-df1ca51b-0836-4717-918f-81ea9ca067bf button');\n",
              "          quickchartButtonEl.style.display =\n",
              "            google.colab.kernel.accessAllowed ? 'block' : 'none';\n",
              "        })();\n",
              "      </script>\n",
              "    </div>\n",
              "\n",
              "    </div>\n",
              "  </div>\n"
            ],
            "application/vnd.google.colaboratory.intrinsic+json": {
              "type": "dataframe",
              "summary": "{\n  \"name\": \"df_metricas\",\n  \"rows\": 3,\n  \"fields\": [\n    {\n      \"column\": \"Modelo\",\n      \"properties\": {\n        \"dtype\": \"string\",\n        \"num_unique_values\": 3,\n        \"samples\": [\n          \"Random Forest\",\n          \"\\u00c1rbol de Decisi\\u00f3n\",\n          \"KNN con valores normalizados\"\n        ],\n        \"semantic_type\": \"\",\n        \"description\": \"\"\n      }\n    },\n    {\n      \"column\": \"Accuracy\",\n      \"properties\": {\n        \"dtype\": \"number\",\n        \"std\": 0.029326499534417044,\n        \"min\": 0.6881516587677725,\n        \"max\": 0.7459715639810427,\n        \"num_unique_values\": 3,\n        \"samples\": [\n          0.7459715639810427,\n          0.6881516587677725,\n          0.7255924170616114\n        ],\n        \"semantic_type\": \"\",\n        \"description\": \"\"\n      }\n    },\n    {\n      \"column\": \"Precision\",\n      \"properties\": {\n        \"dtype\": \"number\",\n        \"std\": 0.037470675987604195,\n        \"min\": 0.44260355029585796,\n        \"max\": 0.516914749661705,\n        \"num_unique_values\": 3,\n        \"samples\": [\n          0.516914749661705,\n          0.44260355029585796,\n          0.4881578947368421\n        ],\n        \"semantic_type\": \"\",\n        \"description\": \"\"\n      }\n    },\n    {\n      \"column\": \"Recall\",\n      \"properties\": {\n        \"dtype\": \"number\",\n        \"std\": 0.010135901431510361,\n        \"min\": 0.661319073083779,\n        \"max\": 0.6809269162210339,\n        \"num_unique_values\": 3,\n        \"samples\": [\n          0.6809269162210339,\n          0.6666666666666666,\n          0.661319073083779\n        ],\n        \"semantic_type\": \"\",\n        \"description\": \"\"\n      }\n    },\n    {\n      \"column\": \"F1-score\",\n      \"properties\": {\n        \"dtype\": \"number\",\n        \"std\": 0.02786371476239599,\n        \"min\": 0.5320056899004267,\n        \"max\": 0.5876923076923077,\n        \"num_unique_values\": 3,\n        \"samples\": [\n          0.5876923076923077,\n          0.5320056899004267,\n          0.5616956850870553\n        ],\n        \"semantic_type\": \"\",\n        \"description\": \"\"\n      }\n    }\n  ]\n}"
            }
          },
          "metadata": {},
          "execution_count": 55
        }
      ]
    },
    {
      "cell_type": "markdown",
      "source": [
        "##10.- Análisis de la Importancia de las Variables"
      ],
      "metadata": {
        "id": "n4WIVTWU_FJU"
      }
    },
    {
      "cell_type": "markdown",
      "source": [
        "###Random Forest"
      ],
      "metadata": {
        "id": "FYcJPM3O_IOI"
      }
    },
    {
      "cell_type": "markdown",
      "source": [
        "El modelo genera de manera automática una estimación de la relevancia asociada a cada variable."
      ],
      "metadata": {
        "id": "XYyc6wVy_NSr"
      }
    },
    {
      "cell_type": "code",
      "source": [
        "import matplotlib.pyplot as plt\n",
        "import seaborn as sns\n",
        "\n",
        "\n",
        "importancia_vars = modelo_rf.feature_importances_\n",
        "nombres_vars = X.columns\n",
        "\n",
        "df_importancia = pd.DataFrame({\n",
        "    'Variable': nombres_vars,\n",
        "    'Importancia': importancia_vars\n",
        "}).sort_values(by='Importancia', ascending=False)\n",
        "\n",
        "\n",
        "plt.figure(figsize=(10,6))\n",
        "sns.barplot(data=df_importancia.head(10), x='Variable', y='Importancia')\n",
        "plt.title('Importancia de Variables - Random Forest')\n",
        "plt.tight_layout()\n",
        "plt.show()"
      ],
      "metadata": {
        "colab": {
          "base_uri": "https://localhost:8080/",
          "height": 607
        },
        "id": "O_mh4Yr6_gZa",
        "outputId": "d01c6d31-998c-4926-cd51-6401d4c6cbf5"
      },
      "execution_count": 61,
      "outputs": [
        {
          "output_type": "display_data",
          "data": {
            "text/plain": [
              "<Figure size 1000x600 with 1 Axes>"
            ],
            "image/png": "[encoded data removed]"
          },
          "metadata": {}
        }
      ]
    },
    {
      "cell_type": "markdown",
      "source": [
        "###Regresion lineal"
      ],
      "metadata": {
        "id": "niXH_rZW_oDY"
      }
    },
    {
      "cell_type": "code",
      "source": [
        "from sklearn.linear_model import LogisticRegression\n",
        "from sklearn.preprocessing import MinMaxScaler\n",
        "from imblearn.pipeline import Pipeline as imbpipeline\n",
        "\n",
        "pipeline_rl = imbpipeline([\n",
        "    ('scaler', MinMaxScaler()),\n",
        "    ('rl', LogisticRegression(max_iter=1000))\n",
        "])\n",
        "\n",
        "\n",
        "pipeline_rl.fit(X_balanceado, y_balanceado)\n",
        "y_rl=pipeline_rl.predict(X_val)\n",
        "\n",
        "print(classification_report(y_val, y_rl))\n",
        "ConfusionMatrixDisplay.from_predictions(y_val, y_rl);"
      ],
      "metadata": {
        "colab": {
          "base_uri": "https://localhost:8080/",
          "height": 605
        },
        "id": "puJkKxrH_un_",
        "outputId": "f7329612-b8e3-4138-f61e-1ee66f8d8675"
      },
      "execution_count": 57,
      "outputs": [
        {
          "output_type": "stream",
          "name": "stdout",
          "text": [
            "              precision    recall  f1-score   support\n",
            "\n",
            "           0       0.89      0.71      0.79      1549\n",
            "           1       0.49      0.76      0.59       561\n",
            "\n",
            "    accuracy                           0.72      2110\n",
            "   macro avg       0.69      0.74      0.69      2110\n",
            "weighted avg       0.78      0.72      0.74      2110\n",
            "\n"
          ]
        },
        {
          "output_type": "display_data",
          "data": {
            "text/plain": [
              "<Figure size 640x480 with 2 Axes>"
            ],
            "image/png": "[encoded data removed]"
          },
          "metadata": {}
        }
      ]
    },
    {
      "cell_type": "code",
      "source": [
        "coeficientes = pd.Series(pipeline_rl.named_steps['rl'].coef_[0], index=X.columns).sort_values(key=abs, ascending=True)\n",
        "print(coeficientes)"
      ],
      "metadata": {
        "colab": {
          "base_uri": "https://localhost:8080/"
        },
        "id": "mt5iU4oNAFt6",
        "outputId": "b2a17c70-8f70-449f-f7ee-fcb34d8808cc"
      },
      "execution_count": 58,
      "outputs": [
        {
          "output_type": "stream",
          "name": "stdout",
          "text": [
            "onehotencoder__metodoPago_Mailed check              -0.050954\n",
            "remainder__gastosMensuales                           0.097752\n",
            "onehotencoder__metodoPago_Credit card (automatic)   -0.198508\n",
            "onehotencoder__tieneDependentes_1                   -0.246422\n",
            "onehotencoder__mayor65_1                             0.452023\n",
            "onehotencoder__metodoPago_Electronic check           0.483290\n",
            "onehotencoder__tipoContrato_One year                -0.791644\n",
            "onehotencoder__tipoContrato_Two year                -1.210631\n",
            "remainder__gastosTotales                             1.732898\n",
            "remainder__mesesContrato                            -2.808304\n",
            "dtype: float64\n"
          ]
        }
      ]
    },
    {
      "cell_type": "code",
      "source": [
        "importancia_arbol = modelo.feature_importances_\n",
        "df_importancia_arbol = pd.DataFrame({\n",
        "    'Variable': X.columns,\n",
        "    'Importancia': importancia_arbol\n",
        "}).sort_values(by='Importancia', ascending=False)"
      ],
      "metadata": {
        "id": "DvPyo4o8AMKJ"
      },
      "execution_count": 59,
      "outputs": []
    },
    {
      "cell_type": "code",
      "source": [
        "df_importancia_arbol"
      ],
      "metadata": {
        "colab": {
          "base_uri": "https://localhost:8080/",
          "height": 363
        },
        "id": "Tmn3RDNDATAY",
        "outputId": "5dcfefd4-116e-40aa-b5cc-38716f6ee707"
      },
      "execution_count": 60,
      "outputs": [
        {
          "output_type": "execute_result",
          "data": {
            "text/plain": [
              "                                            Variable  Importancia\n",
              "7                           remainder__mesesContrato     0.299483\n",
              "8                         remainder__gastosMensuales     0.298788\n",
              "9                           remainder__gastosTotales     0.243147\n",
              "5         onehotencoder__metodoPago_Electronic check     0.051324\n",
              "0                  onehotencoder__tieneDependentes_1     0.021618\n",
              "1                           onehotencoder__mayor65_1     0.020715\n",
              "2               onehotencoder__tipoContrato_One year     0.020437\n",
              "3               onehotencoder__tipoContrato_Two year     0.019896\n",
              "4  onehotencoder__metodoPago_Credit card (automatic)     0.013649\n",
              "6             onehotencoder__metodoPago_Mailed check     0.010944"
            ],
            "text/html": [
              "\n",
              "  <div id=\"df-42d804ad-eead-42dc-8133-5943ff72be82\" class=\"colab-df-container\">\n",
              "    <div>\n",
              "<style scoped>\n",
              "    .dataframe tbody tr th:only-of-type {\n",
              "        vertical-align: middle;\n",
              "    }\n",
              "\n",
              "    .dataframe tbody tr th {\n",
              "        vertical-align: top;\n",
              "    }\n",
              "\n",
              "    .dataframe thead th {\n",
              "        text-align: right;\n",
              "    }\n",
              "</style>\n",
              "<table border=\"1\" class=\"dataframe\">\n",
              "  <thead>\n",
              "    <tr style=\"text-align: right;\">\n",
              "      <th></th>\n",
              "      <th>Variable</th>\n",
              "      <th>Importancia</th>\n",
              "    </tr>\n",
              "  </thead>\n",
              "  <tbody>\n",
              "    <tr>\n",
              "      <th>7</th>\n",
              "      <td>remainder__mesesContrato</td>\n",
              "      <td>0.299483</td>\n",
              "    </tr>\n",
              "    <tr>\n",
              "      <th>8</th>\n",
              "      <td>remainder__gastosMensuales</td>\n",
              "      <td>0.298788</td>\n",
              "    </tr>\n",
              "    <tr>\n",
              "      <th>9</th>\n",
              "      <td>remainder__gastosTotales</td>\n",
              "      <td>0.243147</td>\n",
              "    </tr>\n",
              "    <tr>\n",
              "      <th>5</th>\n",
              "      <td>onehotencoder__metodoPago_Electronic check</td>\n",
              "      <td>0.051324</td>\n",
              "    </tr>\n",
              "    <tr>\n",
              "      <th>0</th>\n",
              "      <td>onehotencoder__tieneDependentes_1</td>\n",
              "      <td>0.021618</td>\n",
              "    </tr>\n",
              "    <tr>\n",
              "      <th>1</th>\n",
              "      <td>onehotencoder__mayor65_1</td>\n",
              "      <td>0.020715</td>\n",
              "    </tr>\n",
              "    <tr>\n",
              "      <th>2</th>\n",
              "      <td>onehotencoder__tipoContrato_One year</td>\n",
              "      <td>0.020437</td>\n",
              "    </tr>\n",
              "    <tr>\n",
              "      <th>3</th>\n",
              "      <td>onehotencoder__tipoContrato_Two year</td>\n",
              "      <td>0.019896</td>\n",
              "    </tr>\n",
              "    <tr>\n",
              "      <th>4</th>\n",
              "      <td>onehotencoder__metodoPago_Credit card (automatic)</td>\n",
              "      <td>0.013649</td>\n",
              "    </tr>\n",
              "    <tr>\n",
              "      <th>6</th>\n",
              "      <td>onehotencoder__metodoPago_Mailed check</td>\n",
              "      <td>0.010944</td>\n",
              "    </tr>\n",
              "  </tbody>\n",
              "</table>\n",
              "</div>\n",
              "    <div class=\"colab-df-buttons\">\n",
              "\n",
              "  <div class=\"colab-df-container\">\n",
              "    <button class=\"colab-df-convert\" onclick=\"convertToInteractive('df-42d804ad-eead-42dc-8133-5943ff72be82')\"\n",
              "            title=\"Convert this dataframe to an interactive table.\"\n",
              "            style=\"display:none;\">\n",
              "\n",
              "  <svg xmlns=\"http://www.w3.org/2000/svg\" height=\"24px\" viewBox=\"0 -960 960 960\">\n",
              "    <path d=\"M120-120v-720h720v720H120Zm60-500h600v-160H180v160Zm220 220h160v-160H400v160Zm0 220h160v-160H400v160ZM180-400h160v-160H180v160Zm440 0h160v-160H620v160ZM180-180h160v-160H180v160Zm440 0h160v-160H620v160Z\"/>\n",
              "  </svg>\n",
              "    </button>\n",
              "\n",
              "  <style>\n",
              "    .colab-df-container {\n",
              "      display:flex;\n",
              "      gap: 12px;\n",
              "    }\n",
              "\n",
              "    .colab-df-convert {\n",
              "      background-color: #E8F0FE;\n",
              "      border: none;\n",
              "      border-radius: 50%;\n",
              "      cursor: pointer;\n",
              "      display: none;\n",
              "      fill: #1967D2;\n",
              "      height: 32px;\n",
              "      padding: 0 0 0 0;\n",
              "      width: 32px;\n",
              "    }\n",
              "\n",
              "    .colab-df-convert:hover {\n",
              "      background-color: #E2EBFA;\n",
              "      box-shadow: 0px 1px 2px rgba(60, 64, 67, 0.3), 0px 1px 3px 1px rgba(60, 64, 67, 0.15);\n",
              "      fill: #174EA6;\n",
              "    }\n",
              "\n",
              "    .colab-df-buttons div {\n",
              "      margin-bottom: 4px;\n",
              "    }\n",
              "\n",
              "    [theme=dark] .colab-df-convert {\n",
              "      background-color: #3B4455;\n",
              "      fill: #D2E3FC;\n",
              "    }\n",
              "\n",
              "    [theme=dark] .colab-df-convert:hover {\n",
              "      background-color: #434B5C;\n",
              "      box-shadow: 0px 1px 3px 1px rgba(0, 0, 0, 0.15);\n",
              "      filter: drop-shadow(0px 1px 2px rgba(0, 0, 0, 0.3));\n",
              "      fill: #FFFFFF;\n",
              "    }\n",
              "  </style>\n",
              "\n",
              "    <script>\n",
              "      const buttonEl =\n",
              "        document.querySelector('#df-42d804ad-eead-42dc-8133-5943ff72be82 button.colab-df-convert');\n",
              "      buttonEl.style.display =\n",
              "        google.colab.kernel.accessAllowed ? 'block' : 'none';\n",
              "\n",
              "      async function convertToInteractive(key) {\n",
              "        const element = document.querySelector('#df-42d804ad-eead-42dc-8133-5943ff72be82');\n",
              "        const dataTable =\n",
              "          await google.colab.kernel.invokeFunction('convertToInteractive',\n",
              "                                                    [key], {});\n",
              "        if (!dataTable) return;\n",
              "\n",
              "        const docLinkHtml = 'Like what you see? Visit the ' +\n",
              "          '<a target=\"_blank\" href=https://colab.research.google.com/notebooks/data_table.ipynb>data table notebook</a>'\n",
              "          + ' to learn more about interactive tables.';\n",
              "        element.innerHTML = '';\n",
              "        dataTable['output_type'] = 'display_data';\n",
              "        await google.colab.output.renderOutput(dataTable, element);\n",
              "        const docLink = document.createElement('div');\n",
              "        docLink.innerHTML = docLinkHtml;\n",
              "        element.appendChild(docLink);\n",
              "      }\n",
              "    </script>\n",
              "  </div>\n",
              "\n",
              "\n",
              "    <div id=\"df-b8125d61-4f1e-477b-b88e-bac3675574d8\">\n",
              "      <button class=\"colab-df-quickchart\" onclick=\"quickchart('df-b8125d61-4f1e-477b-b88e-bac3675574d8')\"\n",
              "                title=\"Suggest charts\"\n",
              "                style=\"display:none;\">\n",
              "\n",
              "<svg xmlns=\"http://www.w3.org/2000/svg\" height=\"24px\"viewBox=\"0 0 24 24\"\n",
              "     width=\"24px\">\n",
              "    <g>\n",
              "        <path d=\"M19 3H5c-1.1 0-2 .9-2 2v14c0 1.1.9 2 2 2h14c1.1 0 2-.9 2-2V5c0-1.1-.9-2-2-2zM9 17H7v-7h2v7zm4 0h-2V7h2v10zm4 0h-2v-4h2v4z\"/>\n",
              "    </g>\n",
              "</svg>\n",
              "      </button>\n",
              "\n",
              "<style>\n",
              "  .colab-df-quickchart {\n",
              "      --bg-color: #E8F0FE;\n",
              "      --fill-color: #1967D2;\n",
              "      --hover-bg-color: #E2EBFA;\n",
              "      --hover-fill-color: #174EA6;\n",
              "      --disabled-fill-color: #AAA;\n",
              "      --disabled-bg-color: #DDD;\n",
              "  }\n",
              "\n",
              "  [theme=dark] .colab-df-quickchart {\n",
              "      --bg-color: #3B4455;\n",
              "      --fill-color: #D2E3FC;\n",
              "      --hover-bg-color: #434B5C;\n",
              "      --hover-fill-color: #FFFFFF;\n",
              "      --disabled-bg-color: #3B4455;\n",
              "      --disabled-fill-color: #666;\n",
              "  }\n",
              "\n",
              "  .colab-df-quickchart {\n",
              "    background-color: var(--bg-color);\n",
              "    border: none;\n",
              "    border-radius: 50%;\n",
              "    cursor: pointer;\n",
              "    display: none;\n",
              "    fill: var(--fill-color);\n",
              "    height: 32px;\n",
              "    padding: 0;\n",
              "    width: 32px;\n",
              "  }\n",
              "\n",
              "  .colab-df-quickchart:hover {\n",
              "    background-color: var(--hover-bg-color);\n",
              "    box-shadow: 0 1px 2px rgba(60, 64, 67, 0.3), 0 1px 3px 1px rgba(60, 64, 67, 0.15);\n",
              "    fill: var(--button-hover-fill-color);\n",
              "  }\n",
              "\n",
              "  .colab-df-quickchart-complete:disabled,\n",
              "  .colab-df-quickchart-complete:disabled:hover {\n",
              "    background-color: var(--disabled-bg-color);\n",
              "    fill: var(--disabled-fill-color);\n",
              "    box-shadow: none;\n",
              "  }\n",
              "\n",
              "  .colab-df-spinner {\n",
              "    border: 2px solid var(--fill-color);\n",
              "    border-color: transparent;\n",
              "    border-bottom-color: var(--fill-color);\n",
              "    animation:\n",
              "      spin 1s steps(1) infinite;\n",
              "  }\n",
              "\n",
              "  @keyframes spin {\n",
              "    0% {\n",
              "      border-color: transparent;\n",
              "      border-bottom-color: var(--fill-color);\n",
              "      border-left-color: var(--fill-color);\n",
              "    }\n",
              "    20% {\n",
              "      border-color: transparent;\n",
              "      border-left-color: var(--fill-color);\n",
              "      border-top-color: var(--fill-color);\n",
              "    }\n",
              "    30% {\n",
              "      border-color: transparent;\n",
              "      border-left-color: var(--fill-color);\n",
              "      border-top-color: var(--fill-color);\n",
              "      border-right-color: var(--fill-color);\n",
              "    }\n",
              "    40% {\n",
              "      border-color: transparent;\n",
              "      border-right-color: var(--fill-color);\n",
              "      border-top-color: var(--fill-color);\n",
              "    }\n",
              "    60% {\n",
              "      border-color: transparent;\n",
              "      border-right-color: var(--fill-color);\n",
              "    }\n",
              "    80% {\n",
              "      border-color: transparent;\n",
              "      border-right-color: var(--fill-color);\n",
              "      border-bottom-color: var(--fill-color);\n",
              "    }\n",
              "    90% {\n",
              "      border-color: transparent;\n",
              "      border-bottom-color: var(--fill-color);\n",
              "    }\n",
              "  }\n",
              "</style>\n",
              "\n",
              "      <script>\n",
              "        async function quickchart(key) {\n",
              "          const quickchartButtonEl =\n",
              "            document.querySelector('#' + key + ' button');\n",
              "          quickchartButtonEl.disabled = true;  // To prevent multiple clicks.\n",
              "          quickchartButtonEl.classList.add('colab-df-spinner');\n",
              "          try {\n",
              "            const charts = await google.colab.kernel.invokeFunction(\n",
              "                'suggestCharts', [key], {});\n",
              "          } catch (error) {\n",
              "            console.error('Error during call to suggestCharts:', error);\n",
              "          }\n",
              "          quickchartButtonEl.classList.remove('colab-df-spinner');\n",
              "          quickchartButtonEl.classList.add('colab-df-quickchart-complete');\n",
              "        }\n",
              "        (() => {\n",
              "          let quickchartButtonEl =\n",
              "            document.querySelector('#df-b8125d61-4f1e-477b-b88e-bac3675574d8 button');\n",
              "          quickchartButtonEl.style.display =\n",
              "            google.colab.kernel.accessAllowed ? 'block' : 'none';\n",
              "        })();\n",
              "      </script>\n",
              "    </div>\n",
              "\n",
              "  <div id=\"id_9e2d8329-b2f5-4070-b461-e73dec4d0190\">\n",
              "    <style>\n",
              "      .colab-df-generate {\n",
              "        background-color: #E8F0FE;\n",
              "        border: none;\n",
              "        border-radius: 50%;\n",
              "        cursor: pointer;\n",
              "        display: none;\n",
              "        fill: #1967D2;\n",
              "        height: 32px;\n",
              "        padding: 0 0 0 0;\n",
              "        width: 32px;\n",
              "      }\n",
              "\n",
              "      .colab-df-generate:hover {\n",
              "        background-color: #E2EBFA;\n",
              "        box-shadow: 0px 1px 2px rgba(60, 64, 67, 0.3), 0px 1px 3px 1px rgba(60, 64, 67, 0.15);\n",
              "        fill: #174EA6;\n",
              "      }\n",
              "\n",
              "      [theme=dark] .colab-df-generate {\n",
              "        background-color: #3B4455;\n",
              "        fill: #D2E3FC;\n",
              "      }\n",
              "\n",
              "      [theme=dark] .colab-df-generate:hover {\n",
              "        background-color: #434B5C;\n",
              "        box-shadow: 0px 1px 3px 1px rgba(0, 0, 0, 0.15);\n",
              "        filter: drop-shadow(0px 1px 2px rgba(0, 0, 0, 0.3));\n",
              "        fill: #FFFFFF;\n",
              "      }\n",
              "    </style>\n",
              "    <button class=\"colab-df-generate\" onclick=\"generateWithVariable('df_importancia_arbol')\"\n",
              "            title=\"Generate code using this dataframe.\"\n",
              "            style=\"display:none;\">\n",
              "\n",
              "  <svg xmlns=\"http://www.w3.org/2000/svg\" height=\"24px\"viewBox=\"0 0 24 24\"\n",
              "       width=\"24px\">\n",
              "    <path d=\"M7,19H8.4L18.45,9,17,7.55,7,17.6ZM5,21V16.75L18.45,3.32a2,2,0,0,1,2.83,0l1.4,1.43a1.91,1.91,0,0,1,.58,1.4,1.91,1.91,0,0,1-.58,1.4L9.25,21ZM18.45,9,17,7.55Zm-12,3A5.31,5.31,0,0,0,4.9,8.1,5.31,5.31,0,0,0,1,6.5,5.31,5.31,0,0,0,4.9,4.9,5.31,5.31,0,0,0,6.5,1,5.31,5.31,0,0,0,8.1,4.9,5.31,5.31,0,0,0,12,6.5,5.46,5.46,0,0,0,6.5,12Z\"/>\n",
              "  </svg>\n",
              "    </button>\n",
              "    <script>\n",
              "      (() => {\n",
              "      const buttonEl =\n",
              "        document.querySelector('#id_9e2d8329-b2f5-4070-b461-e73dec4d0190 button.colab-df-generate');\n",
              "      buttonEl.style.display =\n",
              "        google.colab.kernel.accessAllowed ? 'block' : 'none';\n",
              "\n",
              "      buttonEl.onclick = () => {\n",
              "        google.colab.notebook.generateWithVariable('df_importancia_arbol');\n",
              "      }\n",
              "      })();\n",
              "    </script>\n",
              "  </div>\n",
              "\n",
              "    </div>\n",
              "  </div>\n"
            ],
            "application/vnd.google.colaboratory.intrinsic+json": {
              "type": "dataframe",
              "variable_name": "df_importancia_arbol",
              "summary": "{\n  \"name\": \"df_importancia_arbol\",\n  \"rows\": 10,\n  \"fields\": [\n    {\n      \"column\": \"Variable\",\n      \"properties\": {\n        \"dtype\": \"string\",\n        \"num_unique_values\": 10,\n        \"samples\": [\n          \"onehotencoder__metodoPago_Credit card (automatic)\",\n          \"remainder__gastosMensuales\",\n          \"onehotencoder__mayor65_1\"\n        ],\n        \"semantic_type\": \"\",\n        \"description\": \"\"\n      }\n    },\n    {\n      \"column\": \"Importancia\",\n      \"properties\": {\n        \"dtype\": \"number\",\n        \"std\": 0.12593431621650808,\n        \"min\": 0.01094352539598554,\n        \"max\": 0.2994834485641543,\n        \"num_unique_values\": 10,\n        \"samples\": [\n          0.01364878695998488,\n          0.29878783393034924,\n          0.020714542804775513\n        ],\n        \"semantic_type\": \"\",\n        \"description\": \"\"\n      }\n    }\n  ]\n}"
            }
          },
          "metadata": {},
          "execution_count": 60
        }
      ]
    },
    {
      "cell_type": "markdown",
      "source": [
        "##11.- Conclusiones:"
      ],
      "metadata": {
        "id": "iRpTtX5wFYb5"
      }
    },
    {
      "cell_type": "markdown",
      "source": [
        "Se encontro que el mejor modelo para detectar posibles cancelaciones es el Random Forest ya que fue el mas equilibrado en todas sus metricas."
      ],
      "metadata": {
        "id": "ZmLe-hoaj3lK"
      }
    },
    {
      "cell_type": "markdown",
      "source": [
        "![comparacion1.png](data:image/png;base64,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)"
      ],
      "metadata": {
        "id": "pnz75EI4jgDK"
      }
    },
    {
      "cell_type": "markdown",
      "source": [
        "##12.- Interpretación de Resultados\n",
        "\n",
        "El análisis de las variables asociadas al abandono de clientes permite identificar patrones relevantes para la comprensión del fenómeno de cancelación:  \n",
        "\n",
        "1. **Antigüedad del cliente**  \n",
        "   Los resultados evidencian que los clientes con menor tiempo de permanencia presentan una **mayor probabilidad de cancelación**. Esto sugiere que las fases iniciales del ciclo de vida del cliente constituyen un periodo crítico, en el cual la consolidación de la relación comercial y la generación de confianza resultan determinantes para la retención.  \n",
        "\n",
        "2. **Nivel de uso y facturación**  \n",
        "   Se observa que los clientes con **bajos niveles de uso o facturación** tienden a presentar una **percepción reducida del valor del servicio**. Esta situación puede derivar en una menor motivación para mantener la suscripción, lo que incrementa la probabilidad de abandono.  \n",
        "\n",
        "3. **Reclamos y quejas**  \n",
        "   Una **alta frecuencia de reclamos** se erige como un **indicador sólido de insatisfacción**. Este hallazgo coincide con la literatura sobre gestión de clientes, que señala la relación directa entre experiencias negativas recurrentes y la decisión de cancelación.  \n",
        "\n",
        "4. **Edad del cliente**  \n",
        "   La **edad se asocia de manera diferenciada con la propensión a cancelar**. Este comportamiento podría estar vinculado tanto al **tipo de servicio contratado** como al **nivel de tolerancia frente a problemas operativos o de atención al cliente**.  \n",
        "\n",
        "5. **Tiempo desde el último contacto**  \n",
        "   Finalmente, se detecta que una **mayor distancia temporal desde la última interacción con la empresa** constituye un **predictor significativo de cancelación**. Este hallazgo sugiere que la desconexión progresiva entre el cliente y la organización puede anticipar la decisión de abandono.  \n",
        "\n",
        "---\n",
        "\n",
        "En conjunto, estos resultados subrayan la importancia de diseñar **estrategias de retención** orientadas a:  \n",
        "- Fortalecer la relación durante los primeros meses del ciclo de vida del cliente.  \n",
        "- Incrementar la percepción de valor mediante un uso activo del servicio.  \n",
        "- Gestionar de manera eficiente los reclamos para reducir la insatisfacción.  \n",
        "- Mantener interacciones frecuentes que prevengan la desconexión progresiva."
      ],
      "metadata": {
        "id": "lS-jGHAjjy6K"
      }
    },
    {
      "cell_type": "markdown",
      "source": [],
      "metadata": {
        "id": "Qzx5PMg6mOQw"
      }
    }
  ]
}